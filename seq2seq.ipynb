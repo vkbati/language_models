{
 "cells": [
  {
   "cell_type": "markdown",
   "id": "56eb0dc7",
   "metadata": {
    "papermill": {
     "duration": 0.022099,
     "end_time": "2023-11-21T20:32:08.370966",
     "exception": false,
     "start_time": "2023-11-21T20:32:08.348867",
     "status": "completed"
    },
    "tags": []
   },
   "source": [
    "# Assignment 4: Seq2seq\n",
    "_Word Representations and Language Models (WS 23/24)_\n",
    "\n",
    "\n",
    "***\n",
    "\n",
    "In this week's assignment, you will learn how to train a sequence-to-sequence model for translating text from German into English. First, you will train a custom LSTM model from scratch using a parallel corpus. Next, you will evaluate the model by comparing the prediction with the correct translation. Finally, you will compare your LSTM model with a state-of-the-art transformer-based model.\n",
    "\n"
   ]
  },
  {
   "cell_type": "code",
   "execution_count": 1,
   "id": "77e2695c",
   "metadata": {
    "execution": {
     "iopub.execute_input": "2023-11-21T20:32:08.409123Z",
     "iopub.status.busy": "2023-11-21T20:32:08.408741Z",
     "iopub.status.idle": "2023-11-21T20:32:16.489949Z",
     "shell.execute_reply": "2023-11-21T20:32:16.488911Z"
    },
    "papermill": {
     "duration": 8.103331,
     "end_time": "2023-11-21T20:32:16.492861",
     "exception": false,
     "start_time": "2023-11-21T20:32:08.389530",
     "status": "completed"
    },
    "tags": []
   },
   "outputs": [],
   "source": [
    "from sklearn.model_selection import train_test_split\n",
    "from nltk.metrics import edit_distance \n",
    "from time import time\n",
    "import matplotlib.pyplot as plt\n",
    "import numpy as np\n",
    "import pandas as pd\n",
    "import keras\n",
    "import json\n",
    "\n",
    "import torch\n",
    "import torchtext\n",
    "from torchtext.vocab import build_vocab_from_iterator\n",
    "from torchtext.data.utils import get_tokenizer"
   ]
  },
  {
   "cell_type": "markdown",
   "id": "a8c1a4c5",
   "metadata": {
    "papermill": {
     "duration": 0.01898,
     "end_time": "2023-11-21T20:32:16.530909",
     "exception": false,
     "start_time": "2023-11-21T20:32:16.511929",
     "status": "completed"
    },
    "tags": []
   },
   "source": [
    "## Task 1: Load and Preprocess Dataset\n",
    "\n",
    "Sequence-to-Sequence (seq2seq) models can be used in various NLP tasks, including entity recognition and text summarization. In this assignment, neural machine translation is the main topic, where sentences serve as both the input and the output. "
   ]
  },
  {
   "cell_type": "markdown",
   "id": "ce92f6fc",
   "metadata": {
    "papermill": {
     "duration": 0.019872,
     "end_time": "2023-11-21T20:32:16.570423",
     "exception": false,
     "start_time": "2023-11-21T20:32:16.550551",
     "status": "completed"
    },
    "tags": []
   },
   "source": [
    "<div style=\"position:relative;padding:.75rem 1.25rem;margin-bottom:1rem;border:1px solid transparent;border-radius:.25rem;background-color:#dae8fc;border-color:#6c8ebf;color:#0c5460\">\n",
    "<b>Step 1: Load the Dataset</b> \n",
    "</div>\n",
    "\n",
    "Fist, you need to obtain some training data from [manythings.org/anki/](http://www.manythings.org/anki/). This website provides datasets for various languages, which we will use to train our model for translating text into English. We ask you to complete the following steps:\n",
    "\n",
    "1. Choose one of the datasets containing sentence pairs. In general, you can pick any language, but you may encounter unique problems with some of them. If you want to play it safe, use the [German](http://www.manythings.org/anki/deu-eng.zip) variant. You also want to choose a language with at least a few thousand sentence pairs available. Download the .zip file in the language you would like to work with.\n",
    "2. Next, create a dataset on kaggle. This allows us to access the dataset more conveniently. We suggest using the \"Upload Data\" Option in the data section on the right-hand side. \n",
    "3. Read the text file containing the sentence pairs. Notice that the text file is tab delimited. You may want to limit the size of the dataset to 50000 sentence pairs, to keep training times acceptable. But feel free to experiment with bigger corpora.\n",
    "4. Print the first five rows of your dataset."
   ]
  },
  {
   "cell_type": "code",
   "execution_count": 2,
   "id": "c4a8a833",
   "metadata": {
    "execution": {
     "iopub.execute_input": "2023-11-21T20:32:16.610236Z",
     "iopub.status.busy": "2023-11-21T20:32:16.609085Z",
     "iopub.status.idle": "2023-11-21T20:32:17.984712Z",
     "shell.execute_reply": "2023-11-21T20:32:17.983751Z"
    },
    "papermill": {
     "duration": 1.398781,
     "end_time": "2023-11-21T20:32:17.987784",
     "exception": false,
     "start_time": "2023-11-21T20:32:16.589003",
     "status": "completed"
    },
    "tags": []
   },
   "outputs": [
    {
     "data": {
      "text/html": [
       "<div>\n",
       "<style scoped>\n",
       "    .dataframe tbody tr th:only-of-type {\n",
       "        vertical-align: middle;\n",
       "    }\n",
       "\n",
       "    .dataframe tbody tr th {\n",
       "        vertical-align: top;\n",
       "    }\n",
       "\n",
       "    .dataframe thead th {\n",
       "        text-align: right;\n",
       "    }\n",
       "</style>\n",
       "<table border=\"1\" class=\"dataframe\">\n",
       "  <thead>\n",
       "    <tr style=\"text-align: right;\">\n",
       "      <th></th>\n",
       "      <th>english</th>\n",
       "      <th>german</th>\n",
       "    </tr>\n",
       "  </thead>\n",
       "  <tbody>\n",
       "    <tr>\n",
       "      <th>255812</th>\n",
       "      <td>If someone who doesn't know your background sa...</td>\n",
       "      <td>Wenn jemand Fremdes dir sagt, dass du dich wie...</td>\n",
       "    </tr>\n",
       "    <tr>\n",
       "      <th>255813</th>\n",
       "      <td>If someone who doesn't know your background sa...</td>\n",
       "      <td>Wenn jemand, der nicht weiß, woher man kommt, ...</td>\n",
       "    </tr>\n",
       "    <tr>\n",
       "      <th>255814</th>\n",
       "      <td>It may be impossible to get a completely error...</td>\n",
       "      <td>Es ist wohl unmöglich, einen vollkommen fehler...</td>\n",
       "    </tr>\n",
       "    <tr>\n",
       "      <th>255815</th>\n",
       "      <td>I know that adding sentences only in your nati...</td>\n",
       "      <td>Ich weiß wohl, dass das ausschließliche Beitra...</td>\n",
       "    </tr>\n",
       "    <tr>\n",
       "      <th>255816</th>\n",
       "      <td>Doubtless there exists in this world precisely...</td>\n",
       "      <td>Ohne Zweifel findet sich auf dieser Welt zu je...</td>\n",
       "    </tr>\n",
       "  </tbody>\n",
       "</table>\n",
       "</div>"
      ],
      "text/plain": [
       "                                                  english  \\\n",
       "255812  If someone who doesn't know your background sa...   \n",
       "255813  If someone who doesn't know your background sa...   \n",
       "255814  It may be impossible to get a completely error...   \n",
       "255815  I know that adding sentences only in your nati...   \n",
       "255816  Doubtless there exists in this world precisely...   \n",
       "\n",
       "                                                   german  \n",
       "255812  Wenn jemand Fremdes dir sagt, dass du dich wie...  \n",
       "255813  Wenn jemand, der nicht weiß, woher man kommt, ...  \n",
       "255814  Es ist wohl unmöglich, einen vollkommen fehler...  \n",
       "255815  Ich weiß wohl, dass das ausschließliche Beitra...  \n",
       "255816  Ohne Zweifel findet sich auf dieser Welt zu je...  "
      ]
     },
     "execution_count": 2,
     "metadata": {},
     "output_type": "execute_result"
    }
   ],
   "source": [
    "# Function which reads txt file and returns a dataframe\n",
    "def read_text_file(path, lang_1, lang_2):\n",
    "    df = pd.read_csv(path, delimiter='\\t', header=None, names=[lang_1, lang_2, \"license\"])\n",
    "    df.drop(columns=[\"license\"], inplace=True)\n",
    "    return df\n",
    "\n",
    "# Read txt file\n",
    "path = \"/kaggle/input/bilingual-sentence-pairs-deueng/deu.txt\"\n",
    "sentence_pairs = read_text_file(path, \"english\", \"german\")\n",
    "sentence_pairs.tail()"
   ]
  },
  {
   "cell_type": "code",
   "execution_count": 3,
   "id": "2bd9d1d6",
   "metadata": {
    "execution": {
     "iopub.execute_input": "2023-11-21T20:32:18.026441Z",
     "iopub.status.busy": "2023-11-21T20:32:18.026102Z",
     "iopub.status.idle": "2023-11-21T20:32:18.046555Z",
     "shell.execute_reply": "2023-11-21T20:32:18.045826Z"
    },
    "papermill": {
     "duration": 0.042054,
     "end_time": "2023-11-21T20:32:18.048646",
     "exception": false,
     "start_time": "2023-11-21T20:32:18.006592",
     "status": "completed"
    },
    "tags": []
   },
   "outputs": [],
   "source": [
    "# Limit the size of the training corpus\n",
    "sentence_pairs = sentence_pairs.sample(n=50000, random_state=42)"
   ]
  },
  {
   "cell_type": "markdown",
   "id": "53ed11d8",
   "metadata": {
    "papermill": {
     "duration": 0.018287,
     "end_time": "2023-11-21T20:32:18.085391",
     "exception": false,
     "start_time": "2023-11-21T20:32:18.067104",
     "status": "completed"
    },
    "tags": []
   },
   "source": [
    "<div style=\"position:relative;padding:.75rem 1.25rem;margin-bottom:1rem;border:1px solid transparent;border-radius:.25rem;background-color:#dae8fc;border-color:#6c8ebf;color:#0c5460\">\n",
    "<b>Step 2: Preprocessing</b> \n",
    "</div>\n",
    "\n",
    "Now that you have imported the dataset, we ask you to perform a series of preprocessing steps. Those will make training easier.\n",
    "\n",
    "1. Remove the unnecessary third column containing licence information from the data set.\n",
    "2. Transform both sentences into lower case.\n"
   ]
  },
  {
   "cell_type": "code",
   "execution_count": 4,
   "id": "3706b6b1",
   "metadata": {
    "execution": {
     "iopub.execute_input": "2023-11-21T20:32:18.123521Z",
     "iopub.status.busy": "2023-11-21T20:32:18.123199Z",
     "iopub.status.idle": "2023-11-21T20:32:18.200780Z",
     "shell.execute_reply": "2023-11-21T20:32:18.199883Z"
    },
    "papermill": {
     "duration": 0.099089,
     "end_time": "2023-11-21T20:32:18.203005",
     "exception": false,
     "start_time": "2023-11-21T20:32:18.103916",
     "status": "completed"
    },
    "tags": []
   },
   "outputs": [
    {
     "data": {
      "text/html": [
       "<div>\n",
       "<style scoped>\n",
       "    .dataframe tbody tr th:only-of-type {\n",
       "        vertical-align: middle;\n",
       "    }\n",
       "\n",
       "    .dataframe tbody tr th {\n",
       "        vertical-align: top;\n",
       "    }\n",
       "\n",
       "    .dataframe thead th {\n",
       "        text-align: right;\n",
       "    }\n",
       "</style>\n",
       "<table border=\"1\" class=\"dataframe\">\n",
       "  <thead>\n",
       "    <tr style=\"text-align: right;\">\n",
       "      <th></th>\n",
       "      <th>english</th>\n",
       "      <th>german</th>\n",
       "    </tr>\n",
       "  </thead>\n",
       "  <tbody>\n",
       "    <tr>\n",
       "      <th>203106</th>\n",
       "      <td>i worked three years as tom's assistant.</td>\n",
       "      <td>ich habe drei jahre als toms assistent gearbei...</td>\n",
       "    </tr>\n",
       "    <tr>\n",
       "      <th>70627</th>\n",
       "      <td>why are you still here?</td>\n",
       "      <td>warum sind sie noch hier?</td>\n",
       "    </tr>\n",
       "    <tr>\n",
       "      <th>42032</th>\n",
       "      <td>tom can hardly walk.</td>\n",
       "      <td>tom kann kaum laufen.</td>\n",
       "    </tr>\n",
       "    <tr>\n",
       "      <th>157030</th>\n",
       "      <td>i brush my teeth after breakfast.</td>\n",
       "      <td>nach dem frühstück putze ich mir die zähne.</td>\n",
       "    </tr>\n",
       "    <tr>\n",
       "      <th>96310</th>\n",
       "      <td>the jury found tom guilty.</td>\n",
       "      <td>die geschworenen befanden tom für schuldig.</td>\n",
       "    </tr>\n",
       "  </tbody>\n",
       "</table>\n",
       "</div>"
      ],
      "text/plain": [
       "                                         english  \\\n",
       "203106  i worked three years as tom's assistant.   \n",
       "70627                    why are you still here?   \n",
       "42032                       tom can hardly walk.   \n",
       "157030         i brush my teeth after breakfast.   \n",
       "96310                 the jury found tom guilty.   \n",
       "\n",
       "                                                   german  \n",
       "203106  ich habe drei jahre als toms assistent gearbei...  \n",
       "70627                           warum sind sie noch hier?  \n",
       "42032                               tom kann kaum laufen.  \n",
       "157030        nach dem frühstück putze ich mir die zähne.  \n",
       "96310         die geschworenen befanden tom für schuldig.  "
      ]
     },
     "execution_count": 4,
     "metadata": {},
     "output_type": "execute_result"
    }
   ],
   "source": [
    "# Transform sentences into lower case\n",
    "sentence_pairs[\"english\"] = sentence_pairs['english'].str.lower()\n",
    "sentence_pairs[\"german\"] = sentence_pairs['german'].str.lower()\n",
    "\n",
    "sentence_pairs.tail()"
   ]
  },
  {
   "cell_type": "markdown",
   "id": "c715efb9",
   "metadata": {
    "papermill": {
     "duration": 0.018792,
     "end_time": "2023-11-21T20:32:18.240805",
     "exception": false,
     "start_time": "2023-11-21T20:32:18.222013",
     "status": "completed"
    },
    "tags": []
   },
   "source": [
    "<div style=\"position:relative;padding:.75rem 1.25rem;margin-bottom:1rem;border:1px solid transparent;border-radius:.25rem;background-color:#dae8fc;border-color:#6c8ebf;color:#0c5460\">\n",
    "<b>Step 3: Encode & Decode Text Sequences</b> \n",
    "</div>\n",
    "\n",
    "A Seq2Seq model requires that we convert the input and output into integer sequences of a fixed length. To achieve this, we can use the [Tokenizer](https://pytorch.org/text/stable/data_utils.html#torchtext.data.utils.get_tokenizer) provided by PyTorch. We ask you to implement the following steps:\n",
    "\n",
    "1. Calculate the maximum sequence length (number of tokens) for both languages (i.e. the longest sentence). You will need this information later to pad the input sequence.\n",
    "2. Create tokenizers for both languages in your training corpus using the [get_tokenizer()](https://pytorch.org/text/stable/data_utils.html#torchtext.data.utils.get_tokenizer) method, and build the corresponding vocabularies with the [build_vocab_from_iterator()](https://pytorch.org/text/stable/vocab.html#build-vocab-from-iterator) method. Print the sizes of the resulting vocabulary.\n",
    "3. Implement a function `encodeSequence()` that uses the tokenizers to encode the sentences in your corpus to vectors, which we can feed into the model for training. Note that you also need to pad the sequence to the maximal length occurring for each language. This is where the maximum sequence lengths are helpful. [Consider this example](https://pytorch.org/tutorials/beginner/torchtext_translation_tutorial.html#data-processing).\n",
    "4. Implement a function `decodeSquence()` that converts the vectors back to text. We will use the function later to compare the predictions of our model to the correct translations.\n",
    "5. Test your functions by first encoding a German and English sentence and then decoding the token ID vector back into textual form. You can source your example from the dataset or get creative by coming up with  your own example sentence.\n"
   ]
  },
  {
   "cell_type": "markdown",
   "id": "bbc9e346",
   "metadata": {
    "papermill": {
     "duration": 0.018574,
     "end_time": "2023-11-21T20:32:18.278049",
     "exception": false,
     "start_time": "2023-11-21T20:32:18.259475",
     "status": "completed"
    },
    "tags": []
   },
   "source": [
    "<img src='data:image/svg+xml;base64,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'/>"
   ]
  },
  {
   "cell_type": "code",
   "execution_count": 5,
   "id": "571a2ccc",
   "metadata": {
    "execution": {
     "iopub.execute_input": "2023-11-21T20:32:18.317133Z",
     "iopub.status.busy": "2023-11-21T20:32:18.316812Z",
     "iopub.status.idle": "2023-11-21T20:32:19.854873Z",
     "shell.execute_reply": "2023-11-21T20:32:19.853639Z"
    },
    "papermill": {
     "duration": 1.560627,
     "end_time": "2023-11-21T20:32:19.857518",
     "exception": false,
     "start_time": "2023-11-21T20:32:18.296891",
     "status": "completed"
    },
    "tags": []
   },
   "outputs": [],
   "source": [
    "# Initiate the tokenizer\n",
    "tokenizer = get_tokenizer(\"basic_english\")\n",
    "\n",
    "# Tokenizer helper function\n",
    "def yield_tokens(data, tokenizer):\n",
    "    for line in data:\n",
    "        yield tokenizer(line)\n",
    "\n",
    "# List of special tokens to be added to the vocabulary        \n",
    "special_tokens = [\n",
    "    \"<pad>\",   # Padding token for sequence padding\n",
    "    \"<unk>\",   # Unknown token for out-of-vocabulary words\n",
    "    \"<sos>\",   # Start-of-sequence token to indicate the beginning of a sequence\n",
    "    \"<eos>\"    # End-of-sequence token to indicate the end of a sequence\n",
    "]\n",
    "        \n",
    "# Build vocabulary for english\n",
    "sents_en = sentence_pairs[\"english\"].tolist()\n",
    "vocab_en = build_vocab_from_iterator(yield_tokens(sents_en, tokenizer), specials=special_tokens)\n",
    "\n",
    "# Build vocabulary for german\n",
    "sents_de = sentence_pairs[\"german\"].tolist()\n",
    "vocab_de = build_vocab_from_iterator(yield_tokens(sents_de, tokenizer), specials=special_tokens)\n",
    "\n",
    "# Set default index for unknown tokens\n",
    "vocab_en.set_default_index(vocab_en[\"<unk>\"])\n",
    "vocab_de.set_default_index(vocab_de[\"<unk>\"])"
   ]
  },
  {
   "cell_type": "code",
   "execution_count": 6,
   "id": "4f17daa9",
   "metadata": {
    "execution": {
     "iopub.execute_input": "2023-11-21T20:32:19.898419Z",
     "iopub.status.busy": "2023-11-21T20:32:19.898033Z",
     "iopub.status.idle": "2023-11-21T20:32:19.903643Z",
     "shell.execute_reply": "2023-11-21T20:32:19.902659Z"
    },
    "papermill": {
     "duration": 0.028199,
     "end_time": "2023-11-21T20:32:19.906167",
     "exception": false,
     "start_time": "2023-11-21T20:32:19.877968",
     "status": "completed"
    },
    "tags": []
   },
   "outputs": [
    {
     "name": "stdout",
     "output_type": "stream",
     "text": [
      "Tokens in English Vocabulary:\t 9765\n",
      "Tokens in German Vocabulary:\t 17491\n"
     ]
    }
   ],
   "source": [
    "# Get number of tokens in vocabulary\n",
    "eng_vocab_size = len(vocab_en)\n",
    "deu_vocab_size = len(vocab_de)\n",
    "\n",
    "# Print vocabulary sizes\n",
    "print('Tokens in English Vocabulary:\\t', eng_vocab_size)\n",
    "print('Tokens in German Vocabulary:\\t', deu_vocab_size)"
   ]
  },
  {
   "cell_type": "code",
   "execution_count": 7,
   "id": "434497b2",
   "metadata": {
    "execution": {
     "iopub.execute_input": "2023-11-21T20:32:19.945766Z",
     "iopub.status.busy": "2023-11-21T20:32:19.945476Z",
     "iopub.status.idle": "2023-11-21T20:32:19.952450Z",
     "shell.execute_reply": "2023-11-21T20:32:19.951563Z"
    },
    "papermill": {
     "duration": 0.029034,
     "end_time": "2023-11-21T20:32:19.954420",
     "exception": false,
     "start_time": "2023-11-21T20:32:19.925386",
     "status": "completed"
    },
    "tags": []
   },
   "outputs": [],
   "source": [
    "# Function to convert sentences to vectors\n",
    "def encodeSequence(vocab, max_length, sent):\n",
    "    \"\"\"Tokenize a sentence, convert tokens to IDs, and pad the sequence.\"\"\"\n",
    "    \n",
    "    # Tokenize the sentence and convert to indices;\n",
    "    # Prepend start token and append end token\n",
    "    token_indices = [vocab['<sos>']] + [vocab[token] for token in tokenizer(sent)] + [vocab['<eos>']]\n",
    "\n",
    "    # Pad the sequence to the specified max_length using the padding token ID (0)\n",
    "    length = min(len(token_indices), max_length)\n",
    "    sequence_padded = torch.zeros(max_length, dtype=torch.long)\n",
    "    sequence_padded[:length] = torch.tensor(token_indices[:length], dtype=torch.long)\n",
    "\n",
    "    return sequence_padded"
   ]
  },
  {
   "cell_type": "code",
   "execution_count": 8,
   "id": "7b69f24c",
   "metadata": {
    "execution": {
     "iopub.execute_input": "2023-11-21T20:32:19.995007Z",
     "iopub.status.busy": "2023-11-21T20:32:19.994455Z",
     "iopub.status.idle": "2023-11-21T20:32:20.000711Z",
     "shell.execute_reply": "2023-11-21T20:32:19.999799Z"
    },
    "papermill": {
     "duration": 0.028153,
     "end_time": "2023-11-21T20:32:20.002652",
     "exception": false,
     "start_time": "2023-11-21T20:32:19.974499",
     "status": "completed"
    },
    "tags": []
   },
   "outputs": [],
   "source": [
    "# Function to convert vectors to sentences\n",
    "def decodeSequence(sequence, index_to_word, sos_index, eos_index):\n",
    "    \"\"\"Converts a list of token IDs to text.\"\"\"\n",
    "    \n",
    "    decoded_sequence = []\n",
    "    for idx in sequence:\n",
    "        if idx == sos_index:  # Skip the SOS token\n",
    "            continue\n",
    "        if idx == eos_index:  # Stop at the first EOS token\n",
    "            break\n",
    "        word = index_to_word[idx] if idx < len(index_to_word) else \"<unk>\"\n",
    "        decoded_sequence.append(word)\n",
    "    return ' '.join(decoded_sequence)"
   ]
  },
  {
   "cell_type": "code",
   "execution_count": 9,
   "id": "f949aca9",
   "metadata": {
    "execution": {
     "iopub.execute_input": "2023-11-21T20:32:20.042801Z",
     "iopub.status.busy": "2023-11-21T20:32:20.041956Z",
     "iopub.status.idle": "2023-11-21T20:32:20.430318Z",
     "shell.execute_reply": "2023-11-21T20:32:20.428935Z"
    },
    "papermill": {
     "duration": 0.410739,
     "end_time": "2023-11-21T20:32:20.432597",
     "exception": false,
     "start_time": "2023-11-21T20:32:20.021858",
     "status": "completed"
    },
    "tags": []
   },
   "outputs": [
    {
     "name": "stdout",
     "output_type": "stream",
     "text": [
      "Maximum sequence length in English:\t 101\n",
      "Maximum sequence length in German:\t 76\n"
     ]
    }
   ],
   "source": [
    "# Find maximum length for english languages\n",
    "lengths_en = sentence_pairs[\"english\"].str.split().apply(len)\n",
    "max_length_en = max(lengths_en.to_list())\n",
    "\n",
    "# Find maximum length for german languages\n",
    "lengths_de = sentence_pairs[\"german\"].str.split().apply(len)\n",
    "max_length_de = max(lengths_de.to_list())\n",
    "\n",
    "print('Maximum sequence length in English:\\t %d' % max_length_en)\n",
    "print('Maximum sequence length in German:\\t %d' % max_length_de)"
   ]
  },
  {
   "cell_type": "markdown",
   "id": "abb292c0",
   "metadata": {
    "papermill": {
     "duration": 0.019384,
     "end_time": "2023-11-21T20:32:20.472200",
     "exception": false,
     "start_time": "2023-11-21T20:32:20.452816",
     "status": "completed"
    },
    "tags": []
   },
   "source": [
    "Now we can convert the text into numeric values, i.e. tokenize the data. This lets the neural network work with the input data. When we run the tokenizer, it creates a vocabulary which is used to convert each sentence into a vector. When we feed our sequences of word IDs into the model, each sequence must be the same length. To achieve this, a padding is added to each sequence that is shorter than the maximum length."
   ]
  },
  {
   "cell_type": "code",
   "execution_count": 10,
   "id": "f71fc9c7",
   "metadata": {
    "execution": {
     "iopub.execute_input": "2023-11-21T20:32:20.513514Z",
     "iopub.status.busy": "2023-11-21T20:32:20.512881Z",
     "iopub.status.idle": "2023-11-21T20:32:20.519923Z",
     "shell.execute_reply": "2023-11-21T20:32:20.518532Z"
    },
    "papermill": {
     "duration": 0.030484,
     "end_time": "2023-11-21T20:32:20.522052",
     "exception": false,
     "start_time": "2023-11-21T20:32:20.491568",
     "status": "completed"
    },
    "tags": []
   },
   "outputs": [
    {
     "name": "stdout",
     "output_type": "stream",
     "text": [
      "Sentence encoded as vector constructed out of word IDs:\n",
      "[2, 6, 213, 13, 391, 1, 19, 10, 476, 171, 3, 0, 0, 0, 0, 0, 0, 0, 0, 0, 0, 0, 0, 0, 0, 0, 0, 0, 0, 0, 0, 0, 0, 0, 0, 0, 0, 0, 0, 0, 0, 0, 0, 0, 0, 0, 0, 0, 0, 0, 0, 0, 0, 0, 0, 0, 0, 0, 0, 0, 0, 0, 0, 0, 0, 0, 0, 0, 0, 0, 0, 0, 0, 0, 0, 0, 0, 0, 0, 0, 0, 0, 0, 0, 0, 0, 0, 0, 0, 0, 0, 0, 0, 0, 0, 0, 0, 0, 0, 0, 0]\n"
     ]
    }
   ],
   "source": [
    "# Example sentences to test (\"abc\" to simulate unknown token)\n",
    "example = \"I saw a cat abcd in the park!\"\n",
    "\n",
    "# Encode the sentences using the previously defined function\n",
    "example_encoded = encodeSequence(vocab_en, max_length_en, example)\n",
    "\n",
    "# Print the encoded sequence\n",
    "print(\"Sentence encoded as vector constructed out of word IDs:\\n\" + str(example_encoded.tolist()))\n"
   ]
  },
  {
   "cell_type": "code",
   "execution_count": 11,
   "id": "4a67194e",
   "metadata": {
    "execution": {
     "iopub.execute_input": "2023-11-21T20:32:20.562267Z",
     "iopub.status.busy": "2023-11-21T20:32:20.561975Z",
     "iopub.status.idle": "2023-11-21T20:32:20.569186Z",
     "shell.execute_reply": "2023-11-21T20:32:20.568149Z"
    },
    "papermill": {
     "duration": 0.02961,
     "end_time": "2023-11-21T20:32:20.571190",
     "exception": false,
     "start_time": "2023-11-21T20:32:20.541580",
     "status": "completed"
    },
    "tags": []
   },
   "outputs": [
    {
     "name": "stdout",
     "output_type": "stream",
     "text": [
      "Token IDs decoded:\n",
      "i saw a cat <unk> in the park !\n"
     ]
    }
   ],
   "source": [
    "# Decode the sentences using the previously defined function\n",
    "example_decoded = decodeSequence(example_encoded, vocab_en.get_itos(), vocab_en['<sos>'], vocab_en['<eos>'])\n",
    "\n",
    "# Print the encoded sequence\n",
    "print(\"Token IDs decoded:\\n\" + str(example_decoded))"
   ]
  },
  {
   "cell_type": "code",
   "execution_count": 12,
   "id": "57dfb310",
   "metadata": {
    "execution": {
     "iopub.execute_input": "2023-11-21T20:32:20.611047Z",
     "iopub.status.busy": "2023-11-21T20:32:20.610775Z",
     "iopub.status.idle": "2023-11-21T20:32:20.616453Z",
     "shell.execute_reply": "2023-11-21T20:32:20.615554Z"
    },
    "papermill": {
     "duration": 0.028507,
     "end_time": "2023-11-21T20:32:20.618950",
     "exception": false,
     "start_time": "2023-11-21T20:32:20.590443",
     "status": "completed"
    },
    "tags": []
   },
   "outputs": [
    {
     "name": "stdout",
     "output_type": "stream",
     "text": [
      "Sentence encoded as vector constructed out of word IDs:\n",
      "[2, 6, 255, 33, 406, 57, 979, 27, 3, 0, 0, 0, 0, 0, 0, 0, 0, 0, 0, 0, 0, 0, 0, 0, 0, 0, 0, 0, 0, 0, 0, 0, 0, 0, 0, 0, 0, 0, 0, 0, 0, 0, 0, 0, 0, 0, 0, 0, 0, 0, 0, 0, 0, 0, 0, 0, 0, 0, 0, 0, 0, 0, 0, 0, 0, 0, 0, 0, 0, 0, 0, 0, 0, 0, 0, 0]\n"
     ]
    }
   ],
   "source": [
    "# Example sentences to test \n",
    "examples = \"Ich sah eine Katze im Park!\"\n",
    "\n",
    "# Encode the sentences using the previously defined function\n",
    "test_sequence = encodeSequence(vocab_de, max_length_de, examples)\n",
    "\n",
    "# Print the encoded sequence\n",
    "print(\"Sentence encoded as vector constructed out of word IDs:\\n\" + str(test_sequence.tolist()))"
   ]
  },
  {
   "cell_type": "markdown",
   "id": "7896f246",
   "metadata": {
    "execution": {
     "iopub.execute_input": "2022-11-23T10:02:20.803974Z",
     "iopub.status.busy": "2022-11-23T10:02:20.803506Z",
     "iopub.status.idle": "2022-11-23T10:02:20.833972Z",
     "shell.execute_reply": "2022-11-23T10:02:20.832615Z",
     "shell.execute_reply.started": "2022-11-23T10:02:20.80394Z"
    },
    "papermill": {
     "duration": 0.019061,
     "end_time": "2023-11-21T20:32:20.658082",
     "exception": false,
     "start_time": "2023-11-21T20:32:20.639021",
     "status": "completed"
    },
    "tags": []
   },
   "source": [
    "<b>Step 3: Split Corpus into Training- and Test-Datasets</b> \n",
    "</div>\n",
    "\n",
    "As the final preprocessing step, we ask you to split the dataset into a training and test set before encoding them separately using the function we defined earlier. Please complete the following tasks:\n",
    "\n",
    "1. Obtain a train and test dataset by splitting the corpus. The training dataset should contain roughly 80% of all sentences. You may want to restrict your test dataset even further due to memory restrictions. \n",
    "2. Encode all sentences using the tokenizers you created earlier. Also, don't forget to pad the input and output sequence."
   ]
  },
  {
   "cell_type": "code",
   "execution_count": 13,
   "id": "c4d258eb",
   "metadata": {
    "execution": {
     "iopub.execute_input": "2023-11-21T20:32:20.697755Z",
     "iopub.status.busy": "2023-11-21T20:32:20.697493Z",
     "iopub.status.idle": "2023-11-21T20:32:20.709481Z",
     "shell.execute_reply": "2023-11-21T20:32:20.708569Z"
    },
    "papermill": {
     "duration": 0.033918,
     "end_time": "2023-11-21T20:32:20.711447",
     "exception": false,
     "start_time": "2023-11-21T20:32:20.677529",
     "status": "completed"
    },
    "tags": []
   },
   "outputs": [
    {
     "name": "stdout",
     "output_type": "stream",
     "text": [
      "Number of training examples: \t 49500\n",
      "Number of test examples: \t 500\n"
     ]
    }
   ],
   "source": [
    "# Split data into train and test set\n",
    "train, test = train_test_split(sentence_pairs, test_size=0.01, random_state = 42)\n",
    "\n",
    "print(f\"Number of training examples: \\t {train.shape[0]}\")\n",
    "print(f\"Number of test examples: \\t {test.shape[0]}\")"
   ]
  },
  {
   "cell_type": "markdown",
   "id": "2191ccf1",
   "metadata": {
    "papermill": {
     "duration": 0.019006,
     "end_time": "2023-11-21T20:32:20.749590",
     "exception": false,
     "start_time": "2023-11-21T20:32:20.730584",
     "status": "completed"
    },
    "tags": []
   },
   "source": [
    "We will use German and English sentences as the input and target sequence. But first we need to encode both sentences. This is needed for both the training and test datasets."
   ]
  },
  {
   "cell_type": "code",
   "execution_count": 14,
   "id": "aa03b930",
   "metadata": {
    "execution": {
     "iopub.execute_input": "2023-11-21T20:32:20.789374Z",
     "iopub.status.busy": "2023-11-21T20:32:20.789084Z",
     "iopub.status.idle": "2023-11-21T20:32:24.690899Z",
     "shell.execute_reply": "2023-11-21T20:32:24.689996Z"
    },
    "papermill": {
     "duration": 3.924934,
     "end_time": "2023-11-21T20:32:24.693638",
     "exception": false,
     "start_time": "2023-11-21T20:32:20.768704",
     "status": "completed"
    },
    "tags": []
   },
   "outputs": [],
   "source": [
    "# Encode sequences in training data\n",
    "train_X = [encodeSequence(vocab_de, max_length_de, sent) for sent in train[\"german\"].tolist()]\n",
    "train_y = [encodeSequence(vocab_en, max_length_en, sent) for sent in train[\"english\"].tolist()]\n",
    "\n",
    "# Encode sequences in test data\n",
    "test_X = [encodeSequence(vocab_de, max_length_de, sent) for sent in test[\"german\"].tolist()]\n",
    "test_y = [encodeSequence(vocab_en, max_length_en, sent) for sent in test[\"english\"].tolist()]"
   ]
  },
  {
   "cell_type": "markdown",
   "id": "d2622371",
   "metadata": {
    "papermill": {
     "duration": 0.019059,
     "end_time": "2023-11-21T20:32:24.734059",
     "exception": false,
     "start_time": "2023-11-21T20:32:24.715000",
     "status": "completed"
    },
    "tags": []
   },
   "source": [
    "## Task 2: Train Seq2seq Model"
   ]
  },
  {
   "cell_type": "markdown",
   "id": "b9753917",
   "metadata": {
    "papermill": {
     "duration": 0.019615,
     "end_time": "2023-11-21T20:32:24.773168",
     "exception": false,
     "start_time": "2023-11-21T20:32:24.753553",
     "status": "completed"
    },
    "tags": []
   },
   "source": [
    "<div style=\"position:relative;padding:.75rem 1.25rem;margin-bottom:1rem;border:1px solid transparent;border-radius:.25rem;background-color:#dae8fc;border-color:#6c8ebf;color:#0c5460\">\n",
    "<b>Step 1: Define the Model</b> \n",
    "</div>\n",
    "\n",
    "Since the data is now in the correct format, we can proceed with training a LSTM model. Below is a model definition that you can use. It is totally fine to use this simple model architecture, but feel free to optimize the architecture or come up with your own. Here are some ideas: you could increase the number of parameters, add layers, change the learning rate, etc. Here are some resources you can use as inspiration.\n",
    "\n",
    "Some Code Examples:\n",
    "\n",
    "* [Translation With a Sequence to Sequence Network and Attention](https://pytorch.org/tutorials/intermediate/seq2seq_translation_tutorial.html)\n",
    "* [Sequence to Sequence Learning with Neural Networks](https://github.com/bentrevett/pytorch-seq2seq/blob/master/1%20-%20Sequence%20to%20Sequence%20Learning%20with%20Neural%20Networks.ipynb)\n",
    "* [Neural Machine Translation by Jointly Learning to Align and Translate](https://github.com/bentrevett/pytorch-seq2seq/blob/master/3%20-%20Neural%20Machine%20Translation%20by%20Jointly%20Learning%20to%20Align%20and%20Translate.ipynb)\n",
    "\n",
    "Documentation:\n",
    "\n",
    "- [Dropout layer](https://pytorch.org/docs/stable/generated/torch.nn.Dropout.html)\n",
    "- [Dense layer](https://pytorch.org/docs/stable/generated/torch.nn.Linear.html#torch.nn.Linear)\n",
    "- [LSTM layer](https://pytorch.org/docs/stable/generated/torch.nn.LSTM.html#torch.nn.LSTM)\n",
    "- [GRU layer](https://pytorch.org/docs/stable/generated/torch.ao.nn.quantized.dynamic.GRU.html)\n",
    "- [Softmax layer](https://pytorch.org/docs/stable/generated/torch.nn.Softmax.html)\n",
    "- [Optimizers](https://pytorch.org/docs/stable/optim.html)"
   ]
  },
  {
   "cell_type": "code",
   "execution_count": 15,
   "id": "8f21d250",
   "metadata": {
    "execution": {
     "iopub.execute_input": "2023-11-21T20:32:24.814288Z",
     "iopub.status.busy": "2023-11-21T20:32:24.813933Z",
     "iopub.status.idle": "2023-11-21T20:32:24.819428Z",
     "shell.execute_reply": "2023-11-21T20:32:24.818419Z"
    },
    "papermill": {
     "duration": 0.028587,
     "end_time": "2023-11-21T20:32:24.821486",
     "exception": false,
     "start_time": "2023-11-21T20:32:24.792899",
     "status": "completed"
    },
    "tags": []
   },
   "outputs": [],
   "source": [
    "# Parameters\n",
    "in_vocab = deu_vocab_size # German vocab size\n",
    "out_vocab = eng_vocab_size # English vocab size\n",
    "in_timesteps = max_length_de # Length of the input sequence \n",
    "out_timesteps = max_length_en # Length of the output sequence \n",
    "units = 512 # Number of neurons\n",
    "learning_rate = 0.001 # Learning rate"
   ]
  },
  {
   "cell_type": "code",
   "execution_count": 16,
   "id": "7b839b38",
   "metadata": {
    "execution": {
     "iopub.execute_input": "2023-11-21T20:32:24.861459Z",
     "iopub.status.busy": "2023-11-21T20:32:24.860824Z",
     "iopub.status.idle": "2023-11-21T20:32:24.870295Z",
     "shell.execute_reply": "2023-11-21T20:32:24.869464Z"
    },
    "papermill": {
     "duration": 0.031938,
     "end_time": "2023-11-21T20:32:24.872605",
     "exception": false,
     "start_time": "2023-11-21T20:32:24.840667",
     "status": "completed"
    },
    "tags": []
   },
   "outputs": [],
   "source": [
    "## Model definition\n",
    "\n",
    "import torch\n",
    "import torch.nn as nn\n",
    "import torch.optim as optim\n",
    "\n",
    "class Seq2SeqModel(nn.Module):\n",
    "    def __init__(self, in_vocab, out_vocab, units, in_timesteps, out_timesteps):\n",
    "        super(Seq2SeqModel, self).__init__()\n",
    "        self.in_timesteps = in_timesteps\n",
    "        self.out_timesteps = out_timesteps\n",
    "        self.units = units\n",
    "        self.embedding = nn.Embedding(in_vocab, units, padding_idx=0)\n",
    "        self.lstm1 = nn.LSTM(units, units, batch_first=True)\n",
    "        self.lstm2 = nn.LSTM(units, units, batch_first=True)\n",
    "        self.dense = nn.Linear(units, out_vocab)\n",
    "\n",
    "    def forward(self, x):\n",
    "        x = self.embedding(x)\n",
    "        x = x.flip(1)  # Reverse the input sequence\n",
    "        x, _ = self.lstm1(x)\n",
    "\n",
    "        # Replicate the last output for the output sequence length\n",
    "        x = x[:, -1, :].unsqueeze(1).repeat(1, self.out_timesteps, 1)\n",
    "        \n",
    "        x, _ = self.lstm2(x)\n",
    "        x = self.dense(x)\n",
    "        return x"
   ]
  },
  {
   "cell_type": "code",
   "execution_count": 17,
   "id": "8045426f",
   "metadata": {
    "execution": {
     "iopub.execute_input": "2023-11-21T20:32:24.912845Z",
     "iopub.status.busy": "2023-11-21T20:32:24.912571Z",
     "iopub.status.idle": "2023-11-21T20:32:25.092567Z",
     "shell.execute_reply": "2023-11-21T20:32:25.091730Z"
    },
    "papermill": {
     "duration": 0.203128,
     "end_time": "2023-11-21T20:32:25.095018",
     "exception": false,
     "start_time": "2023-11-21T20:32:24.891890",
     "status": "completed"
    },
    "tags": []
   },
   "outputs": [],
   "source": [
    "# Model instantiation\n",
    "model = Seq2SeqModel(in_vocab, out_vocab, units, in_timesteps, out_timesteps)\n",
    "\n",
    "# Define optimizer and loss function\n",
    "optimizer = optim.RMSprop(model.parameters(), lr=learning_rate)\n",
    "loss_function = nn.CrossEntropyLoss(ignore_index=0)  # Assuming index 0 is for padding"
   ]
  },
  {
   "cell_type": "code",
   "execution_count": 18,
   "id": "cd556613",
   "metadata": {
    "execution": {
     "iopub.execute_input": "2023-11-21T20:32:25.135630Z",
     "iopub.status.busy": "2023-11-21T20:32:25.135300Z",
     "iopub.status.idle": "2023-11-21T20:32:25.140193Z",
     "shell.execute_reply": "2023-11-21T20:32:25.139268Z"
    },
    "papermill": {
     "duration": 0.027831,
     "end_time": "2023-11-21T20:32:25.142860",
     "exception": false,
     "start_time": "2023-11-21T20:32:25.115029",
     "status": "completed"
    },
    "tags": []
   },
   "outputs": [
    {
     "name": "stdout",
     "output_type": "stream",
     "text": [
      "Model Architecture: Seq2SeqModel(\n",
      "  (embedding): Embedding(17491, 512, padding_idx=0)\n",
      "  (lstm1): LSTM(512, 512, batch_first=True)\n",
      "  (lstm2): LSTM(512, 512, batch_first=True)\n",
      "  (dense): Linear(in_features=512, out_features=9765, bias=True)\n",
      ")\n"
     ]
    }
   ],
   "source": [
    "print(\"Model Architecture:\", model)"
   ]
  },
  {
   "cell_type": "markdown",
   "id": "b704d919",
   "metadata": {
    "papermill": {
     "duration": 0.019171,
     "end_time": "2023-11-21T20:32:25.181351",
     "exception": false,
     "start_time": "2023-11-21T20:32:25.162180",
     "status": "completed"
    },
    "tags": []
   },
   "source": [
    "![svg image](data:image/svg+xml;base64,PD94bWwgdmVyc2lvbj0iMS4wIiBlbmNvZGluZz0iVVRGLTgiPz4KPCFET0NUWVBFIHN2ZyBQVUJMSUMgIi0vL1czQy8vRFREIFNWRyAxLjEvL0VOIiAiaHR0cDovL3d3dy53My5vcmcvR3JhcGhpY3MvU1ZHLzEuMS9EVEQvc3ZnMTEuZHRkIj4KPHN2ZyB4bWxucz0iaHR0cDovL3d3dy53My5vcmcvMjAwMC9zdmciIHhtbG5zOnhsaW5rPSJodHRwOi8vd3d3LnczLm9yZy8xOTk5L3hsaW5rIiB2ZXJzaW9uPSIxLjEiIHdpZHRoPSI4MTdweCIgaGVpZ2h0PSI2MzVweCIgdmlld0JveD0iLTAuNSAtMC41IDgxNyA2MzUiPjxkZWZzLz48Zz48cmVjdCB4PSI0OTAuNSIgeT0iMjA1LjUiIHdpZHRoPSIzMTUiIGhlaWdodD0iMjQwIiByeD0iMTQuNCIgcnk9IjE0LjQiIGZpbGw9IiNmOWY3ZWQiIHN0cm9rZT0iIzgwODA4MCIgc3Ryb2tlLXdpZHRoPSIxLjUiIHBvaW50ZXItZXZlbnRzPSJhbGwiLz48ZyB0cmFuc2Zvcm09InRyYW5zbGF0ZSgtMC41IC0wLjUpc2NhbGUoMS41KSI+PHN3aXRjaD48Zm9yZWlnbk9iamVjdCBwb2ludGVyLWV2ZW50cz0ibm9uZSIgd2lkdGg9IjEwMCUiIGhlaWdodD0iMTAwJSIgcmVxdWlyZWRGZWF0dXJlcz0iaHR0cDovL3d3dy53My5vcmcvVFIvU1ZHMTEvZmVhdHVyZSNFeHRlbnNpYmlsaXR5IiBzdHlsZT0ib3ZlcmZsb3c6IHZpc2libGU7IHRleHQtYWxpZ246IGxlZnQ7Ij48ZGl2IHhtbG5zPSJodHRwOi8vd3d3LnczLm9yZy8xOTk5L3hodG1sIiBzdHlsZT0iZGlzcGxheTogZmxleDsgYWxpZ24taXRlbXM6IHVuc2FmZSBmbGV4LWVuZDsganVzdGlmeS1jb250ZW50OiB1bnNhZmUgY2VudGVyOyB3aWR0aDogMjA4cHg7IGhlaWdodDogMXB4OyBwYWRkaW5nLXRvcDogMjk0cHg7IG1hcmdpbi1sZWZ0OiAzMjhweDsiPjxkaXYgZGF0YS1kcmF3aW8tY29sb3JzPSJjb2xvcjogcmdiKDAsIDAsIDApOyAiIHN0eWxlPSJib3gtc2l6aW5nOiBib3JkZXItYm94OyBmb250LXNpemU6IDBweDsgdGV4dC1hbGlnbjogY2VudGVyOyI+PGRpdiBzdHlsZT0iZGlzcGxheTogaW5saW5lLWJsb2NrOyBmb250LXNpemU6IDEycHg7IGZvbnQtZmFtaWx5OiBIZWx2ZXRpY2E7IGNvbG9yOiByZ2IoMCwgMCwgMCk7IGxpbmUtaGVpZ2h0OiAxLjI7IHBvaW50ZXItZXZlbnRzOiBhbGw7IHdoaXRlLXNwYWNlOiBub3JtYWw7IG92ZXJmbG93LXdyYXA6IG5vcm1hbDsiPkRlY29kZXI8L2Rpdj48L2Rpdj48L2Rpdj48L2ZvcmVpZ25PYmplY3Q+PHRleHQgeD0iNDMyIiB5PSIyOTQiIGZpbGw9InJnYigwLCAwLCAwKSIgZm9udC1mYW1pbHk9IkhlbHZldGljYSIgZm9udC1zaXplPSIxMnB4IiB0ZXh0LWFuY2hvcj0ibWlkZGxlIj5EZWNvZGVyPC90ZXh0Pjwvc3dpdGNoPjwvZz48cmVjdCB4PSIxMC41IiB5PSIyMDUuNSIgd2lkdGg9IjMxNSIgaGVpZ2h0PSIyNDAiIHJ4PSIxNC40IiByeT0iMTQuNCIgZmlsbD0iI2Y5ZjdlZCIgc3Ryb2tlPSIjODA4MDgwIiBzdHJva2Utd2lkdGg9IjEuNSIgcG9pbnRlci1ldmVudHM9ImFsbCIvPjxnIHRyYW5zZm9ybT0idHJhbnNsYXRlKC0wLjUgLTAuNSlzY2FsZSgxLjUpIj48c3dpdGNoPjxmb3JlaWduT2JqZWN0IHBvaW50ZXItZXZlbnRzPSJub25lIiB3aWR0aD0iMTAwJSIgaGVpZ2h0PSIxMDAlIiByZXF1aXJlZEZlYXR1cmVzPSJodHRwOi8vd3d3LnczLm9yZy9UUi9TVkcxMS9mZWF0dXJlI0V4dGVuc2liaWxpdHkiIHN0eWxlPSJvdmVyZmxvdzogdmlzaWJsZTsgdGV4dC1hbGlnbjogbGVmdDsiPjxkaXYgeG1sbnM9Imh0dHA6Ly93d3cudzMub3JnLzE5OTkveGh0bWwiIHN0eWxlPSJkaXNwbGF5OiBmbGV4OyBhbGlnbi1pdGVtczogdW5zYWZlIGZsZXgtc3RhcnQ7IGp1c3RpZnktY29udGVudDogdW5zYWZlIGNlbnRlcjsgd2lkdGg6IDIwOHB4OyBoZWlnaHQ6IDFweDsgcGFkZGluZy10b3A6IDE0NHB4OyBtYXJnaW4tbGVmdDogOHB4OyI+PGRpdiBkYXRhLWRyYXdpby1jb2xvcnM9ImNvbG9yOiByZ2IoMCwgMCwgMCk7ICIgc3R5bGU9ImJveC1zaXppbmc6IGJvcmRlci1ib3g7IGZvbnQtc2l6ZTogMHB4OyB0ZXh0LWFsaWduOiBjZW50ZXI7Ij48ZGl2IHN0eWxlPSJkaXNwbGF5OiBpbmxpbmUtYmxvY2s7IGZvbnQtc2l6ZTogMTJweDsgZm9udC1mYW1pbHk6IEhlbHZldGljYTsgY29sb3I6IHJnYigwLCAwLCAwKTsgbGluZS1oZWlnaHQ6IDEuMjsgcG9pbnRlci1ldmVudHM6IGFsbDsgd2hpdGUtc3BhY2U6IG5vcm1hbDsgb3ZlcmZsb3ctd3JhcDogbm9ybWFsOyI+RW5jb2RlcjwvZGl2PjwvZGl2PjwvZGl2PjwvZm9yZWlnbk9iamVjdD48dGV4dCB4PSIxMTIiIHk9IjE1NiIgZmlsbD0icmdiKDAsIDAsIDApIiBmb250LWZhbWlseT0iSGVsdmV0aWNhIiBmb250LXNpemU9IjEycHgiIHRleHQtYW5jaG9yPSJtaWRkbGUiPkVuY29kZXI8L3RleHQ+PC9zd2l0Y2g+PC9nPjxwYXRoIGQ9Ik0gMzEwLjUgMzEwLjUgUSAzNDQuNjkgMzEwLjUgMzQ0LjY5IDI5MS4zMSBRIDM0NC42OSAyNzIuMTIgMzcyLjYyIDI3Mi4xMiBRIDQwMC41NSAyNzIuMTIgNDAwLjUyIDI4OS44OSIgZmlsbD0ibm9uZSIgc3Ryb2tlPSIjNGQ0ZDRkIiBzdHJva2Utd2lkdGg9IjEuNSIgc3Ryb2tlLW1pdGVybGltaXQ9IjEwIiBwb2ludGVyLWV2ZW50cz0ic3Ryb2tlIi8+PHBhdGggZD0iTSA0MDAuNSAzMDAuMzkgTCAzOTcuMDIgMjg5Ljg4IEwgNDA0LjAyIDI4OS44OSBaIiBmaWxsPSIjNGQ0ZDRkIiBzdHJva2U9IiM0ZDRkNGQiIHN0cm9rZS13aWR0aD0iMS41IiBzdHJva2UtbWl0ZXJsaW1pdD0iMTAiIHBvaW50ZXItZXZlbnRzPSJhbGwiLz48cmVjdCB4PSIyNS41IiB5PSIyNjUuNSIgd2lkdGg9IjI4NSIgaGVpZ2h0PSI5MCIgcng9IjEzLjUiIHJ5PSIxMy41IiBmaWxsPSIjMDAwMDAwIiBzdHJva2U9IiMwMDAwMDAiIHN0cm9rZS13aWR0aD0iMS41IiBwb2ludGVyLWV2ZW50cz0iYWxsIiB0cmFuc2Zvcm09InRyYW5zbGF0ZSgzLDQuNSkiIG9wYWNpdHk9IjAuMjUiLz48cmVjdCB4PSIyNS41IiB5PSIyNjUuNSIgd2lkdGg9IjI4NSIgaGVpZ2h0PSI5MCIgcng9IjEzLjUiIHJ5PSIxMy41IiBmaWxsPSIjZGFlOGZjIiBzdHJva2U9IiM2YzhlYmYiIHN0cm9rZS13aWR0aD0iMS41IiBwb2ludGVyLWV2ZW50cz0iYWxsIi8+PGcgdHJhbnNmb3JtPSJ0cmFuc2xhdGUoLTAuNSAtMC41KXNjYWxlKDEuNSkiPjxzd2l0Y2g+PGZvcmVpZ25PYmplY3QgcG9pbnRlci1ldmVudHM9Im5vbmUiIHdpZHRoPSIxMDAlIiBoZWlnaHQ9IjEwMCUiIHJlcXVpcmVkRmVhdHVyZXM9Imh0dHA6Ly93d3cudzMub3JnL1RSL1NWRzExL2ZlYXR1cmUjRXh0ZW5zaWJpbGl0eSIgc3R5bGU9Im92ZXJmbG93OiB2aXNpYmxlOyB0ZXh0LWFsaWduOiBsZWZ0OyI+PGRpdiB4bWxucz0iaHR0cDovL3d3dy53My5vcmcvMTk5OS94aHRtbCIgc3R5bGU9ImRpc3BsYXk6IGZsZXg7IGFsaWduLWl0ZW1zOiB1bnNhZmUgY2VudGVyOyBqdXN0aWZ5LWNvbnRlbnQ6IHVuc2FmZSBjZW50ZXI7IHdpZHRoOiAxODhweDsgaGVpZ2h0OiAxcHg7IHBhZGRpbmctdG9wOiAyMDdweDsgbWFyZ2luLWxlZnQ6IDE4cHg7Ij48ZGl2IGRhdGEtZHJhd2lvLWNvbG9ycz0iY29sb3I6IHJnYigwLCAwLCAwKTsgIiBzdHlsZT0iYm94LXNpemluZzogYm9yZGVyLWJveDsgZm9udC1zaXplOiAwcHg7IHRleHQtYWxpZ246IGNlbnRlcjsiPjxkaXYgc3R5bGU9ImRpc3BsYXk6IGlubGluZS1ibG9jazsgZm9udC1zaXplOiAxMnB4OyBmb250LWZhbWlseTogSGVsdmV0aWNhOyBjb2xvcjogcmdiKDAsIDAsIDApOyBsaW5lLWhlaWdodDogMS4yOyBwb2ludGVyLWV2ZW50czogYWxsOyB3aGl0ZS1zcGFjZTogbm9ybWFsOyBvdmVyZmxvdy13cmFwOiBub3JtYWw7Ij5MU1RNIExheWVyPC9kaXY+PC9kaXY+PC9kaXY+PC9mb3JlaWduT2JqZWN0Pjx0ZXh0IHg9IjExMiIgeT0iMjExIiBmaWxsPSJyZ2IoMCwgMCwgMCkiIGZvbnQtZmFtaWx5PSJIZWx2ZXRpY2EiIGZvbnQtc2l6ZT0iMTJweCIgdGV4dC1hbmNob3I9Im1pZGRsZSI+TFNUTSBMYXllcjwvdGV4dD48L3N3aXRjaD48L2c+PHBhdGggZD0iTSA2NDggMjIwLjUgUSA2NDggMTkwLjUgNjQ4IDE5OCBRIDY0OCAyMDUuNSA2NDggMTg3LjY4IiBmaWxsPSJub25lIiBzdHJva2U9IiM0ZDRkNGQiIHN0cm9rZS13aWR0aD0iMS41IiBzdHJva2UtbWl0ZXJsaW1pdD0iMTAiIHBvaW50ZXItZXZlbnRzPSJzdHJva2UiLz48cGF0aCBkPSJNIDY0OCAxNzcuMTggTCA2NTEuNSAxODcuNjggTCA2NDQuNSAxODcuNjggWiIgZmlsbD0iIzRkNGQ0ZCIgc3Ryb2tlPSIjNGQ0ZDRkIiBzdHJva2Utd2lkdGg9IjEuNSIgc3Ryb2tlLW1pdGVybGltaXQ9IjEwIiBwb2ludGVyLWV2ZW50cz0iYWxsIi8+PHJlY3QgeD0iNTA1LjUiIHk9IjIyMC41IiB3aWR0aD0iMjg1IiBoZWlnaHQ9IjMwIiByeD0iNC41IiByeT0iNC41IiBmaWxsPSIjMDAwMDAwIiBzdHJva2U9IiMwMDAwMDAiIHN0cm9rZS13aWR0aD0iMS41IiBwb2ludGVyLWV2ZW50cz0iYWxsIiB0cmFuc2Zvcm09InRyYW5zbGF0ZSgzLDQuNSkiIG9wYWNpdHk9IjAuMjUiLz48cmVjdCB4PSI1MDUuNSIgeT0iMjIwLjUiIHdpZHRoPSIyODUiIGhlaWdodD0iMzAiIHJ4PSI0LjUiIHJ5PSI0LjUiIGZpbGw9IiNkYWU4ZmMiIHN0cm9rZT0iIzZjOGViZiIgc3Ryb2tlLXdpZHRoPSIxLjUiIHBvaW50ZXItZXZlbnRzPSJhbGwiLz48ZyB0cmFuc2Zvcm09InRyYW5zbGF0ZSgtMC41IC0wLjUpc2NhbGUoMS41KSI+PHN3aXRjaD48Zm9yZWlnbk9iamVjdCBwb2ludGVyLWV2ZW50cz0ibm9uZSIgd2lkdGg9IjEwMCUiIGhlaWdodD0iMTAwJSIgcmVxdWlyZWRGZWF0dXJlcz0iaHR0cDovL3d3dy53My5vcmcvVFIvU1ZHMTEvZmVhdHVyZSNFeHRlbnNpYmlsaXR5IiBzdHlsZT0ib3ZlcmZsb3c6IHZpc2libGU7IHRleHQtYWxpZ246IGxlZnQ7Ij48ZGl2IHhtbG5zPSJodHRwOi8vd3d3LnczLm9yZy8xOTk5L3hodG1sIiBzdHlsZT0iZGlzcGxheTogZmxleDsgYWxpZ24taXRlbXM6IHVuc2FmZSBjZW50ZXI7IGp1c3RpZnktY29udGVudDogdW5zYWZlIGNlbnRlcjsgd2lkdGg6IDE4OHB4OyBoZWlnaHQ6IDFweDsgcGFkZGluZy10b3A6IDE1N3B4OyBtYXJnaW4tbGVmdDogMzM4cHg7Ij48ZGl2IGRhdGEtZHJhd2lvLWNvbG9ycz0iY29sb3I6IHJnYigwLCAwLCAwKTsgIiBzdHlsZT0iYm94LXNpemluZzogYm9yZGVyLWJveDsgZm9udC1zaXplOiAwcHg7IHRleHQtYWxpZ246IGNlbnRlcjsiPjxkaXYgc3R5bGU9ImRpc3BsYXk6IGlubGluZS1ibG9jazsgZm9udC1zaXplOiA5cHg7IGZvbnQtZmFtaWx5OiBIZWx2ZXRpY2E7IGNvbG9yOiByZ2IoMCwgMCwgMCk7IGxpbmUtaGVpZ2h0OiAxLjI7IHBvaW50ZXItZXZlbnRzOiBhbGw7IHdoaXRlLXNwYWNlOiBub3JtYWw7IG92ZXJmbG93LXdyYXA6IG5vcm1hbDsiPlNvZnRtYXg8L2Rpdj48L2Rpdj48L2Rpdj48L2ZvcmVpZ25PYmplY3Q+PHRleHQgeD0iNDMyIiB5PSIxNjAiIGZpbGw9InJnYigwLCAwLCAwKSIgZm9udC1mYW1pbHk9IkhlbHZldGljYSIgZm9udC1zaXplPSI5cHgiIHRleHQtYW5jaG9yPSJtaWRkbGUiPlNvZnRtYXg8L3RleHQ+PC9zd2l0Y2g+PC9nPjxwYXRoIGQ9Ik0gMTY4IDQ1OSBRIDE2OCA0MjkuMDUgMTY4IDQzNy4yOCBRIDE2OCA0NDUuNSAxNjggNDI3LjY4IiBmaWxsPSJub25lIiBzdHJva2U9IiM0ZDRkNGQiIHN0cm9rZS13aWR0aD0iMS41IiBzdHJva2UtbWl0ZXJsaW1pdD0iMTAiIHBvaW50ZXItZXZlbnRzPSJzdHJva2UiLz48cGF0aCBkPSJNIDE2OCA0MTcuMTggTCAxNzEuNSA0MjcuNjggTCAxNjQuNSA0MjcuNjggWiIgZmlsbD0iIzRkNGQ0ZCIgc3Ryb2tlPSIjNGQ0ZDRkIiBzdHJva2Utd2lkdGg9IjEuNSIgc3Ryb2tlLW1pdGVybGltaXQ9IjEwIiBwb2ludGVyLWV2ZW50cz0iYWxsIi8+PHJlY3QgeD0iMjUuNSIgeT0iNDU5IiB3aWR0aD0iMjg1IiBoZWlnaHQ9IjMwIiByeD0iMTUiIHJ5PSIxNSIgZmlsbD0iIzAwMDAwMCIgc3Ryb2tlPSIjMDAwMDAwIiBzdHJva2Utd2lkdGg9IjEuNSIgcG9pbnRlci1ldmVudHM9ImFsbCIgdHJhbnNmb3JtPSJ0cmFuc2xhdGUoMyw0LjUpIiBvcGFjaXR5PSIwLjI1Ii8+PHJlY3QgeD0iMjUuNSIgeT0iNDU5IiB3aWR0aD0iMjg1IiBoZWlnaHQ9IjMwIiByeD0iMTUiIHJ5PSIxNSIgZmlsbD0iI2UxZDVlNyIgc3Ryb2tlPSIjOTY3M2E2IiBzdHJva2Utd2lkdGg9IjEuNSIgcG9pbnRlci1ldmVudHM9ImFsbCIvPjxnIHRyYW5zZm9ybT0idHJhbnNsYXRlKC0wLjUgLTAuNSlzY2FsZSgxLjUpIj48c3dpdGNoPjxmb3JlaWduT2JqZWN0IHBvaW50ZXItZXZlbnRzPSJub25lIiB3aWR0aD0iMTAwJSIgaGVpZ2h0PSIxMDAlIiByZXF1aXJlZEZlYXR1cmVzPSJodHRwOi8vd3d3LnczLm9yZy9UUi9TVkcxMS9mZWF0dXJlI0V4dGVuc2liaWxpdHkiIHN0eWxlPSJvdmVyZmxvdzogdmlzaWJsZTsgdGV4dC1hbGlnbjogbGVmdDsiPjxkaXYgeG1sbnM9Imh0dHA6Ly93d3cudzMub3JnLzE5OTkveGh0bWwiIHN0eWxlPSJkaXNwbGF5OiBmbGV4OyBhbGlnbi1pdGVtczogdW5zYWZlIGNlbnRlcjsganVzdGlmeS1jb250ZW50OiB1bnNhZmUgY2VudGVyOyB3aWR0aDogMTg4cHg7IGhlaWdodDogMXB4OyBwYWRkaW5nLXRvcDogMzE2cHg7IG1hcmdpbi1sZWZ0OiAxOHB4OyI+PGRpdiBkYXRhLWRyYXdpby1jb2xvcnM9ImNvbG9yOiByZ2IoMCwgMCwgMCk7ICIgc3R5bGU9ImJveC1zaXppbmc6IGJvcmRlci1ib3g7IGZvbnQtc2l6ZTogMHB4OyB0ZXh0LWFsaWduOiBjZW50ZXI7Ij48ZGl2IHN0eWxlPSJkaXNwbGF5OiBpbmxpbmUtYmxvY2s7IGZvbnQtc2l6ZTogOXB4OyBmb250LWZhbWlseTogSGVsdmV0aWNhOyBjb2xvcjogcmdiKDAsIDAsIDApOyBsaW5lLWhlaWdodDogMS4yOyBwb2ludGVyLWV2ZW50czogYWxsOyB3aGl0ZS1zcGFjZTogbm9ybWFsOyBvdmVyZmxvdy13cmFwOiBub3JtYWw7Ij5JbnB1dCBTZXF1ZW5jZSAoV29yZCBJRHMpPC9kaXY+PC9kaXY+PC9kaXY+PC9mb3JlaWduT2JqZWN0Pjx0ZXh0IHg9IjExMiIgeT0iMzE5IiBmaWxsPSJyZ2IoMCwgMCwgMCkiIGZvbnQtZmFtaWx5PSJIZWx2ZXRpY2EiIGZvbnQtc2l6ZT0iOXB4IiB0ZXh0LWFuY2hvcj0ibWlkZGxlIj5JbnB1dCBTZXF1ZW5jZSAoV29yZCBJRHMpPC90ZXh0Pjwvc3dpdGNoPjwvZz48cGF0aCBkPSJNIDY0OCAxNDUuNSBMIDY0OCAxMTUuNSBMIDY0OCAxNDUuNSBMIDY0OCAxMjUuMDUiIGZpbGw9Im5vbmUiIHN0cm9rZT0icmdiKDAsIDAsIDApIiBzdHJva2Utd2lkdGg9IjEuNSIgc3Ryb2tlLW1pdGVybGltaXQ9IjEwIiBwb2ludGVyLWV2ZW50cz0ic3Ryb2tlIi8+PHBhdGggZD0iTSA2NDggMTE3LjE4IEwgNjUzLjI1IDEyNy42OCBMIDY0OCAxMjUuMDUgTCA2NDIuNzUgMTI3LjY4IFoiIGZpbGw9InJnYigwLCAwLCAwKSIgc3Ryb2tlPSJyZ2IoMCwgMCwgMCkiIHN0cm9rZS13aWR0aD0iMS41IiBzdHJva2UtbWl0ZXJsaW1pdD0iMTAiIHBvaW50ZXItZXZlbnRzPSJhbGwiLz48cmVjdCB4PSI1MDUuNSIgeT0iMTQ1LjUiIHdpZHRoPSIyODUiIGhlaWdodD0iMzAiIHJ4PSIxNSIgcnk9IjE1IiBmaWxsPSIjMDAwMDAwIiBzdHJva2U9IiMwMDAwMDAiIHN0cm9rZS13aWR0aD0iMS41IiBwb2ludGVyLWV2ZW50cz0iYWxsIiB0cmFuc2Zvcm09InRyYW5zbGF0ZSgzLDQuNSkiIG9wYWNpdHk9IjAuMjUiLz48cmVjdCB4PSI1MDUuNSIgeT0iMTQ1LjUiIHdpZHRoPSIyODUiIGhlaWdodD0iMzAiIHJ4PSIxNSIgcnk9IjE1IiBmaWxsPSIjZTFkNWU3IiBzdHJva2U9IiM5NjczYTYiIHN0cm9rZS13aWR0aD0iMS41IiBwb2ludGVyLWV2ZW50cz0iYWxsIi8+PGcgdHJhbnNmb3JtPSJ0cmFuc2xhdGUoLTAuNSAtMC41KXNjYWxlKDEuNSkiPjxzd2l0Y2g+PGZvcmVpZ25PYmplY3QgcG9pbnRlci1ldmVudHM9Im5vbmUiIHdpZHRoPSIxMDAlIiBoZWlnaHQ9IjEwMCUiIHJlcXVpcmVkRmVhdHVyZXM9Imh0dHA6Ly93d3cudzMub3JnL1RSL1NWRzExL2ZlYXR1cmUjRXh0ZW5zaWJpbGl0eSIgc3R5bGU9Im92ZXJmbG93OiB2aXNpYmxlOyB0ZXh0LWFsaWduOiBsZWZ0OyI+PGRpdiB4bWxucz0iaHR0cDovL3d3dy53My5vcmcvMTk5OS94aHRtbCIgc3R5bGU9ImRpc3BsYXk6IGZsZXg7IGFsaWduLWl0ZW1zOiB1bnNhZmUgY2VudGVyOyBqdXN0aWZ5LWNvbnRlbnQ6IHVuc2FmZSBjZW50ZXI7IHdpZHRoOiAxODhweDsgaGVpZ2h0OiAxcHg7IHBhZGRpbmctdG9wOiAxMDdweDsgbWFyZ2luLWxlZnQ6IDMzOHB4OyI+PGRpdiBkYXRhLWRyYXdpby1jb2xvcnM9ImNvbG9yOiByZ2IoMCwgMCwgMCk7ICIgc3R5bGU9ImJveC1zaXppbmc6IGJvcmRlci1ib3g7IGZvbnQtc2l6ZTogMHB4OyB0ZXh0LWFsaWduOiBjZW50ZXI7Ij48ZGl2IHN0eWxlPSJkaXNwbGF5OiBpbmxpbmUtYmxvY2s7IGZvbnQtc2l6ZTogOXB4OyBmb250LWZhbWlseTogSGVsdmV0aWNhOyBjb2xvcjogcmdiKDAsIDAsIDApOyBsaW5lLWhlaWdodDogMS4yOyBwb2ludGVyLWV2ZW50czogYWxsOyB3aGl0ZS1zcGFjZTogbm9ybWFsOyBvdmVyZmxvdy13cmFwOiBub3JtYWw7Ij5PdXRwdXQgU2VxdWVuY2UgKFdvcmQgSURzKTwvZGl2PjwvZGl2PjwvZGl2PjwvZm9yZWlnbk9iamVjdD48dGV4dCB4PSI0MzIiIHk9IjExMCIgZmlsbD0icmdiKDAsIDAsIDApIiBmb250LWZhbWlseT0iSGVsdmV0aWNhIiBmb250LXNpemU9IjlweCIgdGV4dC1hbmNob3I9Im1pZGRsZSI+T3V0cHV0IFNlcXVlbmNlIChXb3JkIElEcyk8L3RleHQ+PC9zd2l0Y2g+PC9nPjxwYXRoIGQ9Ik0gMTY4IDU3OSBRIDE2OCA1NDkuMDUgMTY4IDU2NC4wNSBRIDE2OCA1NzkuMDUgMTY4IDU2MS4xOCIgZmlsbD0ibm9uZSIgc3Ryb2tlPSIjNGQ0ZDRkIiBzdHJva2Utd2lkdGg9IjEuNSIgc3Ryb2tlLW1pdGVybGltaXQ9IjEwIiBwb2ludGVyLWV2ZW50cz0ic3Ryb2tlIi8+PHBhdGggZD0iTSAxNjggNTUwLjY4IEwgMTcxLjUgNTYxLjE4IEwgMTY0LjUgNTYxLjE4IFoiIGZpbGw9IiM0ZDRkNGQiIHN0cm9rZT0iIzRkNGQ0ZCIgc3Ryb2tlLXdpZHRoPSIxLjUiIHN0cm9rZS1taXRlcmxpbWl0PSIxMCIgcG9pbnRlci1ldmVudHM9ImFsbCIvPjxyZWN0IHg9IjI1LjUiIHk9IjU3OSIgd2lkdGg9IjI4NSIgaGVpZ2h0PSI0NSIgZmlsbD0ibm9uZSIgc3Ryb2tlPSJub25lIiBwb2ludGVyLWV2ZW50cz0iYWxsIi8+PGcgdHJhbnNmb3JtPSJ0cmFuc2xhdGUoLTAuNSAtMC41KXNjYWxlKDEuNSkiPjxzd2l0Y2g+PGZvcmVpZ25PYmplY3QgcG9pbnRlci1ldmVudHM9Im5vbmUiIHdpZHRoPSIxMDAlIiBoZWlnaHQ9IjEwMCUiIHJlcXVpcmVkRmVhdHVyZXM9Imh0dHA6Ly93d3cudzMub3JnL1RSL1NWRzExL2ZlYXR1cmUjRXh0ZW5zaWJpbGl0eSIgc3R5bGU9Im92ZXJmbG93OiB2aXNpYmxlOyB0ZXh0LWFsaWduOiBsZWZ0OyI+PGRpdiB4bWxucz0iaHR0cDovL3d3dy53My5vcmcvMTk5OS94aHRtbCIgc3R5bGU9ImRpc3BsYXk6IGZsZXg7IGFsaWduLWl0ZW1zOiB1bnNhZmUgY2VudGVyOyBqdXN0aWZ5LWNvbnRlbnQ6IHVuc2FmZSBjZW50ZXI7IHdpZHRoOiAxODhweDsgaGVpZ2h0OiAxcHg7IHBhZGRpbmctdG9wOiA0MDFweDsgbWFyZ2luLWxlZnQ6IDE4cHg7Ij48ZGl2IGRhdGEtZHJhd2lvLWNvbG9ycz0iY29sb3I6IHJnYigwLCAwLCAwKTsgIiBzdHlsZT0iYm94LXNpemluZzogYm9yZGVyLWJveDsgZm9udC1zaXplOiAwcHg7IHRleHQtYWxpZ246IGNlbnRlcjsiPjxkaXYgc3R5bGU9ImRpc3BsYXk6IGlubGluZS1ibG9jazsgZm9udC1zaXplOiAxMnB4OyBmb250LWZhbWlseTogSGVsdmV0aWNhOyBjb2xvcjogcmdiKDAsIDAsIDApOyBsaW5lLWhlaWdodDogMS4yOyBwb2ludGVyLWV2ZW50czogYWxsOyB3aGl0ZS1zcGFjZTogbm9ybWFsOyBvdmVyZmxvdy13cmFwOiBub3JtYWw7Ij48Yj5JbnB1dDo8L2I+IEljaCBzYWggZWluZSBLYXR6ZSBpbSBQYXJrPC9kaXY+PC9kaXY+PC9kaXY+PC9mb3JlaWduT2JqZWN0Pjx0ZXh0IHg9IjExMiIgeT0iNDA1IiBmaWxsPSJyZ2IoMCwgMCwgMCkiIGZvbnQtZmFtaWx5PSJIZWx2ZXRpY2EiIGZvbnQtc2l6ZT0iMTJweCIgdGV4dC1hbmNob3I9Im1pZGRsZSI+SW5wdXQ6IEljaCBzYWggZWluZSBLYXR6ZSBpbSBQYS4uLjwvdGV4dD48L3N3aXRjaD48L2c+PHJlY3QgeD0iNTIwLjUiIHk9IjEwLjUiIHdpZHRoPSIyNTUiIGhlaWdodD0iNDUiIGZpbGw9Im5vbmUiIHN0cm9rZT0ibm9uZSIgcG9pbnRlci1ldmVudHM9ImFsbCIvPjxnIHRyYW5zZm9ybT0idHJhbnNsYXRlKC0wLjUgLTAuNSlzY2FsZSgxLjUpIj48c3dpdGNoPjxmb3JlaWduT2JqZWN0IHBvaW50ZXItZXZlbnRzPSJub25lIiB3aWR0aD0iMTAwJSIgaGVpZ2h0PSIxMDAlIiByZXF1aXJlZEZlYXR1cmVzPSJodHRwOi8vd3d3LnczLm9yZy9UUi9TVkcxMS9mZWF0dXJlI0V4dGVuc2liaWxpdHkiIHN0eWxlPSJvdmVyZmxvdzogdmlzaWJsZTsgdGV4dC1hbGlnbjogbGVmdDsiPjxkaXYgeG1sbnM9Imh0dHA6Ly93d3cudzMub3JnLzE5OTkveGh0bWwiIHN0eWxlPSJkaXNwbGF5OiBmbGV4OyBhbGlnbi1pdGVtczogdW5zYWZlIGNlbnRlcjsganVzdGlmeS1jb250ZW50OiB1bnNhZmUgY2VudGVyOyB3aWR0aDogMTY4cHg7IGhlaWdodDogMXB4OyBwYWRkaW5nLXRvcDogMjJweDsgbWFyZ2luLWxlZnQ6IDM0OHB4OyI+PGRpdiBkYXRhLWRyYXdpby1jb2xvcnM9ImNvbG9yOiByZ2IoMCwgMCwgMCk7ICIgc3R5bGU9ImJveC1zaXppbmc6IGJvcmRlci1ib3g7IGZvbnQtc2l6ZTogMHB4OyB0ZXh0LWFsaWduOiBjZW50ZXI7Ij48ZGl2IHN0eWxlPSJkaXNwbGF5OiBpbmxpbmUtYmxvY2s7IGZvbnQtc2l6ZTogMTJweDsgZm9udC1mYW1pbHk6IEhlbHZldGljYTsgY29sb3I6IHJnYigwLCAwLCAwKTsgbGluZS1oZWlnaHQ6IDEuMjsgcG9pbnRlci1ldmVudHM6IGFsbDsgd2hpdGUtc3BhY2U6IG5vcm1hbDsgb3ZlcmZsb3ctd3JhcDogbm9ybWFsOyI+PGI+T3V0cHV0OjwvYj4gSSBzYXcgYSBjYXQgaW4gdGhlIHBhcmvCoDwvZGl2PjwvZGl2PjwvZGl2PjwvZm9yZWlnbk9iamVjdD48dGV4dCB4PSI0MzIiIHk9IjI2IiBmaWxsPSJyZ2IoMCwgMCwgMCkiIGZvbnQtZmFtaWx5PSJIZWx2ZXRpY2EiIGZvbnQtc2l6ZT0iMTJweCIgdGV4dC1hbmNob3I9Im1pZGRsZSI+T3V0cHV0OiBJIHNhdyBhIGNhdCBpbiB0aGUgcC4uLjwvdGV4dD48L3N3aXRjaD48L2c+PHBhdGggZD0iTSAxNjggNTE5IFEgMTY4IDQ4OS4wNSAxNjggNTA0LjA1IFEgMTY4IDUxOS4wNSAxNjggNTAxLjE4IiBmaWxsPSJub25lIiBzdHJva2U9IiM0ZDRkNGQiIHN0cm9rZS13aWR0aD0iMS41IiBzdHJva2UtbWl0ZXJsaW1pdD0iMTAiIHBvaW50ZXItZXZlbnRzPSJzdHJva2UiLz48cGF0aCBkPSJNIDE2OCA0OTAuNjggTCAxNzEuNSA1MDEuMTggTCAxNjQuNSA1MDEuMTggWiIgZmlsbD0iIzRkNGQ0ZCIgc3Ryb2tlPSIjNGQ0ZDRkIiBzdHJva2Utd2lkdGg9IjEuNSIgc3Ryb2tlLW1pdGVybGltaXQ9IjEwIiBwb2ludGVyLWV2ZW50cz0iYWxsIi8+PHJlY3QgeD0iMTAwLjUiIHk9IjUxOSIgd2lkdGg9IjEzNSIgaGVpZ2h0PSIzMCIgcng9IjE1IiByeT0iMTUiIGZpbGw9IiMwMDAwMDAiIHN0cm9rZT0iIzAwMDAwMCIgc3Ryb2tlLXdpZHRoPSIxLjUiIHBvaW50ZXItZXZlbnRzPSJhbGwiIHRyYW5zZm9ybT0idHJhbnNsYXRlKDMsNC41KSIgb3BhY2l0eT0iMC4yNSIvPjxyZWN0IHg9IjEwMC41IiB5PSI1MTkiIHdpZHRoPSIxMzUiIGhlaWdodD0iMzAiIHJ4PSIxNSIgcnk9IjE1IiBmaWxsPSIjZmZmMmNjIiBzdHJva2U9IiNkNmI2NTYiIHN0cm9rZS13aWR0aD0iMS41IiBwb2ludGVyLWV2ZW50cz0iYWxsIi8+PGcgdHJhbnNmb3JtPSJ0cmFuc2xhdGUoLTAuNSAtMC41KXNjYWxlKDEuNSkiPjxzd2l0Y2g+PGZvcmVpZ25PYmplY3QgcG9pbnRlci1ldmVudHM9Im5vbmUiIHdpZHRoPSIxMDAlIiBoZWlnaHQ9IjEwMCUiIHJlcXVpcmVkRmVhdHVyZXM9Imh0dHA6Ly93d3cudzMub3JnL1RSL1NWRzExL2ZlYXR1cmUjRXh0ZW5zaWJpbGl0eSIgc3R5bGU9Im92ZXJmbG93OiB2aXNpYmxlOyB0ZXh0LWFsaWduOiBsZWZ0OyI+PGRpdiB4bWxucz0iaHR0cDovL3d3dy53My5vcmcvMTk5OS94aHRtbCIgc3R5bGU9ImRpc3BsYXk6IGZsZXg7IGFsaWduLWl0ZW1zOiB1bnNhZmUgY2VudGVyOyBqdXN0aWZ5LWNvbnRlbnQ6IHVuc2FmZSBjZW50ZXI7IHdpZHRoOiA4OHB4OyBoZWlnaHQ6IDFweDsgcGFkZGluZy10b3A6IDM1NnB4OyBtYXJnaW4tbGVmdDogNjhweDsiPjxkaXYgZGF0YS1kcmF3aW8tY29sb3JzPSJjb2xvcjogcmdiKDAsIDAsIDApOyAiIHN0eWxlPSJib3gtc2l6aW5nOiBib3JkZXItYm94OyBmb250LXNpemU6IDBweDsgdGV4dC1hbGlnbjogY2VudGVyOyI+PGRpdiBzdHlsZT0iZGlzcGxheTogaW5saW5lLWJsb2NrOyBmb250LXNpemU6IDlweDsgZm9udC1mYW1pbHk6IEhlbHZldGljYTsgY29sb3I6IHJnYigwLCAwLCAwKTsgbGluZS1oZWlnaHQ6IDEuMjsgcG9pbnRlci1ldmVudHM6IGFsbDsgd2hpdGUtc3BhY2U6IG5vcm1hbDsgb3ZlcmZsb3ctd3JhcDogbm9ybWFsOyI+VG9rZW5pemVyPC9kaXY+PC9kaXY+PC9kaXY+PC9mb3JlaWduT2JqZWN0Pjx0ZXh0IHg9IjExMiIgeT0iMzU5IiBmaWxsPSJyZ2IoMCwgMCwgMCkiIGZvbnQtZmFtaWx5PSJIZWx2ZXRpY2EiIGZvbnQtc2l6ZT0iOXB4IiB0ZXh0LWFuY2hvcj0ibWlkZGxlIj5Ub2tlbml6ZXI8L3RleHQ+PC9zd2l0Y2g+PC9nPjxwYXRoIGQ9Ik0gNjQ4IDg1LjUgTCA2NDggNTUuNSBMIDY0OCA4NS41IEwgNjQ4IDY1LjA1IiBmaWxsPSJub25lIiBzdHJva2U9InJnYigwLCAwLCAwKSIgc3Ryb2tlLXdpZHRoPSIxLjUiIHN0cm9rZS1taXRlcmxpbWl0PSIxMCIgcG9pbnRlci1ldmVudHM9InN0cm9rZSIvPjxwYXRoIGQ9Ik0gNjQ4IDU3LjE4IEwgNjUzLjI1IDY3LjY4IEwgNjQ4IDY1LjA1IEwgNjQyLjc1IDY3LjY4IFoiIGZpbGw9InJnYigwLCAwLCAwKSIgc3Ryb2tlPSJyZ2IoMCwgMCwgMCkiIHN0cm9rZS13aWR0aD0iMS41IiBzdHJva2UtbWl0ZXJsaW1pdD0iMTAiIHBvaW50ZXItZXZlbnRzPSJhbGwiLz48cmVjdCB4PSI1ODAuNSIgeT0iODUuNSIgd2lkdGg9IjEzNSIgaGVpZ2h0PSIzMCIgcng9IjE1IiByeT0iMTUiIGZpbGw9IiMwMDAwMDAiIHN0cm9rZT0iIzAwMDAwMCIgc3Ryb2tlLXdpZHRoPSIxLjUiIHBvaW50ZXItZXZlbnRzPSJhbGwiIHRyYW5zZm9ybT0idHJhbnNsYXRlKDMsNC41KSIgb3BhY2l0eT0iMC4yNSIvPjxyZWN0IHg9IjU4MC41IiB5PSI4NS41IiB3aWR0aD0iMTM1IiBoZWlnaHQ9IjMwIiByeD0iMTUiIHJ5PSIxNSIgZmlsbD0iI2ZmZjJjYyIgc3Ryb2tlPSIjZDZiNjU2IiBzdHJva2Utd2lkdGg9IjEuNSIgcG9pbnRlci1ldmVudHM9ImFsbCIvPjxnIHRyYW5zZm9ybT0idHJhbnNsYXRlKC0wLjUgLTAuNSlzY2FsZSgxLjUpIj48c3dpdGNoPjxmb3JlaWduT2JqZWN0IHBvaW50ZXItZXZlbnRzPSJub25lIiB3aWR0aD0iMTAwJSIgaGVpZ2h0PSIxMDAlIiByZXF1aXJlZEZlYXR1cmVzPSJodHRwOi8vd3d3LnczLm9yZy9UUi9TVkcxMS9mZWF0dXJlI0V4dGVuc2liaWxpdHkiIHN0eWxlPSJvdmVyZmxvdzogdmlzaWJsZTsgdGV4dC1hbGlnbjogbGVmdDsiPjxkaXYgeG1sbnM9Imh0dHA6Ly93d3cudzMub3JnLzE5OTkveGh0bWwiIHN0eWxlPSJkaXNwbGF5OiBmbGV4OyBhbGlnbi1pdGVtczogdW5zYWZlIGNlbnRlcjsganVzdGlmeS1jb250ZW50OiB1bnNhZmUgY2VudGVyOyB3aWR0aDogODhweDsgaGVpZ2h0OiAxcHg7IHBhZGRpbmctdG9wOiA2N3B4OyBtYXJnaW4tbGVmdDogMzg4cHg7Ij48ZGl2IGRhdGEtZHJhd2lvLWNvbG9ycz0iY29sb3I6IHJnYigwLCAwLCAwKTsgIiBzdHlsZT0iYm94LXNpemluZzogYm9yZGVyLWJveDsgZm9udC1zaXplOiAwcHg7IHRleHQtYWxpZ246IGNlbnRlcjsiPjxkaXYgc3R5bGU9ImRpc3BsYXk6IGlubGluZS1ibG9jazsgZm9udC1zaXplOiA5cHg7IGZvbnQtZmFtaWx5OiBIZWx2ZXRpY2E7IGNvbG9yOiByZ2IoMCwgMCwgMCk7IGxpbmUtaGVpZ2h0OiAxLjI7IHBvaW50ZXItZXZlbnRzOiBhbGw7IHdoaXRlLXNwYWNlOiBub3JtYWw7IG92ZXJmbG93LXdyYXA6IG5vcm1hbDsiPlRva2VuaXplcjwvZGl2PjwvZGl2PjwvZGl2PjwvZm9yZWlnbk9iamVjdD48dGV4dCB4PSI0MzIiIHk9IjcwIiBmaWxsPSJyZ2IoMCwgMCwgMCkiIGZvbnQtZmFtaWx5PSJIZWx2ZXRpY2EiIGZvbnQtc2l6ZT0iOXB4IiB0ZXh0LWFuY2hvcj0ibWlkZGxlIj5Ub2tlbml6ZXI8L3RleHQ+PC9zd2l0Y2g+PC9nPjxwYXRoIGQ9Ik0gNDAwLjUzIDM5Mi4wNiBRIDQwMC41NSA0MTUuNSA0MzAuNTUgNDE1LjUgUSA0NjAuNTUgNDE1LjUgNDYwLjU1IDM5MyBRIDQ2MC41NSAzNzAuNSA0OTMuMzIgMzcwLjUiIGZpbGw9Im5vbmUiIHN0cm9rZT0iIzRkNGQ0ZCIgc3Ryb2tlLXdpZHRoPSIxLjUiIHN0cm9rZS1taXRlcmxpbWl0PSIxMCIgcG9pbnRlci1ldmVudHM9InN0cm9rZSIvPjxwYXRoIGQ9Ik0gNTAzLjgyIDM3MC41IEwgNDkzLjMyIDM3NCBMIDQ5My4zMiAzNjcgWiIgZmlsbD0iIzRkNGQ0ZCIgc3Ryb2tlPSIjNGQ0ZDRkIiBzdHJva2Utd2lkdGg9IjEuNSIgc3Ryb2tlLW1pdGVybGltaXQ9IjEwIiBwb2ludGVyLWV2ZW50cz0iYWxsIi8+PHJlY3QgeD0iMzU1LjUiIHk9IjMyNS41IiB3aWR0aD0iOTAiIGhlaWdodD0iNDMuMTMiIHJ4PSIyMS41NiIgcnk9IjIxLjU2IiBmaWxsPSIjMDAwMDAwIiBzdHJva2U9IiMwMDAwMDAiIHN0cm9rZS13aWR0aD0iMS41IiB0cmFuc2Zvcm09InRyYW5zbGF0ZSgzLDQuNSlyb3RhdGUoLTkwLDQwMC41LDM0Ny4wNikiIHBvaW50ZXItZXZlbnRzPSJhbGwiIG9wYWNpdHk9IjAuMjUiLz48cmVjdCB4PSIzNTUuNSIgeT0iMzI1LjUiIHdpZHRoPSI5MCIgaGVpZ2h0PSI0My4xMyIgcng9IjIxLjU2IiByeT0iMjEuNTYiIGZpbGw9IiNlMWQ1ZTciIHN0cm9rZT0iIzk2NzNhNiIgc3Ryb2tlLXdpZHRoPSIxLjUiIHRyYW5zZm9ybT0icm90YXRlKC05MCw0MDAuNSwzNDcuMDYpIiBwb2ludGVyLWV2ZW50cz0iYWxsIi8+PGcgdHJhbnNmb3JtPSJ0cmFuc2xhdGUoLTAuNSAtMC41KXNjYWxlKDEuNSlyb3RhdGUoLTkwIDI2NyAyMzEuMzc1KSI+PHN3aXRjaD48Zm9yZWlnbk9iamVjdCBwb2ludGVyLWV2ZW50cz0ibm9uZSIgd2lkdGg9IjEwMCUiIGhlaWdodD0iMTAwJSIgcmVxdWlyZWRGZWF0dXJlcz0iaHR0cDovL3d3dy53My5vcmcvVFIvU1ZHMTEvZmVhdHVyZSNFeHRlbnNpYmlsaXR5IiBzdHlsZT0ib3ZlcmZsb3c6IHZpc2libGU7IHRleHQtYWxpZ246IGxlZnQ7Ij48ZGl2IHhtbG5zPSJodHRwOi8vd3d3LnczLm9yZy8xOTk5L3hodG1sIiBzdHlsZT0iZGlzcGxheTogZmxleDsgYWxpZ24taXRlbXM6IHVuc2FmZSBjZW50ZXI7IGp1c3RpZnktY29udGVudDogdW5zYWZlIGNlbnRlcjsgd2lkdGg6IDU4cHg7IGhlaWdodDogMXB4OyBwYWRkaW5nLXRvcDogMjMxcHg7IG1hcmdpbi1sZWZ0OiAyMzhweDsiPjxkaXYgZGF0YS1kcmF3aW8tY29sb3JzPSJjb2xvcjogcmdiKDAsIDAsIDApOyAiIHN0eWxlPSJib3gtc2l6aW5nOiBib3JkZXItYm94OyBmb250LXNpemU6IDBweDsgdGV4dC1hbGlnbjogY2VudGVyOyI+PGRpdiBzdHlsZT0iZGlzcGxheTogaW5saW5lLWJsb2NrOyBmb250LXNpemU6IDdweDsgZm9udC1mYW1pbHk6IEhlbHZldGljYTsgY29sb3I6IHJnYigwLCAwLCAwKTsgbGluZS1oZWlnaHQ6IDEuMjsgcG9pbnRlci1ldmVudHM6IGFsbDsgd2hpdGUtc3BhY2U6IG5vcm1hbDsgb3ZlcmZsb3ctd3JhcDogbm9ybWFsOyI+RGVuc2UgVmVjdG9yPC9kaXY+PC9kaXY+PC9kaXY+PC9mb3JlaWduT2JqZWN0Pjx0ZXh0IHg9IjI2NyIgeT0iMjMzIiBmaWxsPSJyZ2IoMCwgMCwgMCkiIGZvbnQtZmFtaWx5PSJIZWx2ZXRpY2EiIGZvbnQtc2l6ZT0iN3B4IiB0ZXh0LWFuY2hvcj0ibWlkZGxlIj5EZW5zZSBWZWN0b3I8L3RleHQ+PC9zd2l0Y2g+PC9nPjxwYXRoIGQ9Ik0gMTY4IDM4NS41IFEgMTY4IDM1NS41IDE2OCAzNzAuNSBRIDE2OCAzODUuNSAxNjggMzY3LjY4IiBmaWxsPSJub25lIiBzdHJva2U9IiM0ZDRkNGQiIHN0cm9rZS13aWR0aD0iMS41IiBzdHJva2UtbWl0ZXJsaW1pdD0iMTAiIHBvaW50ZXItZXZlbnRzPSJzdHJva2UiLz48cGF0aCBkPSJNIDE2OCAzNTcuMTggTCAxNzEuNSAzNjcuNjggTCAxNjQuNSAzNjcuNjggWiIgZmlsbD0iIzRkNGQ0ZCIgc3Ryb2tlPSIjNGQ0ZDRkIiBzdHJva2Utd2lkdGg9IjEuNSIgc3Ryb2tlLW1pdGVybGltaXQ9IjEwIiBwb2ludGVyLWV2ZW50cz0iYWxsIi8+PHJlY3QgeD0iMjUuNSIgeT0iMzg1LjUiIHdpZHRoPSIyODUiIGhlaWdodD0iMzAiIHJ4PSI0LjUiIHJ5PSI0LjUiIGZpbGw9IiMwMDAwMDAiIHN0cm9rZT0iIzAwMDAwMCIgc3Ryb2tlLXdpZHRoPSIxLjUiIHBvaW50ZXItZXZlbnRzPSJhbGwiIHRyYW5zZm9ybT0idHJhbnNsYXRlKDMsNC41KSIgb3BhY2l0eT0iMC4yNSIvPjxyZWN0IHg9IjI1LjUiIHk9IjM4NS41IiB3aWR0aD0iMjg1IiBoZWlnaHQ9IjMwIiByeD0iNC41IiByeT0iNC41IiBmaWxsPSIjZGFlOGZjIiBzdHJva2U9IiM2YzhlYmYiIHN0cm9rZS13aWR0aD0iMS41IiBwb2ludGVyLWV2ZW50cz0iYWxsIi8+PGcgdHJhbnNmb3JtPSJ0cmFuc2xhdGUoLTAuNSAtMC41KXNjYWxlKDEuNSkiPjxzd2l0Y2g+PGZvcmVpZ25PYmplY3QgcG9pbnRlci1ldmVudHM9Im5vbmUiIHdpZHRoPSIxMDAlIiBoZWlnaHQ9IjEwMCUiIHJlcXVpcmVkRmVhdHVyZXM9Imh0dHA6Ly93d3cudzMub3JnL1RSL1NWRzExL2ZlYXR1cmUjRXh0ZW5zaWJpbGl0eSIgc3R5bGU9Im92ZXJmbG93OiB2aXNpYmxlOyB0ZXh0LWFsaWduOiBsZWZ0OyI+PGRpdiB4bWxucz0iaHR0cDovL3d3dy53My5vcmcvMTk5OS94aHRtbCIgc3R5bGU9ImRpc3BsYXk6IGZsZXg7IGFsaWduLWl0ZW1zOiB1bnNhZmUgY2VudGVyOyBqdXN0aWZ5LWNvbnRlbnQ6IHVuc2FmZSBjZW50ZXI7IHdpZHRoOiAxODhweDsgaGVpZ2h0OiAxcHg7IHBhZGRpbmctdG9wOiAyNjdweDsgbWFyZ2luLWxlZnQ6IDE4cHg7Ij48ZGl2IGRhdGEtZHJhd2lvLWNvbG9ycz0iY29sb3I6IHJnYigwLCAwLCAwKTsgIiBzdHlsZT0iYm94LXNpemluZzogYm9yZGVyLWJveDsgZm9udC1zaXplOiAwcHg7IHRleHQtYWxpZ246IGNlbnRlcjsiPjxkaXYgc3R5bGU9ImRpc3BsYXk6IGlubGluZS1ibG9jazsgZm9udC1zaXplOiA5cHg7IGZvbnQtZmFtaWx5OiBIZWx2ZXRpY2E7IGNvbG9yOiByZ2IoMCwgMCwgMCk7IGxpbmUtaGVpZ2h0OiAxLjI7IHBvaW50ZXItZXZlbnRzOiBhbGw7IHdoaXRlLXNwYWNlOiBub3JtYWw7IG92ZXJmbG93LXdyYXA6IG5vcm1hbDsiPkVtYmVkZGluZyBMYXllcjwvZGl2PjwvZGl2PjwvZGl2PjwvZm9yZWlnbk9iamVjdD48dGV4dCB4PSIxMTIiIHk9IjI3MCIgZmlsbD0icmdiKDAsIDAsIDApIiBmb250LWZhbWlseT0iSGVsdmV0aWNhIiBmb250LXNpemU9IjlweCIgdGV4dC1hbmNob3I9Im1pZGRsZSI+RW1iZWRkaW5nIExheWVyPC90ZXh0Pjwvc3dpdGNoPjwvZz48cGF0aCBkPSJNIDY0OCAyNzMuOTUgUSA2NDggMjQzLjg4IDY0OCAyNjIuMTkgUSA2NDggMjgwLjUgNjQ4IDI2Mi42OCIgZmlsbD0ibm9uZSIgc3Ryb2tlPSIjNGQ0ZDRkIiBzdHJva2Utd2lkdGg9IjEuNSIgc3Ryb2tlLW1pdGVybGltaXQ9IjEwIiBwb2ludGVyLWV2ZW50cz0ic3Ryb2tlIi8+PHBhdGggZD0iTSA2NDggMjUyLjE4IEwgNjUxLjUgMjYyLjY4IEwgNjQ0LjUgMjYyLjY4IFoiIGZpbGw9IiM0ZDRkNGQiIHN0cm9rZT0iIzRkNGQ0ZCIgc3Ryb2tlLXdpZHRoPSIxLjUiIHN0cm9rZS1taXRlcmxpbWl0PSIxMCIgcG9pbnRlci1ldmVudHM9ImFsbCIvPjxwYXRoIGQ9Ik0gNjQ4IDMyNS41IFEgNjQ4IDI5NS41IDY0OCAzMTQuNjkgUSA2NDggMzMzLjg4IDY0OCAzMTYuMTIiIGZpbGw9Im5vbmUiIHN0cm9rZT0iIzRkNGQ0ZCIgc3Ryb2tlLXdpZHRoPSIxLjUiIHN0cm9rZS1taXRlcmxpbWl0PSIxMCIgcG9pbnRlci1ldmVudHM9InN0cm9rZSIvPjxwYXRoIGQ9Ik0gNjQ4IDMwNS42MiBMIDY1MS41IDMxNi4xMiBMIDY0NC41IDMxNi4xMiBaIiBmaWxsPSIjNGQ0ZDRkIiBzdHJva2U9IiM0ZDRkNGQiIHN0cm9rZS13aWR0aD0iMS41IiBzdHJva2UtbWl0ZXJsaW1pdD0iMTAiIHBvaW50ZXItZXZlbnRzPSJhbGwiLz48cmVjdCB4PSI1MDUuNSIgeT0iMjczLjk1IiB3aWR0aD0iMjg1IiBoZWlnaHQ9IjMwIiByeD0iNC41IiByeT0iNC41IiBmaWxsPSIjMDAwMDAwIiBzdHJva2U9IiMwMDAwMDAiIHN0cm9rZS13aWR0aD0iMS41IiBwb2ludGVyLWV2ZW50cz0iYWxsIiB0cmFuc2Zvcm09InRyYW5zbGF0ZSgzLDQuNSkiIG9wYWNpdHk9IjAuMjUiLz48cmVjdCB4PSI1MDUuNSIgeT0iMjczLjk1IiB3aWR0aD0iMjg1IiBoZWlnaHQ9IjMwIiByeD0iNC41IiByeT0iNC41IiBmaWxsPSIjZGFlOGZjIiBzdHJva2U9IiM2YzhlYmYiIHN0cm9rZS13aWR0aD0iMS41IiBwb2ludGVyLWV2ZW50cz0iYWxsIi8+PGcgdHJhbnNmb3JtPSJ0cmFuc2xhdGUoLTAuNSAtMC41KXNjYWxlKDEuNSkiPjxzd2l0Y2g+PGZvcmVpZ25PYmplY3QgcG9pbnRlci1ldmVudHM9Im5vbmUiIHdpZHRoPSIxMDAlIiBoZWlnaHQ9IjEwMCUiIHJlcXVpcmVkRmVhdHVyZXM9Imh0dHA6Ly93d3cudzMub3JnL1RSL1NWRzExL2ZlYXR1cmUjRXh0ZW5zaWJpbGl0eSIgc3R5bGU9Im92ZXJmbG93OiB2aXNpYmxlOyB0ZXh0LWFsaWduOiBsZWZ0OyI+PGRpdiB4bWxucz0iaHR0cDovL3d3dy53My5vcmcvMTk5OS94aHRtbCIgc3R5bGU9ImRpc3BsYXk6IGZsZXg7IGFsaWduLWl0ZW1zOiB1bnNhZmUgY2VudGVyOyBqdXN0aWZ5LWNvbnRlbnQ6IHVuc2FmZSBjZW50ZXI7IHdpZHRoOiAxODhweDsgaGVpZ2h0OiAxcHg7IHBhZGRpbmctdG9wOiAxOTNweDsgbWFyZ2luLWxlZnQ6IDMzOHB4OyI+PGRpdiBkYXRhLWRyYXdpby1jb2xvcnM9ImNvbG9yOiByZ2IoMCwgMCwgMCk7ICIgc3R5bGU9ImJveC1zaXppbmc6IGJvcmRlci1ib3g7IGZvbnQtc2l6ZTogMHB4OyB0ZXh0LWFsaWduOiBjZW50ZXI7Ij48ZGl2IHN0eWxlPSJkaXNwbGF5OiBpbmxpbmUtYmxvY2s7IGZvbnQtc2l6ZTogOXB4OyBmb250LWZhbWlseTogSGVsdmV0aWNhOyBjb2xvcjogcmdiKDAsIDAsIDApOyBsaW5lLWhlaWdodDogMS4yOyBwb2ludGVyLWV2ZW50czogYWxsOyB3aGl0ZS1zcGFjZTogbm9ybWFsOyBvdmVyZmxvdy13cmFwOiBub3JtYWw7Ij5EZW5zZSBMYXllcjwvZGl2PjwvZGl2PjwvZGl2PjwvZm9yZWlnbk9iamVjdD48dGV4dCB4PSI0MzIiIHk9IjE5NSIgZmlsbD0icmdiKDAsIDAsIDApIiBmb250LWZhbWlseT0iSGVsdmV0aWNhIiBmb250LXNpemU9IjlweCIgdGV4dC1hbmNob3I9Im1pZGRsZSI+RGVuc2UgTGF5ZXI8L3RleHQ+PC9zd2l0Y2g+PC9nPjxyZWN0IHg9IjUwNS41IiB5PSIzMjUuNSIgd2lkdGg9IjI4NSIgaGVpZ2h0PSI5MCIgcng9IjEzLjUiIHJ5PSIxMy41IiBmaWxsPSIjMDAwMDAwIiBzdHJva2U9IiMwMDAwMDAiIHN0cm9rZS13aWR0aD0iMS41IiBwb2ludGVyLWV2ZW50cz0iYWxsIiB0cmFuc2Zvcm09InRyYW5zbGF0ZSgzLDQuNSkiIG9wYWNpdHk9IjAuMjUiLz48cmVjdCB4PSI1MDUuNSIgeT0iMzI1LjUiIHdpZHRoPSIyODUiIGhlaWdodD0iOTAiIHJ4PSIxMy41IiByeT0iMTMuNSIgZmlsbD0iI2RhZThmYyIgc3Ryb2tlPSIjNmM4ZWJmIiBzdHJva2Utd2lkdGg9IjEuNSIgcG9pbnRlci1ldmVudHM9ImFsbCIvPjxnIHRyYW5zZm9ybT0idHJhbnNsYXRlKC0wLjUgLTAuNSlzY2FsZSgxLjUpIj48c3dpdGNoPjxmb3JlaWduT2JqZWN0IHBvaW50ZXItZXZlbnRzPSJub25lIiB3aWR0aD0iMTAwJSIgaGVpZ2h0PSIxMDAlIiByZXF1aXJlZEZlYXR1cmVzPSJodHRwOi8vd3d3LnczLm9yZy9UUi9TVkcxMS9mZWF0dXJlI0V4dGVuc2liaWxpdHkiIHN0eWxlPSJvdmVyZmxvdzogdmlzaWJsZTsgdGV4dC1hbGlnbjogbGVmdDsiPjxkaXYgeG1sbnM9Imh0dHA6Ly93d3cudzMub3JnLzE5OTkveGh0bWwiIHN0eWxlPSJkaXNwbGF5OiBmbGV4OyBhbGlnbi1pdGVtczogdW5zYWZlIGNlbnRlcjsganVzdGlmeS1jb250ZW50OiB1bnNhZmUgY2VudGVyOyB3aWR0aDogMTg4cHg7IGhlaWdodDogMXB4OyBwYWRkaW5nLXRvcDogMjQ3cHg7IG1hcmdpbi1sZWZ0OiAzMzhweDsiPjxkaXYgZGF0YS1kcmF3aW8tY29sb3JzPSJjb2xvcjogcmdiKDAsIDAsIDApOyAiIHN0eWxlPSJib3gtc2l6aW5nOiBib3JkZXItYm94OyBmb250LXNpemU6IDBweDsgdGV4dC1hbGlnbjogY2VudGVyOyI+PGRpdiBzdHlsZT0iZGlzcGxheTogaW5saW5lLWJsb2NrOyBmb250LXNpemU6IDEycHg7IGZvbnQtZmFtaWx5OiBIZWx2ZXRpY2E7IGNvbG9yOiByZ2IoMCwgMCwgMCk7IGxpbmUtaGVpZ2h0OiAxLjI7IHBvaW50ZXItZXZlbnRzOiBhbGw7IHdoaXRlLXNwYWNlOiBub3JtYWw7IG92ZXJmbG93LXdyYXA6IG5vcm1hbDsiPkxTVE0gTGF5ZXI8L2Rpdj48L2Rpdj48L2Rpdj48L2ZvcmVpZ25PYmplY3Q+PHRleHQgeD0iNDMyIiB5PSIyNTEiIGZpbGw9InJnYigwLCAwLCAwKSIgZm9udC1mYW1pbHk9IkhlbHZldGljYSIgZm9udC1zaXplPSIxMnB4IiB0ZXh0LWFuY2hvcj0ibWlkZGxlIj5MU1RNIExheWVyPC90ZXh0Pjwvc3dpdGNoPjwvZz48L2c+PHN3aXRjaD48ZyByZXF1aXJlZEZlYXR1cmVzPSJodHRwOi8vd3d3LnczLm9yZy9UUi9TVkcxMS9mZWF0dXJlI0V4dGVuc2liaWxpdHkiLz48YSB0cmFuc2Zvcm09InRyYW5zbGF0ZSgwLC01KSIgeGxpbms6aHJlZj0iaHR0cHM6Ly93d3cuZGlhZ3JhbXMubmV0L2RvYy9mYXEvc3ZnLWV4cG9ydC10ZXh0LXByb2JsZW1zIiB0YXJnZXQ9Il9ibGFuayI+PHRleHQgdGV4dC1hbmNob3I9Im1pZGRsZSIgZm9udC1zaXplPSIxMHB4IiB4PSI1MCUiIHk9IjEwMCUiPlRleHQgaXMgbm90IFNWRyAtIGNhbm5vdCBkaXNwbGF5PC90ZXh0PjwvYT48L3N3aXRjaD48L3N2Zz4=)"
   ]
  },
  {
   "cell_type": "markdown",
   "id": "ff001aa7",
   "metadata": {
    "papermill": {
     "duration": 0.018996,
     "end_time": "2023-11-21T20:32:25.219548",
     "exception": false,
     "start_time": "2023-11-21T20:32:25.200552",
     "status": "completed"
    },
    "tags": []
   },
   "source": [
    "**Briefly answer the following questions:**\n",
    "\n",
    "1. Describe the implementation of the encoder and decoder components and explain how the model's architecture corresponds to the abstract Seq2Seq architecture depicted in the preceding figure.\n",
    "2. We reverse the input sequence with `x = x.flip(1)`. Can you explain the intuition behind reversing the input sequence? _(Hint: The authors of this week's paper mention possible interpretations.)_"
   ]
  },
  {
   "cell_type": "markdown",
   "id": "668c9fc4",
   "metadata": {
    "execution": {
     "iopub.execute_input": "2023-11-20T16:34:04.634486Z",
     "iopub.status.busy": "2023-11-20T16:34:04.633689Z",
     "iopub.status.idle": "2023-11-20T16:34:04.653398Z",
     "shell.execute_reply": "2023-11-20T16:34:04.652069Z",
     "shell.execute_reply.started": "2023-11-20T16:34:04.634448Z"
    },
    "papermill": {
     "duration": 0.019041,
     "end_time": "2023-11-21T20:32:25.257745",
     "exception": false,
     "start_time": "2023-11-21T20:32:25.238704",
     "status": "completed"
    },
    "tags": []
   },
   "source": [
    "1. **Embedding Layer (`nn.Embedding`)**:\n",
    "   - The embedding layer is used to convert input word indices into dense vectors of a fixed size.\n",
    "   - `in_vocab` is the size of the input vocabulary (the number of unique words), and `units` is the dimensionality of the embedding vectors.\n",
    "   - `padding_idx=0` indicates that the zero index is used for padding and the embedding for this index will be a zero vector. This is useful when dealing with sequences of different lengths.\n",
    "\n",
    "2. **First LSTM Layer (`nn.LSTM`)**:\n",
    "   - This is the first LSTM (Long Short-Term Memory) layer, which processes the sequence data.\n",
    "   - The input size and hidden size of the LSTM are both set to `units`. In an LSTM, the input size is the dimension of the input features (here, it's the embedding size), and the hidden size is the dimension of the hidden state and cell state.\n",
    "   - `batch_first=True` indicates that the input and output tensors are provided as `(batch, seq, feature)`.\n",
    "\n",
    "3. **Sequence Reversal (`x.flip(1)`)**:\n",
    "   - This step reverses the input sequence along the time dimension (sequence length). It's a way to process the input in reverse order, which is a technique sometimes used in sequence-to-sequence models.\n",
    "\n",
    "4. **Sequence Replication**:\n",
    "   - Here, the last output of the first LSTM layer is replicated for the length of the output sequence. This is a custom way to bridge between the encoder and decoder parts of a sequence-to-sequence model, effectively preparing the last hidden state of the encoder to be the input for the decoder.\n",
    "\n",
    "5. **Second LSTM Layer (`nn.LSTM`)**:\n",
    "   - This is the second LSTM layer, which serves as the decoder in the sequence-to-sequence architecture.\n",
    "   - It's configured similarly to the first LSTM layer. In a typical seq2seq model, this layer would generate the output sequence, but here it's processing the replicated hidden state from the first LSTM.\n",
    "\n",
    "6. **Dense (Fully Connected) Layer (`nn.Linear`)**:\n",
    "   - This layer is a standard fully connected neural network layer.\n",
    "   - It transforms the output of the second LSTM layer to the desired output size (`out_vocab`), which is the size of the output vocabulary. This layer is used for mapping the LSTM outputs to the vocabulary space.\n",
    "\n",
    "7. **Output of the Model**:\n",
    "   - The final output of the model after the dense layer is a sequence of logits, where each logit vector has a length equal to the size of the output vocabulary. These logits can be converted to probabilities using a softmax function if needed (for example, during inference to get the most likely word at each sequence position).\n"
   ]
  },
  {
   "cell_type": "markdown",
   "id": "b895219c",
   "metadata": {
    "papermill": {
     "duration": 0.019308,
     "end_time": "2023-11-21T20:32:25.296298",
     "exception": false,
     "start_time": "2023-11-21T20:32:25.276990",
     "status": "completed"
    },
    "tags": []
   },
   "source": [
    "<div style=\"position:relative;padding:.75rem 1.25rem;margin-bottom:1rem;border:1px solid transparent;border-radius:.25rem;background-color:#dae8fc;border-color:#6c8ebf;color:#0c5460\">\n",
    "<b>Step 2: Train the Model</b> \n",
    "</div>\n",
    "\n",
    "To train the model, you need to implement a training loop [similar to this implementation](https://github.com/bentrevett/pytorch-seq2seq/blob/master/3%20-%20Neural%20Machine%20Translation%20by%20Jointly%20Learning%20to%20Align%20and%20Translate.ipynb). Train the model for 20 epochs. Make sure to store the training history. Depending on the size of your training corpus, this will take some time. For the German to English dataset, training will take about 30 min **with GPU acceleration enabled.**\n",
    "\n",
    "**Useful Resources:**\n",
    "* [DataLoader](https://pytorch.org/docs/stable/data.html#torch.utils.data.DataLoader)\n",
    "* [Dataset or TensorDataset](https://pytorch.org/docs/stable/data.html#torch.utils.data.Dataset)\n",
    "* [How to Accelerate Training using PyTorch with CUDA](https://cnvrg.io/pytorch-cuda/)\n",
    "* [Connection between loss.backward() and optimizer.step()](https://stackoverflow.com/questions/53975717/pytorch-connection-between-loss-backward-and-optimizer-step)\n",
    "\n",
    "**Tutorials:**\n",
    "* [Translation With a Sequence to Sequence Network and Attention](https://pytorch.org/tutorials/intermediate/seq2seq_translation_tutorial.html)\n",
    "* [Sequence to Sequence Learning with Neural Networks](https://github.com/bentrevett/pytorch-seq2seq/blob/master/1%20-%20Sequence%20to%20Sequence%20Learning%20with%20Neural%20Networks.ipynb)\n",
    "* [Neural Machine Translation by Jointly Learning to Align and Translate](https://github.com/bentrevett/pytorch-seq2seq/blob/master/3%20-%20Neural%20Machine%20Translation%20by%20Jointly%20Learning%20to%20Align%20and%20Translate.ipynb)\n"
   ]
  },
  {
   "cell_type": "code",
   "execution_count": 19,
   "id": "b1858a3e",
   "metadata": {
    "execution": {
     "iopub.execute_input": "2023-11-21T20:32:25.336926Z",
     "iopub.status.busy": "2023-11-21T20:32:25.336240Z",
     "iopub.status.idle": "2023-11-21T20:32:31.109301Z",
     "shell.execute_reply": "2023-11-21T20:32:31.108239Z"
    },
    "papermill": {
     "duration": 5.796428,
     "end_time": "2023-11-21T20:32:31.112047",
     "exception": false,
     "start_time": "2023-11-21T20:32:25.315619",
     "status": "completed"
    },
    "tags": []
   },
   "outputs": [
    {
     "name": "stdout",
     "output_type": "stream",
     "text": [
      "Using device: cuda\n"
     ]
    }
   ],
   "source": [
    "device = torch.device(\"cuda\" if torch.cuda.is_available() else \"cpu\")\n",
    "print(f\"Using device: {device}\")\n",
    "\n",
    "model = model.to(device)"
   ]
  },
  {
   "cell_type": "code",
   "execution_count": 20,
   "id": "0b4e20cd",
   "metadata": {
    "execution": {
     "iopub.execute_input": "2023-11-21T20:32:31.154135Z",
     "iopub.status.busy": "2023-11-21T20:32:31.153333Z",
     "iopub.status.idle": "2023-11-21T20:32:31.157828Z",
     "shell.execute_reply": "2023-11-21T20:32:31.156887Z"
    },
    "papermill": {
     "duration": 0.026958,
     "end_time": "2023-11-21T20:32:31.159866",
     "exception": false,
     "start_time": "2023-11-21T20:32:31.132908",
     "status": "completed"
    },
    "tags": []
   },
   "outputs": [],
   "source": [
    "# Training Parameters\n",
    "batch_size = 128  # You can adjust this\n",
    "epochs = 45  # You can adjust this\n"
   ]
  },
  {
   "cell_type": "markdown",
   "id": "5f36039f",
   "metadata": {
    "papermill": {
     "duration": 0.019128,
     "end_time": "2023-11-21T20:32:31.199156",
     "exception": false,
     "start_time": "2023-11-21T20:32:31.180028",
     "status": "completed"
    },
    "tags": []
   },
   "source": [
    "**Split into train and validation set:**"
   ]
  },
  {
   "cell_type": "code",
   "execution_count": 21,
   "id": "5bd711b4",
   "metadata": {
    "execution": {
     "iopub.execute_input": "2023-11-21T20:32:31.239193Z",
     "iopub.status.busy": "2023-11-21T20:32:31.238892Z",
     "iopub.status.idle": "2023-11-21T20:32:31.411507Z",
     "shell.execute_reply": "2023-11-21T20:32:31.410628Z"
    },
    "papermill": {
     "duration": 0.195328,
     "end_time": "2023-11-21T20:32:31.414005",
     "exception": false,
     "start_time": "2023-11-21T20:32:31.218677",
     "status": "completed"
    },
    "tags": []
   },
   "outputs": [],
   "source": [
    "import torch\n",
    "from torch.utils.data import DataLoader, TensorDataset, random_split\n",
    "\n",
    "# Convert data to tensors\n",
    "train_X = torch.stack(train_X)\n",
    "train_y = torch.stack(train_y)\n",
    "\n",
    "# Define the proportion for the validation set (e.g., 80% train, 20% validation)\n",
    "val_ratio = 0.2\n",
    "total_samples = len(train_X)\n",
    "\n",
    "val_size = int(total_samples * val_ratio) # Calculate the number of samples for the validation set\n",
    "train_size = total_samples - val_size # Calculate the number of samples for the training set\n",
    "\n",
    "# Use random_split to split the dataset\n",
    "train_dataset, val_dataset = random_split(\n",
    "    TensorDataset(train_X, train_y), [train_size, val_size]\n",
    ")\n",
    "\n",
    "# Create DataLoader for training and validation\n",
    "train_loader = DataLoader(train_dataset, batch_size=batch_size, shuffle=True)\n",
    "val_loader = DataLoader(val_dataset, batch_size=batch_size)"
   ]
  },
  {
   "cell_type": "markdown",
   "id": "5b57c2b3",
   "metadata": {
    "papermill": {
     "duration": 0.019102,
     "end_time": "2023-11-21T20:32:31.453998",
     "exception": false,
     "start_time": "2023-11-21T20:32:31.434896",
     "status": "completed"
    },
    "tags": []
   },
   "source": [
    "**Functions for training and validation:**"
   ]
  },
  {
   "cell_type": "code",
   "execution_count": 22,
   "id": "fdf8120e",
   "metadata": {
    "execution": {
     "iopub.execute_input": "2023-11-21T20:32:31.493834Z",
     "iopub.status.busy": "2023-11-21T20:32:31.493475Z",
     "iopub.status.idle": "2023-11-21T20:32:31.506471Z",
     "shell.execute_reply": "2023-11-21T20:32:31.505585Z"
    },
    "papermill": {
     "duration": 0.03542,
     "end_time": "2023-11-21T20:32:31.508644",
     "exception": false,
     "start_time": "2023-11-21T20:32:31.473224",
     "status": "completed"
    },
    "tags": []
   },
   "outputs": [],
   "source": [
    "import torch\n",
    "from tqdm import tqdm\n",
    "\n",
    "def trainModel(model, device, train_loader, optimizer, loss_function, epoch, epochs):\n",
    "    \"\"\"Train the model for one epoch.\"\"\"\n",
    "    \n",
    "    model.train()  # Set the model to training mode, enabling specific layers like dropout, batchnorm etc.\n",
    "    train_loader = tqdm(train_loader, desc=f\"Epoch {epoch+1}/{epochs}\")\n",
    "    total_loss = 0  # Initialize total loss for the epoch\n",
    "\n",
    "    for batch_idx, (x_batch, y_batch) in enumerate(train_loader):\n",
    "        x_batch, y_batch = x_batch.to(device), y_batch.to(device)  # Transfer batch to the specified device (GPU or CPU)\n",
    "\n",
    "        optimizer.zero_grad()  # Zero the gradients to prevent accumulation\n",
    "        output = model(x_batch)  # Forward pass: compute predicted outputs by passing inputs to the model\n",
    "        output = output.reshape(-1, output.shape[-1])  # Reshape output if necessary for the loss function\n",
    "        y_batch = y_batch.view(-1)  # Reshape y_batch if necessary to match output dimensions\n",
    "\n",
    "        loss = loss_function(output, y_batch)  # Compute loss: compare model outputs with actual labels\n",
    "        loss.backward()  # Backward pass: compute gradient of the loss with respect to model parameters\n",
    "        optimizer.step()  # Perform a single optimization step (parameter update)\n",
    "        total_loss += loss.item()  # Accumulate the loss over each batch\n",
    "\n",
    "    avg_loss = total_loss / len(train_loader)  # Calculate average loss over all batches\n",
    "    return avg_loss  # Return the average loss for the epoch\n",
    "\n",
    "\n",
    "\n",
    "def validateModel(model, device, val_loader, loss_function):\n",
    "    \"\"\"Evaluate the model.\"\"\"\n",
    "    \n",
    "    model.eval()  # Set the model to evaluation mode, which turns off certain layers like dropout\n",
    "    total_val_loss = 0  # Initialize total validation loss for the epoch\n",
    "\n",
    "    with torch.no_grad():  # Disable gradient calculation for validation, saving memory and computations\n",
    "        for x_val, y_val in val_loader:  # Iterate over batches in the validation loader\n",
    "            x_val, y_val = x_val.to(device), y_val.to(device)  # Transfer batch to the specified device (GPU or CPU)\n",
    "            \n",
    "            val_output = model(x_val)  # Forward pass: compute predictions by passing validation data to the model\n",
    "            val_output = val_output.reshape(-1, val_output.shape[-1])  # Reshape output if necessary for the loss function\n",
    "            y_val = y_val.view(-1)  # Reshape y_val if necessary to match output dimensions\n",
    "\n",
    "            val_loss = loss_function(val_output, y_val)  # Compute loss: compare model predictions with actual labels\n",
    "            total_val_loss += val_loss.item()  # Accumulate the validation loss over each batch\n",
    "\n",
    "    avg_val_loss = total_val_loss / len(val_loader)  # Calculate average loss over all validation batches\n",
    "    return avg_val_loss  # Return the average loss for the validation dataset\n"
   ]
  },
  {
   "cell_type": "markdown",
   "id": "92af5737",
   "metadata": {
    "papermill": {
     "duration": 0.019119,
     "end_time": "2023-11-21T20:32:31.547475",
     "exception": false,
     "start_time": "2023-11-21T20:32:31.528356",
     "status": "completed"
    },
    "tags": []
   },
   "source": [
    "**Training for multiple epochs:**"
   ]
  },
  {
   "cell_type": "code",
   "execution_count": 23,
   "id": "4f66698a",
   "metadata": {
    "execution": {
     "iopub.execute_input": "2023-11-21T20:32:31.587188Z",
     "iopub.status.busy": "2023-11-21T20:32:31.586905Z",
     "iopub.status.idle": "2023-11-21T21:03:24.866485Z",
     "shell.execute_reply": "2023-11-21T21:03:24.865511Z"
    },
    "papermill": {
     "duration": 1853.302216,
     "end_time": "2023-11-21T21:03:24.868916",
     "exception": false,
     "start_time": "2023-11-21T20:32:31.566700",
     "status": "completed"
    },
    "tags": []
   },
   "outputs": [
    {
     "name": "stderr",
     "output_type": "stream",
     "text": [
      "Epoch 1/45: 100%|██████████| 310/310 [00:39<00:00,  7.93it/s]\n"
     ]
    },
    {
     "name": "stdout",
     "output_type": "stream",
     "text": [
      "Training Loss: 4.1038\n",
      "Validation Loss: 3.6270\n"
     ]
    },
    {
     "name": "stderr",
     "output_type": "stream",
     "text": [
      "Epoch 2/45: 100%|██████████| 310/310 [00:38<00:00,  8.10it/s]\n"
     ]
    },
    {
     "name": "stdout",
     "output_type": "stream",
     "text": [
      "Training Loss: 3.2975\n",
      "Validation Loss: 3.2978\n"
     ]
    },
    {
     "name": "stderr",
     "output_type": "stream",
     "text": [
      "Epoch 3/45: 100%|██████████| 310/310 [00:37<00:00,  8.18it/s]\n"
     ]
    },
    {
     "name": "stdout",
     "output_type": "stream",
     "text": [
      "Training Loss: 2.8927\n",
      "Validation Loss: 3.1193\n"
     ]
    },
    {
     "name": "stderr",
     "output_type": "stream",
     "text": [
      "Epoch 4/45: 100%|██████████| 310/310 [00:37<00:00,  8.21it/s]\n"
     ]
    },
    {
     "name": "stdout",
     "output_type": "stream",
     "text": [
      "Training Loss: 2.5556\n",
      "Validation Loss: 3.0002\n"
     ]
    },
    {
     "name": "stderr",
     "output_type": "stream",
     "text": [
      "Epoch 5/45: 100%|██████████| 310/310 [00:38<00:00,  8.15it/s]\n"
     ]
    },
    {
     "name": "stdout",
     "output_type": "stream",
     "text": [
      "Training Loss: 2.2598\n",
      "Validation Loss: 2.9458\n"
     ]
    },
    {
     "name": "stderr",
     "output_type": "stream",
     "text": [
      "Epoch 6/45: 100%|██████████| 310/310 [00:37<00:00,  8.22it/s]\n"
     ]
    },
    {
     "name": "stdout",
     "output_type": "stream",
     "text": [
      "Training Loss: 1.9932\n",
      "Validation Loss: 2.9783\n"
     ]
    },
    {
     "name": "stderr",
     "output_type": "stream",
     "text": [
      "Epoch 7/45: 100%|██████████| 310/310 [00:37<00:00,  8.21it/s]\n"
     ]
    },
    {
     "name": "stdout",
     "output_type": "stream",
     "text": [
      "Training Loss: 1.7564\n",
      "Validation Loss: 2.9812\n"
     ]
    },
    {
     "name": "stderr",
     "output_type": "stream",
     "text": [
      "Epoch 8/45: 100%|██████████| 310/310 [00:37<00:00,  8.21it/s]\n"
     ]
    },
    {
     "name": "stdout",
     "output_type": "stream",
     "text": [
      "Training Loss: 1.5505\n",
      "Validation Loss: 3.0920\n"
     ]
    },
    {
     "name": "stderr",
     "output_type": "stream",
     "text": [
      "Epoch 9/45: 100%|██████████| 310/310 [00:38<00:00,  8.14it/s]\n"
     ]
    },
    {
     "name": "stdout",
     "output_type": "stream",
     "text": [
      "Training Loss: 1.3709\n",
      "Validation Loss: 3.0387\n"
     ]
    },
    {
     "name": "stderr",
     "output_type": "stream",
     "text": [
      "Epoch 10/45: 100%|██████████| 310/310 [00:37<00:00,  8.18it/s]\n"
     ]
    },
    {
     "name": "stdout",
     "output_type": "stream",
     "text": [
      "Training Loss: 1.2115\n",
      "Validation Loss: 3.0996\n"
     ]
    },
    {
     "name": "stderr",
     "output_type": "stream",
     "text": [
      "Epoch 11/45: 100%|██████████| 310/310 [00:37<00:00,  8.20it/s]\n"
     ]
    },
    {
     "name": "stdout",
     "output_type": "stream",
     "text": [
      "Training Loss: 1.0767\n",
      "Validation Loss: 3.1884\n"
     ]
    },
    {
     "name": "stderr",
     "output_type": "stream",
     "text": [
      "Epoch 12/45: 100%|██████████| 310/310 [00:38<00:00,  8.13it/s]\n"
     ]
    },
    {
     "name": "stdout",
     "output_type": "stream",
     "text": [
      "Training Loss: 0.9548\n",
      "Validation Loss: 3.2885\n"
     ]
    },
    {
     "name": "stderr",
     "output_type": "stream",
     "text": [
      "Epoch 13/45: 100%|██████████| 310/310 [00:37<00:00,  8.21it/s]\n"
     ]
    },
    {
     "name": "stdout",
     "output_type": "stream",
     "text": [
      "Training Loss: 0.8521\n",
      "Validation Loss: 3.3427\n"
     ]
    },
    {
     "name": "stderr",
     "output_type": "stream",
     "text": [
      "Epoch 14/45: 100%|██████████| 310/310 [00:37<00:00,  8.21it/s]\n"
     ]
    },
    {
     "name": "stdout",
     "output_type": "stream",
     "text": [
      "Training Loss: 0.7616\n",
      "Validation Loss: 3.4636\n"
     ]
    },
    {
     "name": "stderr",
     "output_type": "stream",
     "text": [
      "Epoch 15/45: 100%|██████████| 310/310 [00:37<00:00,  8.20it/s]\n"
     ]
    },
    {
     "name": "stdout",
     "output_type": "stream",
     "text": [
      "Training Loss: 0.6864\n",
      "Validation Loss: 3.4813\n"
     ]
    },
    {
     "name": "stderr",
     "output_type": "stream",
     "text": [
      "Epoch 16/45: 100%|██████████| 310/310 [00:38<00:00,  8.14it/s]\n"
     ]
    },
    {
     "name": "stdout",
     "output_type": "stream",
     "text": [
      "Training Loss: 0.6178\n",
      "Validation Loss: 3.5599\n"
     ]
    },
    {
     "name": "stderr",
     "output_type": "stream",
     "text": [
      "Epoch 17/45: 100%|██████████| 310/310 [00:37<00:00,  8.20it/s]\n"
     ]
    },
    {
     "name": "stdout",
     "output_type": "stream",
     "text": [
      "Training Loss: 0.5579\n",
      "Validation Loss: 3.6166\n"
     ]
    },
    {
     "name": "stderr",
     "output_type": "stream",
     "text": [
      "Epoch 18/45: 100%|██████████| 310/310 [00:37<00:00,  8.22it/s]\n"
     ]
    },
    {
     "name": "stdout",
     "output_type": "stream",
     "text": [
      "Training Loss: 0.5046\n",
      "Validation Loss: 3.6940\n"
     ]
    },
    {
     "name": "stderr",
     "output_type": "stream",
     "text": [
      "Epoch 19/45: 100%|██████████| 310/310 [00:38<00:00,  8.16it/s]\n"
     ]
    },
    {
     "name": "stdout",
     "output_type": "stream",
     "text": [
      "Training Loss: 0.4619\n",
      "Validation Loss: 3.7446\n"
     ]
    },
    {
     "name": "stderr",
     "output_type": "stream",
     "text": [
      "Epoch 20/45: 100%|██████████| 310/310 [00:37<00:00,  8.22it/s]\n"
     ]
    },
    {
     "name": "stdout",
     "output_type": "stream",
     "text": [
      "Training Loss: 0.4261\n",
      "Validation Loss: 3.8322\n"
     ]
    },
    {
     "name": "stderr",
     "output_type": "stream",
     "text": [
      "Epoch 21/45: 100%|██████████| 310/310 [00:37<00:00,  8.21it/s]\n"
     ]
    },
    {
     "name": "stdout",
     "output_type": "stream",
     "text": [
      "Training Loss: 0.3885\n",
      "Validation Loss: 3.9048\n"
     ]
    },
    {
     "name": "stderr",
     "output_type": "stream",
     "text": [
      "Epoch 22/45: 100%|██████████| 310/310 [00:37<00:00,  8.21it/s]\n"
     ]
    },
    {
     "name": "stdout",
     "output_type": "stream",
     "text": [
      "Training Loss: 0.3607\n",
      "Validation Loss: 3.9856\n"
     ]
    },
    {
     "name": "stderr",
     "output_type": "stream",
     "text": [
      "Epoch 23/45: 100%|██████████| 310/310 [00:38<00:00,  8.15it/s]\n"
     ]
    },
    {
     "name": "stdout",
     "output_type": "stream",
     "text": [
      "Training Loss: 0.3368\n",
      "Validation Loss: 4.0065\n"
     ]
    },
    {
     "name": "stderr",
     "output_type": "stream",
     "text": [
      "Epoch 24/45: 100%|██████████| 310/310 [00:37<00:00,  8.19it/s]\n"
     ]
    },
    {
     "name": "stdout",
     "output_type": "stream",
     "text": [
      "Training Loss: 0.3189\n",
      "Validation Loss: 4.0682\n"
     ]
    },
    {
     "name": "stderr",
     "output_type": "stream",
     "text": [
      "Epoch 25/45: 100%|██████████| 310/310 [00:37<00:00,  8.20it/s]\n"
     ]
    },
    {
     "name": "stdout",
     "output_type": "stream",
     "text": [
      "Training Loss: 0.2978\n",
      "Validation Loss: 4.1292\n"
     ]
    },
    {
     "name": "stderr",
     "output_type": "stream",
     "text": [
      "Epoch 26/45: 100%|██████████| 310/310 [00:38<00:00,  8.13it/s]\n"
     ]
    },
    {
     "name": "stdout",
     "output_type": "stream",
     "text": [
      "Training Loss: 0.2795\n",
      "Validation Loss: 4.1848\n"
     ]
    },
    {
     "name": "stderr",
     "output_type": "stream",
     "text": [
      "Epoch 27/45: 100%|██████████| 310/310 [00:37<00:00,  8.20it/s]\n"
     ]
    },
    {
     "name": "stdout",
     "output_type": "stream",
     "text": [
      "Training Loss: 0.2671\n",
      "Validation Loss: 4.2365\n"
     ]
    },
    {
     "name": "stderr",
     "output_type": "stream",
     "text": [
      "Epoch 28/45: 100%|██████████| 310/310 [00:37<00:00,  8.21it/s]\n"
     ]
    },
    {
     "name": "stdout",
     "output_type": "stream",
     "text": [
      "Training Loss: 0.2509\n",
      "Validation Loss: 4.2908\n"
     ]
    },
    {
     "name": "stderr",
     "output_type": "stream",
     "text": [
      "Epoch 29/45: 100%|██████████| 310/310 [00:37<00:00,  8.20it/s]\n"
     ]
    },
    {
     "name": "stdout",
     "output_type": "stream",
     "text": [
      "Training Loss: 0.2386\n",
      "Validation Loss: 4.3142\n"
     ]
    },
    {
     "name": "stderr",
     "output_type": "stream",
     "text": [
      "Epoch 30/45: 100%|██████████| 310/310 [00:38<00:00,  8.14it/s]\n"
     ]
    },
    {
     "name": "stdout",
     "output_type": "stream",
     "text": [
      "Training Loss: 0.2331\n",
      "Validation Loss: 4.3641\n"
     ]
    },
    {
     "name": "stderr",
     "output_type": "stream",
     "text": [
      "Epoch 31/45: 100%|██████████| 310/310 [00:37<00:00,  8.21it/s]\n"
     ]
    },
    {
     "name": "stdout",
     "output_type": "stream",
     "text": [
      "Training Loss: 0.2217\n",
      "Validation Loss: 4.3830\n"
     ]
    },
    {
     "name": "stderr",
     "output_type": "stream",
     "text": [
      "Epoch 32/45: 100%|██████████| 310/310 [00:37<00:00,  8.21it/s]\n"
     ]
    },
    {
     "name": "stdout",
     "output_type": "stream",
     "text": [
      "Training Loss: 0.2134\n",
      "Validation Loss: 4.4636\n"
     ]
    },
    {
     "name": "stderr",
     "output_type": "stream",
     "text": [
      "Epoch 33/45: 100%|██████████| 310/310 [00:38<00:00,  8.15it/s]\n"
     ]
    },
    {
     "name": "stdout",
     "output_type": "stream",
     "text": [
      "Training Loss: 0.2041\n",
      "Validation Loss: 4.5070\n"
     ]
    },
    {
     "name": "stderr",
     "output_type": "stream",
     "text": [
      "Epoch 34/45: 100%|██████████| 310/310 [00:37<00:00,  8.20it/s]\n"
     ]
    },
    {
     "name": "stdout",
     "output_type": "stream",
     "text": [
      "Training Loss: 0.1983\n",
      "Validation Loss: 4.5314\n"
     ]
    },
    {
     "name": "stderr",
     "output_type": "stream",
     "text": [
      "Epoch 35/45: 100%|██████████| 310/310 [00:37<00:00,  8.21it/s]\n"
     ]
    },
    {
     "name": "stdout",
     "output_type": "stream",
     "text": [
      "Training Loss: 0.1909\n",
      "Validation Loss: 4.5597\n"
     ]
    },
    {
     "name": "stderr",
     "output_type": "stream",
     "text": [
      "Epoch 36/45: 100%|██████████| 310/310 [00:37<00:00,  8.20it/s]\n"
     ]
    },
    {
     "name": "stdout",
     "output_type": "stream",
     "text": [
      "Training Loss: 0.1870\n",
      "Validation Loss: 4.5545\n"
     ]
    },
    {
     "name": "stderr",
     "output_type": "stream",
     "text": [
      "Epoch 37/45: 100%|██████████| 310/310 [00:38<00:00,  8.14it/s]\n"
     ]
    },
    {
     "name": "stdout",
     "output_type": "stream",
     "text": [
      "Training Loss: 0.1789\n",
      "Validation Loss: 4.6408\n"
     ]
    },
    {
     "name": "stderr",
     "output_type": "stream",
     "text": [
      "Epoch 38/45: 100%|██████████| 310/310 [00:37<00:00,  8.21it/s]\n"
     ]
    },
    {
     "name": "stdout",
     "output_type": "stream",
     "text": [
      "Training Loss: 0.1768\n",
      "Validation Loss: 4.6482\n"
     ]
    },
    {
     "name": "stderr",
     "output_type": "stream",
     "text": [
      "Epoch 39/45: 100%|██████████| 310/310 [00:37<00:00,  8.21it/s]\n"
     ]
    },
    {
     "name": "stdout",
     "output_type": "stream",
     "text": [
      "Training Loss: 0.1713\n",
      "Validation Loss: 4.7059\n"
     ]
    },
    {
     "name": "stderr",
     "output_type": "stream",
     "text": [
      "Epoch 40/45: 100%|██████████| 310/310 [00:38<00:00,  8.15it/s]\n"
     ]
    },
    {
     "name": "stdout",
     "output_type": "stream",
     "text": [
      "Training Loss: 0.1658\n",
      "Validation Loss: 4.7055\n"
     ]
    },
    {
     "name": "stderr",
     "output_type": "stream",
     "text": [
      "Epoch 41/45: 100%|██████████| 310/310 [00:37<00:00,  8.21it/s]\n"
     ]
    },
    {
     "name": "stdout",
     "output_type": "stream",
     "text": [
      "Training Loss: 0.1628\n",
      "Validation Loss: 4.7414\n"
     ]
    },
    {
     "name": "stderr",
     "output_type": "stream",
     "text": [
      "Epoch 42/45: 100%|██████████| 310/310 [00:37<00:00,  8.21it/s]\n"
     ]
    },
    {
     "name": "stdout",
     "output_type": "stream",
     "text": [
      "Training Loss: 0.1593\n",
      "Validation Loss: 4.7914\n"
     ]
    },
    {
     "name": "stderr",
     "output_type": "stream",
     "text": [
      "Epoch 43/45: 100%|██████████| 310/310 [00:37<00:00,  8.20it/s]\n"
     ]
    },
    {
     "name": "stdout",
     "output_type": "stream",
     "text": [
      "Training Loss: 0.1527\n",
      "Validation Loss: 4.7939\n"
     ]
    },
    {
     "name": "stderr",
     "output_type": "stream",
     "text": [
      "Epoch 44/45: 100%|██████████| 310/310 [00:38<00:00,  8.13it/s]\n"
     ]
    },
    {
     "name": "stdout",
     "output_type": "stream",
     "text": [
      "Training Loss: 0.1536\n",
      "Validation Loss: 4.8259\n"
     ]
    },
    {
     "name": "stderr",
     "output_type": "stream",
     "text": [
      "Epoch 45/45: 100%|██████████| 310/310 [00:37<00:00,  8.21it/s]\n"
     ]
    },
    {
     "name": "stdout",
     "output_type": "stream",
     "text": [
      "Training Loss: 0.1506\n",
      "Validation Loss: 4.8420\n"
     ]
    }
   ],
   "source": [
    "from torch.utils.data import DataLoader, TensorDataset\n",
    "from tqdm import tqdm\n",
    "\n",
    "# Lists to store loss values\n",
    "loss_values = []  \n",
    "loss_values_val = []\n",
    "\n",
    "# Training Loop with GPU support\n",
    "for epoch in range(epochs):\n",
    "\n",
    "    # Training\n",
    "    avg_loss = trainModel(model, device, train_loader, optimizer, loss_function, epoch, epochs)\n",
    "    loss_values.append(avg_loss)\n",
    "    print(f'Training Loss: {avg_loss:.4f}')\n",
    "\n",
    "    # Validation\n",
    "    avg_val_loss = validateModel(model, device, val_loader, loss_function)\n",
    "    loss_values_val.append(avg_val_loss)\n",
    "    print(f'Validation Loss: {avg_val_loss:.4f}')\n",
    "\n",
    "# Save your model after training\n",
    "torch.save(model.state_dict(), 'seq2seq_model.pth')"
   ]
  },
  {
   "cell_type": "markdown",
   "id": "b6255ed2",
   "metadata": {
    "papermill": {
     "duration": 1.074053,
     "end_time": "2023-11-21T21:03:27.100957",
     "exception": false,
     "start_time": "2023-11-21T21:03:26.026904",
     "status": "completed"
    },
    "tags": []
   },
   "source": [
    "<div style=\"position:relative;padding:.75rem 1.25rem;margin-bottom:1rem;border:1px solid transparent;border-radius:.25rem;background-color:#dae8fc;border-color:#6c8ebf;color:#0c5460\">\n",
    "<b>Step 3: Plot Training History</b> \n",
    "</div>\n",
    "\n",
    "Plot the training and validation loss for each epoch and provide a short interpretation. Did the model learn? Is the model overfitting or underfitting?"
   ]
  },
  {
   "cell_type": "code",
   "execution_count": 24,
   "id": "e84aa998",
   "metadata": {
    "execution": {
     "iopub.execute_input": "2023-11-21T21:03:29.217376Z",
     "iopub.status.busy": "2023-11-21T21:03:29.216999Z",
     "iopub.status.idle": "2023-11-21T21:03:29.443818Z",
     "shell.execute_reply": "2023-11-21T21:03:29.442878Z"
    },
    "papermill": {
     "duration": 1.260177,
     "end_time": "2023-11-21T21:03:29.446090",
     "exception": false,
     "start_time": "2023-11-21T21:03:28.185913",
     "status": "completed"
    },
    "tags": []
   },
   "outputs": [
    {
     "data": {
      "image/png": "[encoded data removed]",
      "text/plain": [
       "<Figure size 432x288 with 1 Axes>"
      ]
     },
     "metadata": {
      "needs_background": "light"
     },
     "output_type": "display_data"
    }
   ],
   "source": [
    "# Plot validation and train loss per epoch\n",
    "plt.plot(loss_values)\n",
    "plt.plot(loss_values_val)\n",
    "plt.legend(['train','validation'])\n",
    "plt.show()"
   ]
  },
  {
   "cell_type": "markdown",
   "id": "2713abbd",
   "metadata": {
    "papermill": {
     "duration": 1.033098,
     "end_time": "2023-11-21T21:03:31.577874",
     "exception": false,
     "start_time": "2023-11-21T21:03:30.544776",
     "status": "completed"
    },
    "tags": []
   },
   "source": [
    "**Interpret the training history:**\n",
    "\n",
    "The model clearly was able to learn, as shown by the decreasing loss. After some epochs, the validation loss remains higher than the training loss, which may suggests that the model is subject to some amount of  overfitting.\n"
   ]
  },
  {
   "cell_type": "markdown",
   "id": "862229da",
   "metadata": {
    "papermill": {
     "duration": 1.045892,
     "end_time": "2023-11-21T21:03:33.707159",
     "exception": false,
     "start_time": "2023-11-21T21:03:32.661267",
     "status": "completed"
    },
    "tags": []
   },
   "source": [
    "## Task 3: Evaluate Model"
   ]
  },
  {
   "cell_type": "markdown",
   "id": "7bf72560",
   "metadata": {
    "papermill": {
     "duration": 1.100316,
     "end_time": "2023-11-21T21:03:35.893703",
     "exception": false,
     "start_time": "2023-11-21T21:03:34.793387",
     "status": "completed"
    },
    "tags": []
   },
   "source": [
    "<div style=\"position:relative;padding:.75rem 1.25rem;margin-bottom:1rem;border:1px solid transparent;border-radius:.25rem;background-color:#dae8fc;border-color:#6c8ebf;color:#0c5460\">\n",
    "<b>Step 1: Make Predictions</b> \n",
    "</div>\n",
    "\n",
    "We can now test how good the model is at translating. We ask you to implement the following steps:\n",
    "\n",
    "1. Use the model to translate the sentences in the test dataset. The model will return logits, which you need to convert to probabilites over the whole vocabulary for every output token a using a [softmax layer](https://pytorch.org/docs/stable/generated/torch.nn.functional.softmax.html).  \n",
    "2. Convert the probabilities into word IDs [torch.argmax()](https://pytorch.org/docs/stable/generated/torch.argmax.html)\n",
    "3. Convert the word IDs into sentences by matching them to the corresponding words using the function you implemented earlier."
   ]
  },
  {
   "cell_type": "code",
   "execution_count": 25,
   "id": "3242a9ed",
   "metadata": {
    "execution": {
     "iopub.execute_input": "2023-11-21T21:03:38.036447Z",
     "iopub.status.busy": "2023-11-21T21:03:38.036062Z",
     "iopub.status.idle": "2023-11-21T21:03:38.045619Z",
     "shell.execute_reply": "2023-11-21T21:03:38.044720Z"
    },
    "papermill": {
     "duration": 1.099771,
     "end_time": "2023-11-21T21:03:38.047832",
     "exception": false,
     "start_time": "2023-11-21T21:03:36.948061",
     "status": "completed"
    },
    "tags": []
   },
   "outputs": [],
   "source": [
    "# OPTIONAL: Load the best performing checkpoint\n",
    "# model = load_model('best_model')\n",
    "\n",
    "import torch\n",
    "import numpy as np\n",
    "\n",
    "def getPredictions(model, device, test_X):\n",
    "    \"\"\"Performs predictions using the provided model on the test data.\"\"\"\n",
    "    \n",
    "    model.eval()  # Set the model to evaluation mode\n",
    "\n",
    "    # Check if test_X is a list of tensors, and if so, stack them into a single tensor\n",
    "    if isinstance(test_X, list) and all(isinstance(x, torch.Tensor) for x in test_X):\n",
    "        test_X_tensor = torch.stack(test_X).to(device)\n",
    "    elif isinstance(test_X, torch.Tensor):\n",
    "        test_X_tensor = test_X.to(device)\n",
    "    else:\n",
    "        raise ValueError(\"test_X must be a tensor or a list of tensors\")\n",
    "\n",
    "    # Move the tensor to the correct device\n",
    "    test_X_tensor = test_X_tensor.to(device)\n",
    "\n",
    "    # No gradients needed for inference\n",
    "    with torch.no_grad():\n",
    "        # Forward pass through the model\n",
    "        raw_predictions = model(test_X_tensor)\n",
    "\n",
    "        # Apply softmax and argmax to get the most likely class (word index)\n",
    "        probabilities = torch.nn.functional.softmax(raw_predictions, dim=-1)\n",
    "        predictions = torch.argmax(probabilities, dim=-1)\n",
    "\n",
    "        # Move predictions to CPU and convert to NumPy array\n",
    "        predictions_np = predictions.cpu().numpy()\n",
    "\n",
    "    return predictions_np"
   ]
  },
  {
   "cell_type": "code",
   "execution_count": 26,
   "id": "0e22db32",
   "metadata": {
    "execution": {
     "iopub.execute_input": "2023-11-21T21:03:40.166929Z",
     "iopub.status.busy": "2023-11-21T21:03:40.165945Z",
     "iopub.status.idle": "2023-11-21T21:03:40.348436Z",
     "shell.execute_reply": "2023-11-21T21:03:40.347445Z"
    },
    "papermill": {
     "duration": 1.215209,
     "end_time": "2023-11-21T21:03:40.350652",
     "exception": false,
     "start_time": "2023-11-21T21:03:39.135443",
     "status": "completed"
    },
    "tags": []
   },
   "outputs": [
    {
     "name": "stdout",
     "output_type": "stream",
     "text": [
      "First test example translated: 'tom has given a a direction .'\n"
     ]
    }
   ],
   "source": [
    "# Get predictions\n",
    "predictions = getPredictions(model, device, test_X)\n",
    "\n",
    "# vocab_en is your torchtext Vocab object for English\n",
    "index_to_word_en = vocab_en.get_itos()  # Get the index-to-string list\n",
    "\n",
    "sos_index = vocab_en['<sos>']\n",
    "eos_index = vocab_en['<eos>']\n",
    "    \n",
    "decoded_predictions = [decodeSequence(pred, index_to_word_en, sos_index, eos_index) for pred in predictions]\n",
    "\n",
    "# Print the first decoded prediction\n",
    "print(f\"First test example translated: '{decoded_predictions[0]}'\")"
   ]
  },
  {
   "cell_type": "markdown",
   "id": "04072ebf",
   "metadata": {
    "papermill": {
     "duration": 1.072884,
     "end_time": "2023-11-21T21:03:42.552418",
     "exception": false,
     "start_time": "2023-11-21T21:03:41.479534",
     "status": "completed"
    },
    "tags": []
   },
   "source": [
    "<div style=\"position:relative;padding:.75rem 1.25rem;margin-bottom:1rem;border:1px solid transparent;border-radius:.25rem;background-color:#dae8fc;border-color:#6c8ebf;color:#0c5460\">\n",
    "<b>Step 2: Compare Predictions with Label</b> \n",
    "</div>\n",
    "\n",
    "Now compare the predictions with the correct translations:\n",
    "\n",
    "1. Calculate the [edit distance](https://www.nltk.org/api/nltk.metrics.distance.html#nltk.metrics.distance.edit_distance) between predicted English sentence and correct translation. \n",
    "2. Calculate the [sentence BLEU score](https://www.nltk.org/api/nltk.translate.bleu_score.html#nltk.translate.bleu_score.sentence_bleu) with the correct translation as reference and the prediction as hypotheses. [Here](https://aclanthology.org/P02-1040.pdf) you can read more about the BLEU Score.\n",
    "3. Calculate the mean BLEU score and mean edit distance.\n",
    "3. Print out the worst and the best predictions. \n",
    "4. Provide a short assessment of the translation's quality. Did the model capture the key aspects of the input sentence most of the time? "
   ]
  },
  {
   "cell_type": "code",
   "execution_count": 27,
   "id": "c40f52d0",
   "metadata": {
    "execution": {
     "iopub.execute_input": "2023-11-21T21:03:44.667597Z",
     "iopub.status.busy": "2023-11-21T21:03:44.667194Z",
     "iopub.status.idle": "2023-11-21T21:03:44.681676Z",
     "shell.execute_reply": "2023-11-21T21:03:44.680770Z"
    },
    "papermill": {
     "duration": 1.046739,
     "end_time": "2023-11-21T21:03:44.683739",
     "exception": false,
     "start_time": "2023-11-21T21:03:43.637000",
     "status": "completed"
    },
    "tags": []
   },
   "outputs": [
    {
     "data": {
      "text/html": [
       "<div>\n",
       "<style scoped>\n",
       "    .dataframe tbody tr th:only-of-type {\n",
       "        vertical-align: middle;\n",
       "    }\n",
       "\n",
       "    .dataframe tbody tr th {\n",
       "        vertical-align: top;\n",
       "    }\n",
       "\n",
       "    .dataframe thead th {\n",
       "        text-align: right;\n",
       "    }\n",
       "</style>\n",
       "<table border=\"1\" class=\"dataframe\">\n",
       "  <thead>\n",
       "    <tr style=\"text-align: right;\">\n",
       "      <th></th>\n",
       "      <th>input</th>\n",
       "      <th>actual</th>\n",
       "      <th>predicted</th>\n",
       "    </tr>\n",
       "  </thead>\n",
       "  <tbody>\n",
       "    <tr>\n",
       "      <th>176495</th>\n",
       "      <td>tom hat alles auf eine karte gesetzt.</td>\n",
       "      <td>tom put all his eggs in one basket.</td>\n",
       "      <td>tom has given a a direction .</td>\n",
       "    </tr>\n",
       "    <tr>\n",
       "      <th>177752</th>\n",
       "      <td>schreib diese worte in dein notizbuch.</td>\n",
       "      <td>write these words in your notebook.</td>\n",
       "      <td>those those to in in grow .</td>\n",
       "    </tr>\n",
       "    <tr>\n",
       "      <th>223150</th>\n",
       "      <td>meine freunde standen mir bei während des proz...</td>\n",
       "      <td>my friends stood by me during the court case.</td>\n",
       "      <td>my friends friends me me me in last . .</td>\n",
       "    </tr>\n",
       "    <tr>\n",
       "      <th>232758</th>\n",
       "      <td>es ist nicht klug, eine frau zu fragen, wie al...</td>\n",
       "      <td>asking a woman how old she is is not a good idea.</td>\n",
       "      <td>it ' s not a lot to to thought thought to to .</td>\n",
       "    </tr>\n",
       "    <tr>\n",
       "      <th>123253</th>\n",
       "      <td>ich werde tom nie mehr erwähnen.</td>\n",
       "      <td>i'll never mention tom again.</td>\n",
       "      <td>i ' ll never harm tom again .</td>\n",
       "    </tr>\n",
       "    <tr>\n",
       "      <th>107545</th>\n",
       "      <td>tom versucht dich hereinzulegen.</td>\n",
       "      <td>tom is trying to trick you.</td>\n",
       "      <td>tom is trying .</td>\n",
       "    </tr>\n",
       "    <tr>\n",
       "      <th>10923</th>\n",
       "      <td>tom mag nüsse.</td>\n",
       "      <td>tom likes nuts.</td>\n",
       "      <td>tom likes like .</td>\n",
       "    </tr>\n",
       "    <tr>\n",
       "      <th>239323</th>\n",
       "      <td>die videokameras dienen hauptsächlich der absc...</td>\n",
       "      <td>the video cameras are mainly there to deter th...</td>\n",
       "      <td>the stars are without at the sea .</td>\n",
       "    </tr>\n",
       "    <tr>\n",
       "      <th>1704</th>\n",
       "      <td>das ist mies.</td>\n",
       "      <td>it's bogus.</td>\n",
       "      <td>that is s .</td>\n",
       "    </tr>\n",
       "    <tr>\n",
       "      <th>183264</th>\n",
       "      <td>tom verbrachte den ganzen tag allein auf seine...</td>\n",
       "      <td>tom spent all day alone in his room.</td>\n",
       "      <td>tom spent all alone alone in the afternoon .</td>\n",
       "    </tr>\n",
       "    <tr>\n",
       "      <th>9155</th>\n",
       "      <td>ich brauche unterstützung.</td>\n",
       "      <td>i need support.</td>\n",
       "      <td>i need one .</td>\n",
       "    </tr>\n",
       "    <tr>\n",
       "      <th>208706</th>\n",
       "      <td>die polizeibeamten nahmen den einbrecher fest.</td>\n",
       "      <td>the police officers arrested the burglar.</td>\n",
       "      <td>the police officers arrested the death .</td>\n",
       "    </tr>\n",
       "    <tr>\n",
       "      <th>75916</th>\n",
       "      <td>meine freunde wissen alle nichts davon.</td>\n",
       "      <td>none of my friends know.</td>\n",
       "      <td>all all know i ' t your .</td>\n",
       "    </tr>\n",
       "    <tr>\n",
       "      <th>192977</th>\n",
       "      <td>tom war kaum zu überzeugen.</td>\n",
       "      <td>it was very difficult to convince tom.</td>\n",
       "      <td>tom was felt to .</td>\n",
       "    </tr>\n",
       "    <tr>\n",
       "      <th>131548</th>\n",
       "      <td>ich hoffe, dass es ein warmer sommer wird.</td>\n",
       "      <td>i hope it'll be a warm summer.</td>\n",
       "      <td>i hope it it ll another another .</td>\n",
       "    </tr>\n",
       "  </tbody>\n",
       "</table>\n",
       "</div>"
      ],
      "text/plain": [
       "                                                    input  \\\n",
       "176495              tom hat alles auf eine karte gesetzt.   \n",
       "177752             schreib diese worte in dein notizbuch.   \n",
       "223150  meine freunde standen mir bei während des proz...   \n",
       "232758  es ist nicht klug, eine frau zu fragen, wie al...   \n",
       "123253                   ich werde tom nie mehr erwähnen.   \n",
       "107545                   tom versucht dich hereinzulegen.   \n",
       "10923                                      tom mag nüsse.   \n",
       "239323  die videokameras dienen hauptsächlich der absc...   \n",
       "1704                                        das ist mies.   \n",
       "183264  tom verbrachte den ganzen tag allein auf seine...   \n",
       "9155                           ich brauche unterstützung.   \n",
       "208706     die polizeibeamten nahmen den einbrecher fest.   \n",
       "75916             meine freunde wissen alle nichts davon.   \n",
       "192977                        tom war kaum zu überzeugen.   \n",
       "131548         ich hoffe, dass es ein warmer sommer wird.   \n",
       "\n",
       "                                                   actual  \\\n",
       "176495                tom put all his eggs in one basket.   \n",
       "177752                write these words in your notebook.   \n",
       "223150      my friends stood by me during the court case.   \n",
       "232758  asking a woman how old she is is not a good idea.   \n",
       "123253                      i'll never mention tom again.   \n",
       "107545                        tom is trying to trick you.   \n",
       "10923                                     tom likes nuts.   \n",
       "239323  the video cameras are mainly there to deter th...   \n",
       "1704                                          it's bogus.   \n",
       "183264               tom spent all day alone in his room.   \n",
       "9155                                      i need support.   \n",
       "208706          the police officers arrested the burglar.   \n",
       "75916                            none of my friends know.   \n",
       "192977             it was very difficult to convince tom.   \n",
       "131548                     i hope it'll be a warm summer.   \n",
       "\n",
       "                                             predicted  \n",
       "176495                   tom has given a a direction .  \n",
       "177752                     those those to in in grow .  \n",
       "223150         my friends friends me me me in last . .  \n",
       "232758  it ' s not a lot to to thought thought to to .  \n",
       "123253                   i ' ll never harm tom again .  \n",
       "107545                                 tom is trying .  \n",
       "10923                                 tom likes like .  \n",
       "239323              the stars are without at the sea .  \n",
       "1704                                       that is s .  \n",
       "183264    tom spent all alone alone in the afternoon .  \n",
       "9155                                      i need one .  \n",
       "208706        the police officers arrested the death .  \n",
       "75916                        all all know i ' t your .  \n",
       "192977                               tom was felt to .  \n",
       "131548               i hope it it ll another another .  "
      ]
     },
     "execution_count": 27,
     "metadata": {},
     "output_type": "execute_result"
    }
   ],
   "source": [
    "# Create new dataset for comparison\n",
    "pred_df = pd.DataFrame({'input' : test[\"german\"], 'actual' : test[\"english\"], 'predicted' : decoded_predictions})\n",
    "pred_df.head(15)"
   ]
  },
  {
   "cell_type": "code",
   "execution_count": 28,
   "id": "2b921086",
   "metadata": {
    "execution": {
     "iopub.execute_input": "2023-11-21T21:03:46.817797Z",
     "iopub.status.busy": "2023-11-21T21:03:46.817424Z",
     "iopub.status.idle": "2023-11-21T21:03:47.834330Z",
     "shell.execute_reply": "2023-11-21T21:03:47.833321Z"
    },
    "papermill": {
     "duration": 2.069178,
     "end_time": "2023-11-21T21:03:47.836527",
     "exception": false,
     "start_time": "2023-11-21T21:03:45.767349",
     "status": "completed"
    },
    "tags": []
   },
   "outputs": [
    {
     "data": {
      "text/html": [
       "<div>\n",
       "<style scoped>\n",
       "    .dataframe tbody tr th:only-of-type {\n",
       "        vertical-align: middle;\n",
       "    }\n",
       "\n",
       "    .dataframe tbody tr th {\n",
       "        vertical-align: top;\n",
       "    }\n",
       "\n",
       "    .dataframe thead th {\n",
       "        text-align: right;\n",
       "    }\n",
       "</style>\n",
       "<table border=\"1\" class=\"dataframe\">\n",
       "  <thead>\n",
       "    <tr style=\"text-align: right;\">\n",
       "      <th></th>\n",
       "      <th>input</th>\n",
       "      <th>actual</th>\n",
       "      <th>predicted</th>\n",
       "      <th>distance</th>\n",
       "    </tr>\n",
       "  </thead>\n",
       "  <tbody>\n",
       "    <tr>\n",
       "      <th>176495</th>\n",
       "      <td>tom hat alles auf eine karte gesetzt.</td>\n",
       "      <td>tom put all his eggs in one basket.</td>\n",
       "      <td>tom has given a a direction .</td>\n",
       "      <td>24</td>\n",
       "    </tr>\n",
       "    <tr>\n",
       "      <th>177752</th>\n",
       "      <td>schreib diese worte in dein notizbuch.</td>\n",
       "      <td>write these words in your notebook.</td>\n",
       "      <td>those those to in in grow .</td>\n",
       "      <td>20</td>\n",
       "    </tr>\n",
       "    <tr>\n",
       "      <th>223150</th>\n",
       "      <td>meine freunde standen mir bei während des proz...</td>\n",
       "      <td>my friends stood by me during the court case.</td>\n",
       "      <td>my friends friends me me me in last . .</td>\n",
       "      <td>24</td>\n",
       "    </tr>\n",
       "    <tr>\n",
       "      <th>232758</th>\n",
       "      <td>es ist nicht klug, eine frau zu fragen, wie al...</td>\n",
       "      <td>asking a woman how old she is is not a good idea.</td>\n",
       "      <td>it ' s not a lot to to thought thought to to .</td>\n",
       "      <td>38</td>\n",
       "    </tr>\n",
       "    <tr>\n",
       "      <th>123253</th>\n",
       "      <td>ich werde tom nie mehr erwähnen.</td>\n",
       "      <td>i'll never mention tom again.</td>\n",
       "      <td>i ' ll never harm tom again .</td>\n",
       "      <td>10</td>\n",
       "    </tr>\n",
       "  </tbody>\n",
       "</table>\n",
       "</div>"
      ],
      "text/plain": [
       "                                                    input  \\\n",
       "176495              tom hat alles auf eine karte gesetzt.   \n",
       "177752             schreib diese worte in dein notizbuch.   \n",
       "223150  meine freunde standen mir bei während des proz...   \n",
       "232758  es ist nicht klug, eine frau zu fragen, wie al...   \n",
       "123253                   ich werde tom nie mehr erwähnen.   \n",
       "\n",
       "                                                   actual  \\\n",
       "176495                tom put all his eggs in one basket.   \n",
       "177752                write these words in your notebook.   \n",
       "223150      my friends stood by me during the court case.   \n",
       "232758  asking a woman how old she is is not a good idea.   \n",
       "123253                      i'll never mention tom again.   \n",
       "\n",
       "                                             predicted  distance  \n",
       "176495                   tom has given a a direction .        24  \n",
       "177752                     those those to in in grow .        20  \n",
       "223150         my friends friends me me me in last . .        24  \n",
       "232758  it ' s not a lot to to thought thought to to .        38  \n",
       "123253                   i ' ll never harm tom again .        10  "
      ]
     },
     "execution_count": 28,
     "metadata": {},
     "output_type": "execute_result"
    }
   ],
   "source": [
    "# Compare prediction and label using edit distance\n",
    "pred_df[\"distance\"] = pred_df.apply(lambda x: edit_distance(x[\"actual\"], x[\"predicted\"]), axis=1)\n",
    "pred_df.head()"
   ]
  },
  {
   "cell_type": "code",
   "execution_count": 29,
   "id": "41c4dc33",
   "metadata": {
    "execution": {
     "iopub.execute_input": "2023-11-21T21:03:49.957769Z",
     "iopub.status.busy": "2023-11-21T21:03:49.956897Z",
     "iopub.status.idle": "2023-11-21T21:03:49.969899Z",
     "shell.execute_reply": "2023-11-21T21:03:49.968992Z"
    },
    "papermill": {
     "duration": 1.048826,
     "end_time": "2023-11-21T21:03:49.972199",
     "exception": false,
     "start_time": "2023-11-21T21:03:48.923373",
     "status": "completed"
    },
    "tags": []
   },
   "outputs": [
    {
     "data": {
      "text/html": [
       "<div>\n",
       "<style scoped>\n",
       "    .dataframe tbody tr th:only-of-type {\n",
       "        vertical-align: middle;\n",
       "    }\n",
       "\n",
       "    .dataframe tbody tr th {\n",
       "        vertical-align: top;\n",
       "    }\n",
       "\n",
       "    .dataframe thead th {\n",
       "        text-align: right;\n",
       "    }\n",
       "</style>\n",
       "<table border=\"1\" class=\"dataframe\">\n",
       "  <thead>\n",
       "    <tr style=\"text-align: right;\">\n",
       "      <th></th>\n",
       "      <th>input</th>\n",
       "      <th>actual</th>\n",
       "      <th>predicted</th>\n",
       "      <th>distance</th>\n",
       "    </tr>\n",
       "  </thead>\n",
       "  <tbody>\n",
       "    <tr>\n",
       "      <th>39196</th>\n",
       "      <td>ich glaube, tom ist beschäftigt.</td>\n",
       "      <td>i think tom is busy.</td>\n",
       "      <td>i think tom is busy .</td>\n",
       "      <td>1</td>\n",
       "    </tr>\n",
       "    <tr>\n",
       "      <th>77410</th>\n",
       "      <td>tom und ich arbeiten zusammen.</td>\n",
       "      <td>tom and i work together.</td>\n",
       "      <td>tom and i work together .</td>\n",
       "      <td>1</td>\n",
       "    </tr>\n",
       "    <tr>\n",
       "      <th>29848</th>\n",
       "      <td>hast du eine ehefrau?</td>\n",
       "      <td>do you have a wife?</td>\n",
       "      <td>do you have a wife ?</td>\n",
       "      <td>1</td>\n",
       "    </tr>\n",
       "    <tr>\n",
       "      <th>175119</th>\n",
       "      <td>die planeten umkreisen die sonne.</td>\n",
       "      <td>the planets revolve around the sun.</td>\n",
       "      <td>the planets revolve around the sun .</td>\n",
       "      <td>1</td>\n",
       "    </tr>\n",
       "    <tr>\n",
       "      <th>46877</th>\n",
       "      <td>ich habe drei cousins.</td>\n",
       "      <td>i have three cousins.</td>\n",
       "      <td>i have three cousins .</td>\n",
       "      <td>1</td>\n",
       "    </tr>\n",
       "  </tbody>\n",
       "</table>\n",
       "</div>"
      ],
      "text/plain": [
       "                                    input  \\\n",
       "39196    ich glaube, tom ist beschäftigt.   \n",
       "77410      tom und ich arbeiten zusammen.   \n",
       "29848               hast du eine ehefrau?   \n",
       "175119  die planeten umkreisen die sonne.   \n",
       "46877              ich habe drei cousins.   \n",
       "\n",
       "                                     actual  \\\n",
       "39196                  i think tom is busy.   \n",
       "77410              tom and i work together.   \n",
       "29848                   do you have a wife?   \n",
       "175119  the planets revolve around the sun.   \n",
       "46877                 i have three cousins.   \n",
       "\n",
       "                                   predicted  distance  \n",
       "39196                  i think tom is busy .         1  \n",
       "77410              tom and i work together .         1  \n",
       "29848                   do you have a wife ?         1  \n",
       "175119  the planets revolve around the sun .         1  \n",
       "46877                 i have three cousins .         1  "
      ]
     },
     "execution_count": 29,
     "metadata": {},
     "output_type": "execute_result"
    }
   ],
   "source": [
    "# Best predictions\n",
    "pred_df.sort_values(\"distance\").head()"
   ]
  },
  {
   "cell_type": "code",
   "execution_count": 30,
   "id": "b859a34c",
   "metadata": {
    "execution": {
     "iopub.execute_input": "2023-11-21T21:03:52.132805Z",
     "iopub.status.busy": "2023-11-21T21:03:52.132413Z",
     "iopub.status.idle": "2023-11-21T21:03:52.144622Z",
     "shell.execute_reply": "2023-11-21T21:03:52.143718Z"
    },
    "papermill": {
     "duration": 1.0963,
     "end_time": "2023-11-21T21:03:52.146634",
     "exception": false,
     "start_time": "2023-11-21T21:03:51.050334",
     "status": "completed"
    },
    "tags": []
   },
   "outputs": [
    {
     "data": {
      "text/html": [
       "<div>\n",
       "<style scoped>\n",
       "    .dataframe tbody tr th:only-of-type {\n",
       "        vertical-align: middle;\n",
       "    }\n",
       "\n",
       "    .dataframe tbody tr th {\n",
       "        vertical-align: top;\n",
       "    }\n",
       "\n",
       "    .dataframe thead th {\n",
       "        text-align: right;\n",
       "    }\n",
       "</style>\n",
       "<table border=\"1\" class=\"dataframe\">\n",
       "  <thead>\n",
       "    <tr style=\"text-align: right;\">\n",
       "      <th></th>\n",
       "      <th>input</th>\n",
       "      <th>actual</th>\n",
       "      <th>predicted</th>\n",
       "      <th>distance</th>\n",
       "    </tr>\n",
       "  </thead>\n",
       "  <tbody>\n",
       "    <tr>\n",
       "      <th>254479</th>\n",
       "      <td>als der kleine die neueste playstation-softwar...</td>\n",
       "      <td>when the kid wanted the latest playstation sof...</td>\n",
       "      <td>the the people people the the boy was a he car...</td>\n",
       "      <td>55</td>\n",
       "    </tr>\n",
       "    <tr>\n",
       "      <th>254392</th>\n",
       "      <td>ich kann mich nicht mehr an den namen des mädc...</td>\n",
       "      <td>i can't remember the name of the girl who sat ...</td>\n",
       "      <td>i can ' t stay up on on what , what ' ' ' to to .</td>\n",
       "      <td>57</td>\n",
       "    </tr>\n",
       "    <tr>\n",
       "      <th>251978</th>\n",
       "      <td>wie du weißt, habe ich meinen job verloren, un...</td>\n",
       "      <td>as you know, i've lost my job, so i'm having t...</td>\n",
       "      <td>you you taught how about quickly lower tell of...</td>\n",
       "      <td>61</td>\n",
       "    </tr>\n",
       "    <tr>\n",
       "      <th>255438</th>\n",
       "      <td>ein kleiner junge, der nicht älter als fünf ja...</td>\n",
       "      <td>a young boy, who couldn't have been more than ...</td>\n",
       "      <td>a who who being living , living was not was wa...</td>\n",
       "      <td>81</td>\n",
       "    </tr>\n",
       "    <tr>\n",
       "      <th>255498</th>\n",
       "      <td>tom hinterließ seiner urlaubsvertretung schrit...</td>\n",
       "      <td>tom left step-by-step instructions for the per...</td>\n",
       "      <td>tom moved his his his s . .</td>\n",
       "      <td>84</td>\n",
       "    </tr>\n",
       "  </tbody>\n",
       "</table>\n",
       "</div>"
      ],
      "text/plain": [
       "                                                    input  \\\n",
       "254479  als der kleine die neueste playstation-softwar...   \n",
       "254392  ich kann mich nicht mehr an den namen des mädc...   \n",
       "251978  wie du weißt, habe ich meinen job verloren, un...   \n",
       "255438  ein kleiner junge, der nicht älter als fünf ja...   \n",
       "255498  tom hinterließ seiner urlaubsvertretung schrit...   \n",
       "\n",
       "                                                   actual  \\\n",
       "254479  when the kid wanted the latest playstation sof...   \n",
       "254392  i can't remember the name of the girl who sat ...   \n",
       "251978  as you know, i've lost my job, so i'm having t...   \n",
       "255438  a young boy, who couldn't have been more than ...   \n",
       "255498  tom left step-by-step instructions for the per...   \n",
       "\n",
       "                                                predicted  distance  \n",
       "254479  the the people people the the boy was a he car...        55  \n",
       "254392  i can ' t stay up on on what , what ' ' ' to to .        57  \n",
       "251978  you you taught how about quickly lower tell of...        61  \n",
       "255438  a who who being living , living was not was wa...        81  \n",
       "255498                        tom moved his his his s . .        84  "
      ]
     },
     "execution_count": 30,
     "metadata": {},
     "output_type": "execute_result"
    }
   ],
   "source": [
    "# Worst predictions\n",
    "pred_df.sort_values(\"distance\").tail()"
   ]
  },
  {
   "cell_type": "code",
   "execution_count": 31,
   "id": "622608a8",
   "metadata": {
    "execution": {
     "iopub.execute_input": "2023-11-21T21:03:54.273157Z",
     "iopub.status.busy": "2023-11-21T21:03:54.272793Z",
     "iopub.status.idle": "2023-11-21T21:03:54.278209Z",
     "shell.execute_reply": "2023-11-21T21:03:54.277352Z"
    },
    "papermill": {
     "duration": 1.097254,
     "end_time": "2023-11-21T21:03:54.280415",
     "exception": false,
     "start_time": "2023-11-21T21:03:53.183161",
     "status": "completed"
    },
    "tags": []
   },
   "outputs": [],
   "source": [
    "from nltk.translate.bleu_score import sentence_bleu\n",
    "\n",
    "def calc_bleu(reference, hypothesis):\n",
    "    reference = reference.split(\" \")\n",
    "    hypothesis = hypothesis.split(\" \")\n",
    "    score = sentence_bleu([reference], hypothesis)\n",
    "    return score"
   ]
  },
  {
   "cell_type": "code",
   "execution_count": 32,
   "id": "d69498ae",
   "metadata": {
    "execution": {
     "iopub.execute_input": "2023-11-21T21:03:56.458080Z",
     "iopub.status.busy": "2023-11-21T21:03:56.457324Z",
     "iopub.status.idle": "2023-11-21T21:03:56.562561Z",
     "shell.execute_reply": "2023-11-21T21:03:56.561573Z"
    },
    "papermill": {
     "duration": 1.190809,
     "end_time": "2023-11-21T21:03:56.564745",
     "exception": false,
     "start_time": "2023-11-21T21:03:55.373936",
     "status": "completed"
    },
    "tags": []
   },
   "outputs": [
    {
     "name": "stderr",
     "output_type": "stream",
     "text": [
      "/opt/conda/lib/python3.7/site-packages/nltk/translate/bleu_score.py:552: UserWarning: \n",
      "The hypothesis contains 0 counts of 2-gram overlaps.\n",
      "Therefore the BLEU score evaluates to 0, independently of\n",
      "how many N-gram overlaps of lower order it contains.\n",
      "Consider using lower n-gram order or use SmoothingFunction()\n",
      "  warnings.warn(_msg)\n",
      "/opt/conda/lib/python3.7/site-packages/nltk/translate/bleu_score.py:552: UserWarning: \n",
      "The hypothesis contains 0 counts of 3-gram overlaps.\n",
      "Therefore the BLEU score evaluates to 0, independently of\n",
      "how many N-gram overlaps of lower order it contains.\n",
      "Consider using lower n-gram order or use SmoothingFunction()\n",
      "  warnings.warn(_msg)\n",
      "/opt/conda/lib/python3.7/site-packages/nltk/translate/bleu_score.py:552: UserWarning: \n",
      "The hypothesis contains 0 counts of 4-gram overlaps.\n",
      "Therefore the BLEU score evaluates to 0, independently of\n",
      "how many N-gram overlaps of lower order it contains.\n",
      "Consider using lower n-gram order or use SmoothingFunction()\n",
      "  warnings.warn(_msg)\n"
     ]
    }
   ],
   "source": [
    "pred_df[\"bleu\"] = pred_df.apply(lambda x: calc_bleu(x[\"actual\"], x[\"predicted\"]), axis=1)"
   ]
  },
  {
   "cell_type": "code",
   "execution_count": 33,
   "id": "a748604b",
   "metadata": {
    "execution": {
     "iopub.execute_input": "2023-11-21T21:03:58.704152Z",
     "iopub.status.busy": "2023-11-21T21:03:58.703288Z",
     "iopub.status.idle": "2023-11-21T21:03:58.717204Z",
     "shell.execute_reply": "2023-11-21T21:03:58.716289Z"
    },
    "papermill": {
     "duration": 1.059944,
     "end_time": "2023-11-21T21:03:58.719456",
     "exception": false,
     "start_time": "2023-11-21T21:03:57.659512",
     "status": "completed"
    },
    "tags": []
   },
   "outputs": [
    {
     "data": {
      "text/html": [
       "<div>\n",
       "<style scoped>\n",
       "    .dataframe tbody tr th:only-of-type {\n",
       "        vertical-align: middle;\n",
       "    }\n",
       "\n",
       "    .dataframe tbody tr th {\n",
       "        vertical-align: top;\n",
       "    }\n",
       "\n",
       "    .dataframe thead th {\n",
       "        text-align: right;\n",
       "    }\n",
       "</style>\n",
       "<table border=\"1\" class=\"dataframe\">\n",
       "  <thead>\n",
       "    <tr style=\"text-align: right;\">\n",
       "      <th></th>\n",
       "      <th>input</th>\n",
       "      <th>actual</th>\n",
       "      <th>predicted</th>\n",
       "      <th>distance</th>\n",
       "      <th>bleu</th>\n",
       "    </tr>\n",
       "  </thead>\n",
       "  <tbody>\n",
       "    <tr>\n",
       "      <th>208706</th>\n",
       "      <td>die polizeibeamten nahmen den einbrecher fest.</td>\n",
       "      <td>the police officers arrested the burglar.</td>\n",
       "      <td>the police officers arrested the death .</td>\n",
       "      <td>7</td>\n",
       "      <td>0.614788</td>\n",
       "    </tr>\n",
       "    <tr>\n",
       "      <th>153583</th>\n",
       "      <td>tom saß im schneidersitz auf dem bett.</td>\n",
       "      <td>tom sat cross-legged on the bed.</td>\n",
       "      <td>tom sat cross-legged on the floor .</td>\n",
       "      <td>6</td>\n",
       "      <td>0.614788</td>\n",
       "    </tr>\n",
       "    <tr>\n",
       "      <th>156400</th>\n",
       "      <td>er bat mich, ihm das salz zu reichen.</td>\n",
       "      <td>he asked me to pass him the salt.</td>\n",
       "      <td>he asked me to pass him the salt .</td>\n",
       "      <td>1</td>\n",
       "      <td>0.725980</td>\n",
       "    </tr>\n",
       "    <tr>\n",
       "      <th>210784</th>\n",
       "      <td>wisst ihr, warum tom der schule fernbleibt?</td>\n",
       "      <td>do you know why tom is absent from school?</td>\n",
       "      <td>do you know why tom is absent from school ?</td>\n",
       "      <td>1</td>\n",
       "      <td>0.759836</td>\n",
       "    </tr>\n",
       "    <tr>\n",
       "      <th>118930</th>\n",
       "      <td>wo wirst du leben?</td>\n",
       "      <td>where are you going to live?</td>\n",
       "      <td>where are you going to</td>\n",
       "      <td>6</td>\n",
       "      <td>0.818731</td>\n",
       "    </tr>\n",
       "  </tbody>\n",
       "</table>\n",
       "</div>"
      ],
      "text/plain": [
       "                                                 input  \\\n",
       "208706  die polizeibeamten nahmen den einbrecher fest.   \n",
       "153583          tom saß im schneidersitz auf dem bett.   \n",
       "156400           er bat mich, ihm das salz zu reichen.   \n",
       "210784     wisst ihr, warum tom der schule fernbleibt?   \n",
       "118930                              wo wirst du leben?   \n",
       "\n",
       "                                            actual  \\\n",
       "208706   the police officers arrested the burglar.   \n",
       "153583            tom sat cross-legged on the bed.   \n",
       "156400           he asked me to pass him the salt.   \n",
       "210784  do you know why tom is absent from school?   \n",
       "118930                where are you going to live?   \n",
       "\n",
       "                                          predicted  distance      bleu  \n",
       "208706     the police officers arrested the death .         7  0.614788  \n",
       "153583          tom sat cross-legged on the floor .         6  0.614788  \n",
       "156400           he asked me to pass him the salt .         1  0.725980  \n",
       "210784  do you know why tom is absent from school ?         1  0.759836  \n",
       "118930                       where are you going to         6  0.818731  "
      ]
     },
     "execution_count": 33,
     "metadata": {},
     "output_type": "execute_result"
    }
   ],
   "source": [
    "# Best predictions\n",
    "pred_df.sort_values(\"bleu\").tail()"
   ]
  },
  {
   "cell_type": "code",
   "execution_count": 34,
   "id": "531a9b78",
   "metadata": {
    "execution": {
     "iopub.execute_input": "2023-11-21T21:04:00.891979Z",
     "iopub.status.busy": "2023-11-21T21:04:00.891579Z",
     "iopub.status.idle": "2023-11-21T21:04:00.905665Z",
     "shell.execute_reply": "2023-11-21T21:04:00.904153Z"
    },
    "papermill": {
     "duration": 1.059903,
     "end_time": "2023-11-21T21:04:00.908313",
     "exception": false,
     "start_time": "2023-11-21T21:03:59.848410",
     "status": "completed"
    },
    "tags": []
   },
   "outputs": [
    {
     "data": {
      "text/html": [
       "<div>\n",
       "<style scoped>\n",
       "    .dataframe tbody tr th:only-of-type {\n",
       "        vertical-align: middle;\n",
       "    }\n",
       "\n",
       "    .dataframe tbody tr th {\n",
       "        vertical-align: top;\n",
       "    }\n",
       "\n",
       "    .dataframe thead th {\n",
       "        text-align: right;\n",
       "    }\n",
       "</style>\n",
       "<table border=\"1\" class=\"dataframe\">\n",
       "  <thead>\n",
       "    <tr style=\"text-align: right;\">\n",
       "      <th></th>\n",
       "      <th>input</th>\n",
       "      <th>actual</th>\n",
       "      <th>predicted</th>\n",
       "      <th>distance</th>\n",
       "      <th>bleu</th>\n",
       "    </tr>\n",
       "  </thead>\n",
       "  <tbody>\n",
       "    <tr>\n",
       "      <th>155681</th>\n",
       "      <td>bring das buch zu mir, nicht zu tom!</td>\n",
       "      <td>bring the book to me, not to tom.</td>\n",
       "      <td>get out his some tom tom ' ' t .</td>\n",
       "      <td>22</td>\n",
       "      <td>0.0</td>\n",
       "    </tr>\n",
       "    <tr>\n",
       "      <th>57212</th>\n",
       "      <td>das tut dir nicht gut.</td>\n",
       "      <td>it's not good for you.</td>\n",
       "      <td>that doesn ' t mean this .</td>\n",
       "      <td>21</td>\n",
       "      <td>0.0</td>\n",
       "    </tr>\n",
       "    <tr>\n",
       "      <th>3561</th>\n",
       "      <td>ihr seid eitel.</td>\n",
       "      <td>you're vain.</td>\n",
       "      <td>you ' re .</td>\n",
       "      <td>6</td>\n",
       "      <td>0.0</td>\n",
       "    </tr>\n",
       "    <tr>\n",
       "      <th>49980</th>\n",
       "      <td>es wird ihnen gutgehen.</td>\n",
       "      <td>they'll be all right.</td>\n",
       "      <td>they ' ll take fine .</td>\n",
       "      <td>11</td>\n",
       "      <td>0.0</td>\n",
       "    </tr>\n",
       "    <tr>\n",
       "      <th>40427</th>\n",
       "      <td>mach es nicht schwierig, tom.</td>\n",
       "      <td>keep it simple, tom.</td>\n",
       "      <td>don ' t do on tom . tom .</td>\n",
       "      <td>18</td>\n",
       "      <td>0.0</td>\n",
       "    </tr>\n",
       "  </tbody>\n",
       "</table>\n",
       "</div>"
      ],
      "text/plain": [
       "                                       input  \\\n",
       "155681  bring das buch zu mir, nicht zu tom!   \n",
       "57212                 das tut dir nicht gut.   \n",
       "3561                         ihr seid eitel.   \n",
       "49980                es wird ihnen gutgehen.   \n",
       "40427          mach es nicht schwierig, tom.   \n",
       "\n",
       "                                   actual                         predicted  \\\n",
       "155681  bring the book to me, not to tom.  get out his some tom tom ' ' t .   \n",
       "57212              it's not good for you.        that doesn ' t mean this .   \n",
       "3561                         you're vain.                        you ' re .   \n",
       "49980               they'll be all right.             they ' ll take fine .   \n",
       "40427                keep it simple, tom.         don ' t do on tom . tom .   \n",
       "\n",
       "        distance  bleu  \n",
       "155681        22   0.0  \n",
       "57212         21   0.0  \n",
       "3561           6   0.0  \n",
       "49980         11   0.0  \n",
       "40427         18   0.0  "
      ]
     },
     "execution_count": 34,
     "metadata": {},
     "output_type": "execute_result"
    }
   ],
   "source": [
    "# Worst predictions\n",
    "pred_df.sort_values(\"bleu\").head()"
   ]
  },
  {
   "cell_type": "code",
   "execution_count": 35,
   "id": "b4c83258",
   "metadata": {
    "execution": {
     "iopub.execute_input": "2023-11-21T21:04:03.102706Z",
     "iopub.status.busy": "2023-11-21T21:04:03.102318Z",
     "iopub.status.idle": "2023-11-21T21:04:03.110472Z",
     "shell.execute_reply": "2023-11-21T21:04:03.109541Z"
    },
    "papermill": {
     "duration": 1.076823,
     "end_time": "2023-11-21T21:04:03.113145",
     "exception": false,
     "start_time": "2023-11-21T21:04:02.036322",
     "status": "completed"
    },
    "tags": []
   },
   "outputs": [
    {
     "name": "stdout",
     "output_type": "stream",
     "text": [
      "distance    18.378000\n",
      "bleu         0.035754\n",
      "dtype: float64\n"
     ]
    }
   ],
   "source": [
    "# Calculate mean BLEU score and edit distance\n",
    "mean_scores = pred_df[[\"distance\", \"bleu\"]].mean()\n",
    "print(mean_scores)"
   ]
  },
  {
   "cell_type": "markdown",
   "id": "a80e3e75",
   "metadata": {
    "papermill": {
     "duration": 1.029631,
     "end_time": "2023-11-21T21:04:05.226927",
     "exception": false,
     "start_time": "2023-11-21T21:04:04.197296",
     "status": "completed"
    },
    "tags": []
   },
   "source": [
    " **Interpret the results:**"
   ]
  },
  {
   "cell_type": "markdown",
   "id": "0ad27abb",
   "metadata": {
    "papermill": {
     "duration": 1.109451,
     "end_time": "2023-11-21T21:04:07.424052",
     "exception": false,
     "start_time": "2023-11-21T21:04:06.314601",
     "status": "completed"
    },
    "tags": []
   },
   "source": [
    "\n",
    "## Task 4: Comparison with State-of-the-Art (OPTIONAL)\n",
    "\n",
    "\n",
    "Finally, we want to compare our own model against a state-of-the-art transformer model. We recommend using the model [opus-mt-de-en](https://huggingface.co/Helsinki-NLP/opus-mt-de-en) for German to English translation. If you used a dataset with different languages, [here is a list](https://huggingface.co/Helsinki-NLP) of models trained for translating a variety of languages. We ask you to implement the following:\n",
    "\n",
    "1. Load the pretrained model and tokenizer for the model [opus-mt-de-en](https://huggingface.co/Helsinki-NLP/opus-mt-de-en) using the transformer package.\n",
    "2. Use this model to translate the source sentences in the test dataset to English (like we did with the LSTM model). [Here](https://huggingface.co/Lalita/marianmt-th-zh_cn) you can see how to obtain predictions and [here](https://huggingface.co/docs/transformers/tasks/translation) is some more documentation on how to use transformers for translation.\n",
    "\n",
    "**Analogous to the previous step, compare the predictions with the correct translations:**\n",
    "\n",
    "3. Calculate the [edit distance](https://www.nltk.org/api/nltk.metrics.distance.html#nltk.metrics.distance.edit_distance) between predicted English sentence and correct translation. \n",
    "4. Calculate the [sentence BLEU score](https://www.nltk.org/api/nltk.translate.bleu_score.html#nltk.translate.bleu_score.sentence_bleu) with the correct translation as reference and the prediction as hypotheses.\n",
    "5. Calculate the mean BLEU score and mean edit distance.\n",
    "6. Print out the worst and the best predictions. \n",
    "7. Provide a short assessment of the translation's quality. How does it perform in comparison to the LSTM model?"
   ]
  },
  {
   "cell_type": "code",
   "execution_count": 36,
   "id": "40de0d22",
   "metadata": {
    "execution": {
     "iopub.execute_input": "2023-11-21T21:04:09.551995Z",
     "iopub.status.busy": "2023-11-21T21:04:09.551615Z",
     "iopub.status.idle": "2023-11-21T21:04:09.612712Z",
     "shell.execute_reply": "2023-11-21T21:04:09.611825Z"
    },
    "papermill": {
     "duration": 1.14455,
     "end_time": "2023-11-21T21:04:09.614771",
     "exception": false,
     "start_time": "2023-11-21T21:04:08.470221",
     "status": "completed"
    },
    "tags": []
   },
   "outputs": [],
   "source": [
    "del model\n",
    "torch.cuda.empty_cache()"
   ]
  },
  {
   "cell_type": "code",
   "execution_count": 37,
   "id": "04314f17",
   "metadata": {
    "execution": {
     "iopub.execute_input": "2023-11-21T21:04:11.739264Z",
     "iopub.status.busy": "2023-11-21T21:04:11.738777Z",
     "iopub.status.idle": "2023-11-21T21:04:26.169208Z",
     "shell.execute_reply": "2023-11-21T21:04:26.168103Z"
    },
    "papermill": {
     "duration": 15.468184,
     "end_time": "2023-11-21T21:04:26.171771",
     "exception": false,
     "start_time": "2023-11-21T21:04:10.703587",
     "status": "completed"
    },
    "tags": []
   },
   "outputs": [
    {
     "data": {
      "application/vnd.jupyter.widget-view+json": {
       "model_id": "0e690fcc4554425dad0fa6fd94d6e61a",
       "version_major": 2,
       "version_minor": 0
      },
      "text/plain": [
       "Downloading:   0%|          | 0.00/42.0 [00:00<?, ?B/s]"
      ]
     },
     "metadata": {},
     "output_type": "display_data"
    },
    {
     "data": {
      "application/vnd.jupyter.widget-view+json": {
       "model_id": "753546a2cdae4e27970405a0cbe67ac8",
       "version_major": 2,
       "version_minor": 0
      },
      "text/plain": [
       "Downloading:   0%|          | 0.00/1.35k [00:00<?, ?B/s]"
      ]
     },
     "metadata": {},
     "output_type": "display_data"
    },
    {
     "data": {
      "application/vnd.jupyter.widget-view+json": {
       "model_id": "d89f8ecb80014a148fd8cebf995e42dd",
       "version_major": 2,
       "version_minor": 0
      },
      "text/plain": [
       "Downloading:   0%|          | 0.00/778k [00:00<?, ?B/s]"
      ]
     },
     "metadata": {},
     "output_type": "display_data"
    },
    {
     "data": {
      "application/vnd.jupyter.widget-view+json": {
       "model_id": "36fdfc95bc8c4856aa422416d8fe548b",
       "version_major": 2,
       "version_minor": 0
      },
      "text/plain": [
       "Downloading:   0%|          | 0.00/750k [00:00<?, ?B/s]"
      ]
     },
     "metadata": {},
     "output_type": "display_data"
    },
    {
     "data": {
      "application/vnd.jupyter.widget-view+json": {
       "model_id": "f80bd9ed862f4c45a074c1b9d722fbb9",
       "version_major": 2,
       "version_minor": 0
      },
      "text/plain": [
       "Downloading:   0%|          | 0.00/1.21M [00:00<?, ?B/s]"
      ]
     },
     "metadata": {},
     "output_type": "display_data"
    },
    {
     "data": {
      "application/vnd.jupyter.widget-view+json": {
       "model_id": "485fc87c1e3d47b4a8a9bae4ba38e57b",
       "version_major": 2,
       "version_minor": 0
      },
      "text/plain": [
       "Downloading:   0%|          | 0.00/284M [00:00<?, ?B/s]"
      ]
     },
     "metadata": {},
     "output_type": "display_data"
    }
   ],
   "source": [
    "# Load pretrained tokenizer and model\n",
    "from transformers import AutoTokenizer, AutoModelForSeq2SeqLM\n",
    "tokenizer_trf = AutoTokenizer.from_pretrained(\"Helsinki-NLP/opus-mt-de-en\")\n",
    "model_trf = AutoModelForSeq2SeqLM.from_pretrained(\"Helsinki-NLP/opus-mt-de-en\").to(device)"
   ]
  },
  {
   "cell_type": "code",
   "execution_count": 38,
   "id": "6777f4b4",
   "metadata": {
    "execution": {
     "iopub.execute_input": "2023-11-21T21:04:28.315143Z",
     "iopub.status.busy": "2023-11-21T21:04:28.314736Z",
     "iopub.status.idle": "2023-11-21T21:04:33.617724Z",
     "shell.execute_reply": "2023-11-21T21:04:33.616901Z"
    },
    "papermill": {
     "duration": 6.332077,
     "end_time": "2023-11-21T21:04:33.620247",
     "exception": false,
     "start_time": "2023-11-21T21:04:27.288170",
     "status": "completed"
    },
    "tags": []
   },
   "outputs": [],
   "source": [
    "# Use model to make prediction\n",
    "examples = test[\"german\"].to_list()\n",
    "translated = model_trf.generate(**tokenizer_trf(examples, return_tensors=\"pt\", padding=True).to(device))\n",
    "predictions_trf = [tokenizer_trf.decode(t, skip_special_tokens=True) for t in translated]"
   ]
  },
  {
   "cell_type": "code",
   "execution_count": 39,
   "id": "7f855ebb",
   "metadata": {
    "execution": {
     "iopub.execute_input": "2023-11-21T21:04:35.759746Z",
     "iopub.status.busy": "2023-11-21T21:04:35.759361Z",
     "iopub.status.idle": "2023-11-21T21:04:36.903749Z",
     "shell.execute_reply": "2023-11-21T21:04:36.902351Z"
    },
    "papermill": {
     "duration": 2.203895,
     "end_time": "2023-11-21T21:04:36.906791",
     "exception": false,
     "start_time": "2023-11-21T21:04:34.702896",
     "status": "completed"
    },
    "tags": []
   },
   "outputs": [
    {
     "data": {
      "text/html": [
       "<div>\n",
       "<style scoped>\n",
       "    .dataframe tbody tr th:only-of-type {\n",
       "        vertical-align: middle;\n",
       "    }\n",
       "\n",
       "    .dataframe tbody tr th {\n",
       "        vertical-align: top;\n",
       "    }\n",
       "\n",
       "    .dataframe thead th {\n",
       "        text-align: right;\n",
       "    }\n",
       "</style>\n",
       "<table border=\"1\" class=\"dataframe\">\n",
       "  <thead>\n",
       "    <tr style=\"text-align: right;\">\n",
       "      <th></th>\n",
       "      <th>input</th>\n",
       "      <th>actual</th>\n",
       "      <th>predicted</th>\n",
       "      <th>distance</th>\n",
       "      <th>bleu</th>\n",
       "      <th>prediction_trf</th>\n",
       "      <th>distance_trf</th>\n",
       "    </tr>\n",
       "  </thead>\n",
       "  <tbody>\n",
       "    <tr>\n",
       "      <th>176495</th>\n",
       "      <td>tom hat alles auf eine karte gesetzt.</td>\n",
       "      <td>tom put all his eggs in one basket.</td>\n",
       "      <td>tom has given a a direction .</td>\n",
       "      <td>24</td>\n",
       "      <td>9.709386e-232</td>\n",
       "      <td>tom put everything on a card.</td>\n",
       "      <td>20</td>\n",
       "    </tr>\n",
       "    <tr>\n",
       "      <th>177752</th>\n",
       "      <td>schreib diese worte in dein notizbuch.</td>\n",
       "      <td>write these words in your notebook.</td>\n",
       "      <td>those those to in in grow .</td>\n",
       "      <td>20</td>\n",
       "      <td>1.120041e-231</td>\n",
       "      <td>write this word in your notebook.</td>\n",
       "      <td>3</td>\n",
       "    </tr>\n",
       "    <tr>\n",
       "      <th>223150</th>\n",
       "      <td>meine freunde standen mir bei während des proz...</td>\n",
       "      <td>my friends stood by me during the court case.</td>\n",
       "      <td>my friends friends me me me in last . .</td>\n",
       "      <td>24</td>\n",
       "      <td>6.373704e-155</td>\n",
       "      <td>my friends were with me during the process.</td>\n",
       "      <td>16</td>\n",
       "    </tr>\n",
       "    <tr>\n",
       "      <th>232758</th>\n",
       "      <td>es ist nicht klug, eine frau zu fragen, wie al...</td>\n",
       "      <td>asking a woman how old she is is not a good idea.</td>\n",
       "      <td>it ' s not a lot to to thought thought to to .</td>\n",
       "      <td>38</td>\n",
       "      <td>5.019363e-155</td>\n",
       "      <td>It's not wise to ask a woman how old she is.</td>\n",
       "      <td>36</td>\n",
       "    </tr>\n",
       "    <tr>\n",
       "      <th>123253</th>\n",
       "      <td>ich werde tom nie mehr erwähnen.</td>\n",
       "      <td>i'll never mention tom again.</td>\n",
       "      <td>i ' ll never harm tom again .</td>\n",
       "      <td>10</td>\n",
       "      <td>1.288230e-231</td>\n",
       "      <td>I'll never mention tom again.</td>\n",
       "      <td>1</td>\n",
       "    </tr>\n",
       "  </tbody>\n",
       "</table>\n",
       "</div>"
      ],
      "text/plain": [
       "                                                    input  \\\n",
       "176495              tom hat alles auf eine karte gesetzt.   \n",
       "177752             schreib diese worte in dein notizbuch.   \n",
       "223150  meine freunde standen mir bei während des proz...   \n",
       "232758  es ist nicht klug, eine frau zu fragen, wie al...   \n",
       "123253                   ich werde tom nie mehr erwähnen.   \n",
       "\n",
       "                                                   actual  \\\n",
       "176495                tom put all his eggs in one basket.   \n",
       "177752                write these words in your notebook.   \n",
       "223150      my friends stood by me during the court case.   \n",
       "232758  asking a woman how old she is is not a good idea.   \n",
       "123253                      i'll never mention tom again.   \n",
       "\n",
       "                                             predicted  distance  \\\n",
       "176495                   tom has given a a direction .        24   \n",
       "177752                     those those to in in grow .        20   \n",
       "223150         my friends friends me me me in last . .        24   \n",
       "232758  it ' s not a lot to to thought thought to to .        38   \n",
       "123253                   i ' ll never harm tom again .        10   \n",
       "\n",
       "                 bleu                                prediction_trf  \\\n",
       "176495  9.709386e-232                 tom put everything on a card.   \n",
       "177752  1.120041e-231             write this word in your notebook.   \n",
       "223150  6.373704e-155   my friends were with me during the process.   \n",
       "232758  5.019363e-155  It's not wise to ask a woman how old she is.   \n",
       "123253  1.288230e-231                 I'll never mention tom again.   \n",
       "\n",
       "        distance_trf  \n",
       "176495            20  \n",
       "177752             3  \n",
       "223150            16  \n",
       "232758            36  \n",
       "123253             1  "
      ]
     },
     "execution_count": 39,
     "metadata": {},
     "output_type": "execute_result"
    }
   ],
   "source": [
    "# Compare prediction and label using edit distance\n",
    "pred_df[\"prediction_trf\"] = predictions_trf\n",
    "pred_df[\"distance_trf\"] = pred_df.apply(lambda x: edit_distance(x[\"actual\"], x[\"prediction_trf\"]), axis=1)\n",
    "pred_df.head()"
   ]
  },
  {
   "cell_type": "code",
   "execution_count": 40,
   "id": "3ada0d0e",
   "metadata": {
    "execution": {
     "iopub.execute_input": "2023-11-21T21:04:39.054892Z",
     "iopub.status.busy": "2023-11-21T21:04:39.054524Z",
     "iopub.status.idle": "2023-11-21T21:04:39.069446Z",
     "shell.execute_reply": "2023-11-21T21:04:39.068563Z"
    },
    "papermill": {
     "duration": 1.049029,
     "end_time": "2023-11-21T21:04:39.071840",
     "exception": false,
     "start_time": "2023-11-21T21:04:38.022811",
     "status": "completed"
    },
    "tags": []
   },
   "outputs": [
    {
     "data": {
      "text/html": [
       "<div>\n",
       "<style scoped>\n",
       "    .dataframe tbody tr th:only-of-type {\n",
       "        vertical-align: middle;\n",
       "    }\n",
       "\n",
       "    .dataframe tbody tr th {\n",
       "        vertical-align: top;\n",
       "    }\n",
       "\n",
       "    .dataframe thead th {\n",
       "        text-align: right;\n",
       "    }\n",
       "</style>\n",
       "<table border=\"1\" class=\"dataframe\">\n",
       "  <thead>\n",
       "    <tr style=\"text-align: right;\">\n",
       "      <th></th>\n",
       "      <th>input</th>\n",
       "      <th>actual</th>\n",
       "      <th>predicted</th>\n",
       "      <th>distance</th>\n",
       "      <th>bleu</th>\n",
       "      <th>prediction_trf</th>\n",
       "      <th>distance_trf</th>\n",
       "    </tr>\n",
       "  </thead>\n",
       "  <tbody>\n",
       "    <tr>\n",
       "      <th>108060</th>\n",
       "      <td>tom spricht verhältnismäßig schnell.</td>\n",
       "      <td>tom speaks relatively fast.</td>\n",
       "      <td>tom speaks too a fast .</td>\n",
       "      <td>10</td>\n",
       "      <td>7.579654e-155</td>\n",
       "      <td>tom speaks relatively fast.</td>\n",
       "      <td>0</td>\n",
       "    </tr>\n",
       "    <tr>\n",
       "      <th>114739</th>\n",
       "      <td>mein haus hat drei schlafzimmer.</td>\n",
       "      <td>my house has three bedrooms.</td>\n",
       "      <td>my birthday has three months .</td>\n",
       "      <td>16</td>\n",
       "      <td>8.388266e-155</td>\n",
       "      <td>my house has three bedrooms.</td>\n",
       "      <td>0</td>\n",
       "    </tr>\n",
       "    <tr>\n",
       "      <th>234893</th>\n",
       "      <td>kinder reiben sich oft die augen, wenn sie müd...</td>\n",
       "      <td>children often rub their eyes when they are ti...</td>\n",
       "      <td>children friends are up , , , but children re ...</td>\n",
       "      <td>31</td>\n",
       "      <td>1.164047e-231</td>\n",
       "      <td>children often rub their eyes when they are ti...</td>\n",
       "      <td>0</td>\n",
       "    </tr>\n",
       "    <tr>\n",
       "      <th>145820</th>\n",
       "      <td>wir haben noch keine entscheidung getroffen.</td>\n",
       "      <td>we haven't made a decision yet.</td>\n",
       "      <td>we ' ve ve found found chance yet .</td>\n",
       "      <td>21</td>\n",
       "      <td>1.051835e-231</td>\n",
       "      <td>we haven't made a decision yet.</td>\n",
       "      <td>0</td>\n",
       "    </tr>\n",
       "    <tr>\n",
       "      <th>88468</th>\n",
       "      <td>tom isst nur weißes fleisch.</td>\n",
       "      <td>tom only eats white meat.</td>\n",
       "      <td>tom just eats a word .</td>\n",
       "      <td>14</td>\n",
       "      <td>1.384293e-231</td>\n",
       "      <td>tom only eats white meat.</td>\n",
       "      <td>0</td>\n",
       "    </tr>\n",
       "  </tbody>\n",
       "</table>\n",
       "</div>"
      ],
      "text/plain": [
       "                                                    input  \\\n",
       "108060               tom spricht verhältnismäßig schnell.   \n",
       "114739                   mein haus hat drei schlafzimmer.   \n",
       "234893  kinder reiben sich oft die augen, wenn sie müd...   \n",
       "145820       wir haben noch keine entscheidung getroffen.   \n",
       "88468                        tom isst nur weißes fleisch.   \n",
       "\n",
       "                                                   actual  \\\n",
       "108060                        tom speaks relatively fast.   \n",
       "114739                       my house has three bedrooms.   \n",
       "234893  children often rub their eyes when they are ti...   \n",
       "145820                    we haven't made a decision yet.   \n",
       "88468                           tom only eats white meat.   \n",
       "\n",
       "                                                predicted  distance  \\\n",
       "108060                            tom speaks too a fast .        10   \n",
       "114739                     my birthday has three months .        16   \n",
       "234893  children friends are up , , , but children re ...        31   \n",
       "145820                we ' ve ve found found chance yet .        21   \n",
       "88468                              tom just eats a word .        14   \n",
       "\n",
       "                 bleu                                     prediction_trf  \\\n",
       "108060  7.579654e-155                        tom speaks relatively fast.   \n",
       "114739  8.388266e-155                       my house has three bedrooms.   \n",
       "234893  1.164047e-231  children often rub their eyes when they are ti...   \n",
       "145820  1.051835e-231                    we haven't made a decision yet.   \n",
       "88468   1.384293e-231                          tom only eats white meat.   \n",
       "\n",
       "        distance_trf  \n",
       "108060             0  \n",
       "114739             0  \n",
       "234893             0  \n",
       "145820             0  \n",
       "88468              0  "
      ]
     },
     "execution_count": 40,
     "metadata": {},
     "output_type": "execute_result"
    }
   ],
   "source": [
    "# Best predictions\n",
    "pred_df.sort_values(\"distance_trf\").head()"
   ]
  },
  {
   "cell_type": "code",
   "execution_count": 41,
   "id": "cb9e668e",
   "metadata": {
    "execution": {
     "iopub.execute_input": "2023-11-21T21:04:41.213530Z",
     "iopub.status.busy": "2023-11-21T21:04:41.212617Z",
     "iopub.status.idle": "2023-11-21T21:04:41.228083Z",
     "shell.execute_reply": "2023-11-21T21:04:41.227109Z"
    },
    "papermill": {
     "duration": 1.054607,
     "end_time": "2023-11-21T21:04:41.230534",
     "exception": false,
     "start_time": "2023-11-21T21:04:40.175927",
     "status": "completed"
    },
    "tags": []
   },
   "outputs": [
    {
     "data": {
      "text/html": [
       "<div>\n",
       "<style scoped>\n",
       "    .dataframe tbody tr th:only-of-type {\n",
       "        vertical-align: middle;\n",
       "    }\n",
       "\n",
       "    .dataframe tbody tr th {\n",
       "        vertical-align: top;\n",
       "    }\n",
       "\n",
       "    .dataframe thead th {\n",
       "        text-align: right;\n",
       "    }\n",
       "</style>\n",
       "<table border=\"1\" class=\"dataframe\">\n",
       "  <thead>\n",
       "    <tr style=\"text-align: right;\">\n",
       "      <th></th>\n",
       "      <th>input</th>\n",
       "      <th>actual</th>\n",
       "      <th>predicted</th>\n",
       "      <th>distance</th>\n",
       "      <th>bleu</th>\n",
       "      <th>prediction_trf</th>\n",
       "      <th>distance_trf</th>\n",
       "    </tr>\n",
       "  </thead>\n",
       "  <tbody>\n",
       "    <tr>\n",
       "      <th>252777</th>\n",
       "      <td>die derzeit im bau befindliche fabrik wird am ...</td>\n",
       "      <td>the factory now under construction will assemb...</td>\n",
       "      <td>the british will take possible to be hour a a ...</td>\n",
       "      <td>52</td>\n",
       "      <td>1.120041e-231</td>\n",
       "      <td>the factory currently under construction will ...</td>\n",
       "      <td>45</td>\n",
       "    </tr>\n",
       "    <tr>\n",
       "      <th>253994</th>\n",
       "      <td>tom war nicht bei der sache und nervös, und ma...</td>\n",
       "      <td>tom was distracted and fidgety and mary knew t...</td>\n",
       "      <td>tom was ' t about about mary mary was mary was...</td>\n",
       "      <td>49</td>\n",
       "      <td>6.132749e-155</td>\n",
       "      <td>Tom wasn't at the thing and nervous, and maria...</td>\n",
       "      <td>45</td>\n",
       "    </tr>\n",
       "    <tr>\n",
       "      <th>248205</th>\n",
       "      <td>wenn du die zeitung zu ende gelesen hast, dann...</td>\n",
       "      <td>i'd like to read the newspaper as soon as you ...</td>\n",
       "      <td>if you had to lunch , the , , should d having ...</td>\n",
       "      <td>46</td>\n",
       "      <td>1.218332e-231</td>\n",
       "      <td>If you've finished reading the paper, I'd like...</td>\n",
       "      <td>46</td>\n",
       "    </tr>\n",
       "    <tr>\n",
       "      <th>255498</th>\n",
       "      <td>tom hinterließ seiner urlaubsvertretung schrit...</td>\n",
       "      <td>tom left step-by-step instructions for the per...</td>\n",
       "      <td>tom moved his his his s . .</td>\n",
       "      <td>84</td>\n",
       "      <td>2.738930e-232</td>\n",
       "      <td>tom left his leave representation step-by-step...</td>\n",
       "      <td>76</td>\n",
       "    </tr>\n",
       "    <tr>\n",
       "      <th>4964</th>\n",
       "      <td>tom beharrte.</td>\n",
       "      <td>tom insisted.</td>\n",
       "      <td>tom was s . .</td>\n",
       "      <td>6</td>\n",
       "      <td>1.218332e-231</td>\n",
       "      <td>The Commission's proposal was based on a propo...</td>\n",
       "      <td>100</td>\n",
       "    </tr>\n",
       "  </tbody>\n",
       "</table>\n",
       "</div>"
      ],
      "text/plain": [
       "                                                    input  \\\n",
       "252777  die derzeit im bau befindliche fabrik wird am ...   \n",
       "253994  tom war nicht bei der sache und nervös, und ma...   \n",
       "248205  wenn du die zeitung zu ende gelesen hast, dann...   \n",
       "255498  tom hinterließ seiner urlaubsvertretung schrit...   \n",
       "4964                                        tom beharrte.   \n",
       "\n",
       "                                                   actual  \\\n",
       "252777  the factory now under construction will assemb...   \n",
       "253994  tom was distracted and fidgety and mary knew t...   \n",
       "248205  i'd like to read the newspaper as soon as you ...   \n",
       "255498  tom left step-by-step instructions for the per...   \n",
       "4964                                        tom insisted.   \n",
       "\n",
       "                                                predicted  distance  \\\n",
       "252777  the british will take possible to be hour a a ...        52   \n",
       "253994  tom was ' t about about mary mary was mary was...        49   \n",
       "248205  if you had to lunch , the , , should d having ...        46   \n",
       "255498                        tom moved his his his s . .        84   \n",
       "4964                                        tom was s . .         6   \n",
       "\n",
       "                 bleu                                     prediction_trf  \\\n",
       "252777  1.120041e-231  the factory currently under construction will ...   \n",
       "253994  6.132749e-155  Tom wasn't at the thing and nervous, and maria...   \n",
       "248205  1.218332e-231  If you've finished reading the paper, I'd like...   \n",
       "255498  2.738930e-232  tom left his leave representation step-by-step...   \n",
       "4964    1.218332e-231  The Commission's proposal was based on a propo...   \n",
       "\n",
       "        distance_trf  \n",
       "252777            45  \n",
       "253994            45  \n",
       "248205            46  \n",
       "255498            76  \n",
       "4964             100  "
      ]
     },
     "execution_count": 41,
     "metadata": {},
     "output_type": "execute_result"
    }
   ],
   "source": [
    "# Worst predictions\n",
    "pred_df.sort_values(\"distance_trf\").tail()"
   ]
  },
  {
   "cell_type": "code",
   "execution_count": 42,
   "id": "35ca33db",
   "metadata": {
    "execution": {
     "iopub.execute_input": "2023-11-21T21:04:43.437089Z",
     "iopub.status.busy": "2023-11-21T21:04:43.436714Z",
     "iopub.status.idle": "2023-11-21T21:04:43.442265Z",
     "shell.execute_reply": "2023-11-21T21:04:43.441336Z"
    },
    "papermill": {
     "duration": 1.100282,
     "end_time": "2023-11-21T21:04:43.444386",
     "exception": false,
     "start_time": "2023-11-21T21:04:42.344104",
     "status": "completed"
    },
    "tags": []
   },
   "outputs": [],
   "source": [
    "from nltk.translate.bleu_score import sentence_bleu\n",
    "\n",
    "def calc_bleu(reference, hypothesis):\n",
    "    reference = reference.split(\" \")\n",
    "    hypothesis = hypothesis.split(\" \")\n",
    "    score = sentence_bleu([reference], hypothesis)\n",
    "    return score"
   ]
  },
  {
   "cell_type": "code",
   "execution_count": 43,
   "id": "2af7cf17",
   "metadata": {
    "execution": {
     "iopub.execute_input": "2023-11-21T21:04:45.668192Z",
     "iopub.status.busy": "2023-11-21T21:04:45.667829Z",
     "iopub.status.idle": "2023-11-21T21:04:45.762953Z",
     "shell.execute_reply": "2023-11-21T21:04:45.761846Z"
    },
    "papermill": {
     "duration": 1.214662,
     "end_time": "2023-11-21T21:04:45.765155",
     "exception": false,
     "start_time": "2023-11-21T21:04:44.550493",
     "status": "completed"
    },
    "tags": []
   },
   "outputs": [
    {
     "name": "stderr",
     "output_type": "stream",
     "text": [
      "/opt/conda/lib/python3.7/site-packages/nltk/translate/bleu_score.py:552: UserWarning: \n",
      "The hypothesis contains 0 counts of 3-gram overlaps.\n",
      "Therefore the BLEU score evaluates to 0, independently of\n",
      "how many N-gram overlaps of lower order it contains.\n",
      "Consider using lower n-gram order or use SmoothingFunction()\n",
      "  warnings.warn(_msg)\n",
      "/opt/conda/lib/python3.7/site-packages/nltk/translate/bleu_score.py:552: UserWarning: \n",
      "The hypothesis contains 0 counts of 4-gram overlaps.\n",
      "Therefore the BLEU score evaluates to 0, independently of\n",
      "how many N-gram overlaps of lower order it contains.\n",
      "Consider using lower n-gram order or use SmoothingFunction()\n",
      "  warnings.warn(_msg)\n",
      "/opt/conda/lib/python3.7/site-packages/nltk/translate/bleu_score.py:552: UserWarning: \n",
      "The hypothesis contains 0 counts of 2-gram overlaps.\n",
      "Therefore the BLEU score evaluates to 0, independently of\n",
      "how many N-gram overlaps of lower order it contains.\n",
      "Consider using lower n-gram order or use SmoothingFunction()\n",
      "  warnings.warn(_msg)\n"
     ]
    }
   ],
   "source": [
    "pred_df[\"bleu_trf\"] = pred_df.apply(lambda x: calc_bleu(x[\"actual\"], x[\"prediction_trf\"]), axis=1)"
   ]
  },
  {
   "cell_type": "code",
   "execution_count": 44,
   "id": "72acbb40",
   "metadata": {
    "execution": {
     "iopub.execute_input": "2023-11-21T21:04:47.897456Z",
     "iopub.status.busy": "2023-11-21T21:04:47.896664Z",
     "iopub.status.idle": "2023-11-21T21:04:47.912927Z",
     "shell.execute_reply": "2023-11-21T21:04:47.911933Z"
    },
    "papermill": {
     "duration": 1.100399,
     "end_time": "2023-11-21T21:04:47.915073",
     "exception": false,
     "start_time": "2023-11-21T21:04:46.814674",
     "status": "completed"
    },
    "tags": []
   },
   "outputs": [
    {
     "data": {
      "text/html": [
       "<div>\n",
       "<style scoped>\n",
       "    .dataframe tbody tr th:only-of-type {\n",
       "        vertical-align: middle;\n",
       "    }\n",
       "\n",
       "    .dataframe tbody tr th {\n",
       "        vertical-align: top;\n",
       "    }\n",
       "\n",
       "    .dataframe thead th {\n",
       "        text-align: right;\n",
       "    }\n",
       "</style>\n",
       "<table border=\"1\" class=\"dataframe\">\n",
       "  <thead>\n",
       "    <tr style=\"text-align: right;\">\n",
       "      <th></th>\n",
       "      <th>input</th>\n",
       "      <th>actual</th>\n",
       "      <th>predicted</th>\n",
       "      <th>distance</th>\n",
       "      <th>bleu</th>\n",
       "      <th>prediction_trf</th>\n",
       "      <th>distance_trf</th>\n",
       "      <th>bleu_trf</th>\n",
       "    </tr>\n",
       "  </thead>\n",
       "  <tbody>\n",
       "    <tr>\n",
       "      <th>156788</th>\n",
       "      <td>seine ideen sind mir zu extrem.</td>\n",
       "      <td>his ideas are too extreme for me.</td>\n",
       "      <td>my friends is me of me .</td>\n",
       "      <td>23</td>\n",
       "      <td>0.000000e+00</td>\n",
       "      <td>his ideas are too extreme for me.</td>\n",
       "      <td>0</td>\n",
       "      <td>1.0</td>\n",
       "    </tr>\n",
       "    <tr>\n",
       "      <th>53200</th>\n",
       "      <td>ihre antwort ist falsch.</td>\n",
       "      <td>your answer is wrong.</td>\n",
       "      <td>your answer is wrong .</td>\n",
       "      <td>1</td>\n",
       "      <td>6.868092e-78</td>\n",
       "      <td>your answer is wrong.</td>\n",
       "      <td>0</td>\n",
       "      <td>1.0</td>\n",
       "    </tr>\n",
       "    <tr>\n",
       "      <th>145820</th>\n",
       "      <td>wir haben noch keine entscheidung getroffen.</td>\n",
       "      <td>we haven't made a decision yet.</td>\n",
       "      <td>we ' ve ve found found chance yet .</td>\n",
       "      <td>21</td>\n",
       "      <td>1.051835e-231</td>\n",
       "      <td>we haven't made a decision yet.</td>\n",
       "      <td>0</td>\n",
       "      <td>1.0</td>\n",
       "    </tr>\n",
       "    <tr>\n",
       "      <th>88468</th>\n",
       "      <td>tom isst nur weißes fleisch.</td>\n",
       "      <td>tom only eats white meat.</td>\n",
       "      <td>tom just eats a word .</td>\n",
       "      <td>14</td>\n",
       "      <td>1.384293e-231</td>\n",
       "      <td>tom only eats white meat.</td>\n",
       "      <td>0</td>\n",
       "      <td>1.0</td>\n",
       "    </tr>\n",
       "    <tr>\n",
       "      <th>175502</th>\n",
       "      <td>diese angelegenheit ist von großer wichtigkeit.</td>\n",
       "      <td>this matter is of great importance.</td>\n",
       "      <td>this watch is too a great mistake .</td>\n",
       "      <td>15</td>\n",
       "      <td>1.425661e-231</td>\n",
       "      <td>this matter is of great importance.</td>\n",
       "      <td>0</td>\n",
       "      <td>1.0</td>\n",
       "    </tr>\n",
       "  </tbody>\n",
       "</table>\n",
       "</div>"
      ],
      "text/plain": [
       "                                                  input  \\\n",
       "156788                  seine ideen sind mir zu extrem.   \n",
       "53200                          ihre antwort ist falsch.   \n",
       "145820     wir haben noch keine entscheidung getroffen.   \n",
       "88468                      tom isst nur weißes fleisch.   \n",
       "175502  diese angelegenheit ist von großer wichtigkeit.   \n",
       "\n",
       "                                     actual  \\\n",
       "156788    his ideas are too extreme for me.   \n",
       "53200                 your answer is wrong.   \n",
       "145820      we haven't made a decision yet.   \n",
       "88468             tom only eats white meat.   \n",
       "175502  this matter is of great importance.   \n",
       "\n",
       "                                  predicted  distance           bleu  \\\n",
       "156788             my friends is me of me .        23   0.000000e+00   \n",
       "53200                your answer is wrong .         1   6.868092e-78   \n",
       "145820  we ' ve ve found found chance yet .        21  1.051835e-231   \n",
       "88468                tom just eats a word .        14  1.384293e-231   \n",
       "175502  this watch is too a great mistake .        15  1.425661e-231   \n",
       "\n",
       "                             prediction_trf  distance_trf  bleu_trf  \n",
       "156788    his ideas are too extreme for me.             0       1.0  \n",
       "53200                 your answer is wrong.             0       1.0  \n",
       "145820      we haven't made a decision yet.             0       1.0  \n",
       "88468             tom only eats white meat.             0       1.0  \n",
       "175502  this matter is of great importance.             0       1.0  "
      ]
     },
     "execution_count": 44,
     "metadata": {},
     "output_type": "execute_result"
    }
   ],
   "source": [
    "# Best predictions\n",
    "pred_df.sort_values(\"bleu_trf\").tail()"
   ]
  },
  {
   "cell_type": "code",
   "execution_count": 45,
   "id": "f2bd3d93",
   "metadata": {
    "execution": {
     "iopub.execute_input": "2023-11-21T21:04:50.039252Z",
     "iopub.status.busy": "2023-11-21T21:04:50.038223Z",
     "iopub.status.idle": "2023-11-21T21:04:50.054565Z",
     "shell.execute_reply": "2023-11-21T21:04:50.053608Z"
    },
    "papermill": {
     "duration": 1.105375,
     "end_time": "2023-11-21T21:04:50.056829",
     "exception": false,
     "start_time": "2023-11-21T21:04:48.951454",
     "status": "completed"
    },
    "tags": []
   },
   "outputs": [
    {
     "data": {
      "text/html": [
       "<div>\n",
       "<style scoped>\n",
       "    .dataframe tbody tr th:only-of-type {\n",
       "        vertical-align: middle;\n",
       "    }\n",
       "\n",
       "    .dataframe tbody tr th {\n",
       "        vertical-align: top;\n",
       "    }\n",
       "\n",
       "    .dataframe thead th {\n",
       "        text-align: right;\n",
       "    }\n",
       "</style>\n",
       "<table border=\"1\" class=\"dataframe\">\n",
       "  <thead>\n",
       "    <tr style=\"text-align: right;\">\n",
       "      <th></th>\n",
       "      <th>input</th>\n",
       "      <th>actual</th>\n",
       "      <th>predicted</th>\n",
       "      <th>distance</th>\n",
       "      <th>bleu</th>\n",
       "      <th>prediction_trf</th>\n",
       "      <th>distance_trf</th>\n",
       "      <th>bleu_trf</th>\n",
       "    </tr>\n",
       "  </thead>\n",
       "  <tbody>\n",
       "    <tr>\n",
       "      <th>97553</th>\n",
       "      <td>tom sonnt sich.</td>\n",
       "      <td>tom is basking in the sun.</td>\n",
       "      <td>tom could have .</td>\n",
       "      <td>18</td>\n",
       "      <td>7.813508e-232</td>\n",
       "      <td>Tom's sunning.</td>\n",
       "      <td>17</td>\n",
       "      <td>0.0</td>\n",
       "    </tr>\n",
       "    <tr>\n",
       "      <th>72320</th>\n",
       "      <td>alle kamen mit dem schrecken davon.</td>\n",
       "      <td>everyone escaped injury.</td>\n",
       "      <td>everybody all all the the . .</td>\n",
       "      <td>19</td>\n",
       "      <td>0.000000e+00</td>\n",
       "      <td>They all got away with the frightening.</td>\n",
       "      <td>32</td>\n",
       "      <td>0.0</td>\n",
       "    </tr>\n",
       "    <tr>\n",
       "      <th>51701</th>\n",
       "      <td>tom bekam einen trockenen mund.</td>\n",
       "      <td>tom's mouth went dry.</td>\n",
       "      <td>tom got a an . .</td>\n",
       "      <td>12</td>\n",
       "      <td>0.000000e+00</td>\n",
       "      <td>Tom got a dry mouth.</td>\n",
       "      <td>16</td>\n",
       "      <td>0.0</td>\n",
       "    </tr>\n",
       "    <tr>\n",
       "      <th>98788</th>\n",
       "      <td>das tennisspielen hat uns spaß gemacht.</td>\n",
       "      <td>we enjoyed playing tennis.</td>\n",
       "      <td>that was fun us us .</td>\n",
       "      <td>22</td>\n",
       "      <td>0.000000e+00</td>\n",
       "      <td>the tennis game was fun for us.</td>\n",
       "      <td>23</td>\n",
       "      <td>0.0</td>\n",
       "    </tr>\n",
       "    <tr>\n",
       "      <th>63007</th>\n",
       "      <td>spiel nicht den helden!</td>\n",
       "      <td>don't try to be a hero.</td>\n",
       "      <td>don ' t eat the . .</td>\n",
       "      <td>13</td>\n",
       "      <td>0.000000e+00</td>\n",
       "      <td>Don't play the hero!</td>\n",
       "      <td>10</td>\n",
       "      <td>0.0</td>\n",
       "    </tr>\n",
       "  </tbody>\n",
       "</table>\n",
       "</div>"
      ],
      "text/plain": [
       "                                         input                      actual  \\\n",
       "97553                          tom sonnt sich.  tom is basking in the sun.   \n",
       "72320      alle kamen mit dem schrecken davon.    everyone escaped injury.   \n",
       "51701          tom bekam einen trockenen mund.       tom's mouth went dry.   \n",
       "98788  das tennisspielen hat uns spaß gemacht.  we enjoyed playing tennis.   \n",
       "63007                  spiel nicht den helden!     don't try to be a hero.   \n",
       "\n",
       "                           predicted  distance           bleu  \\\n",
       "97553               tom could have .        18  7.813508e-232   \n",
       "72320  everybody all all the the . .        19   0.000000e+00   \n",
       "51701               tom got a an . .        12   0.000000e+00   \n",
       "98788           that was fun us us .        22   0.000000e+00   \n",
       "63007            don ' t eat the . .        13   0.000000e+00   \n",
       "\n",
       "                                prediction_trf  distance_trf  bleu_trf  \n",
       "97553                           Tom's sunning.            17       0.0  \n",
       "72320  They all got away with the frightening.            32       0.0  \n",
       "51701                     Tom got a dry mouth.            16       0.0  \n",
       "98788          the tennis game was fun for us.            23       0.0  \n",
       "63007                     Don't play the hero!            10       0.0  "
      ]
     },
     "execution_count": 45,
     "metadata": {},
     "output_type": "execute_result"
    }
   ],
   "source": [
    "# Worst predictions\n",
    "pred_df.sort_values(\"bleu_trf\").head()"
   ]
  },
  {
   "cell_type": "code",
   "execution_count": 46,
   "id": "2bc0d9d3",
   "metadata": {
    "execution": {
     "iopub.execute_input": "2023-11-21T21:04:52.199126Z",
     "iopub.status.busy": "2023-11-21T21:04:52.198755Z",
     "iopub.status.idle": "2023-11-21T21:04:52.207874Z",
     "shell.execute_reply": "2023-11-21T21:04:52.206809Z"
    },
    "papermill": {
     "duration": 1.104095,
     "end_time": "2023-11-21T21:04:52.210219",
     "exception": false,
     "start_time": "2023-11-21T21:04:51.106124",
     "status": "completed"
    },
    "tags": []
   },
   "outputs": [
    {
     "name": "stdout",
     "output_type": "stream",
     "text": [
      "distance_trf    10.2720\n",
      "bleu_trf         0.2201\n",
      "dtype: float64\n"
     ]
    }
   ],
   "source": [
    "# Calculate mean BLEU score and edit distance\n",
    "mean_scores = pred_df[[\"distance_trf\", \"bleu_trf\"]].mean()\n",
    "print(mean_scores)"
   ]
  },
  {
   "cell_type": "markdown",
   "id": "ffbfa770",
   "metadata": {
    "papermill": {
     "duration": 1.103713,
     "end_time": "2023-11-21T21:04:54.375940",
     "exception": false,
     "start_time": "2023-11-21T21:04:53.272227",
     "status": "completed"
    },
    "tags": []
   },
   "source": [
    " **Interpret:**\n",
    "\n",
    "As spected the transformer based model performs way better."
   ]
  },
  {
   "cell_type": "code",
   "execution_count": null,
   "id": "1d651b91",
   "metadata": {
    "papermill": {
     "duration": 1.131312,
     "end_time": "2023-11-21T21:04:56.541755",
     "exception": false,
     "start_time": "2023-11-21T21:04:55.410443",
     "status": "completed"
    },
    "tags": []
   },
   "outputs": [],
   "source": []
  }
 ],
 "metadata": {
  "kaggle": {
   "accelerator": "gpu",
   "dataSources": [
    {
     "datasetId": 2666092,
     "sourceId": 4569713,
     "sourceType": "datasetVersion"
    }
   ],
   "dockerImageVersionId": 30302,
   "isGpuEnabled": true,
   "isInternetEnabled": true,
   "language": "python",
   "sourceType": "notebook"
  },
  "kernelspec": {
   "display_name": "Python 3",
   "language": "python",
   "name": "python3"
  },
  "language_info": {
   "codemirror_mode": {
    "name": "ipython",
    "version": 3
   },
   "file_extension": ".py",
   "mimetype": "text/x-python",
   "name": "python",
   "nbconvert_exporter": "python",
   "pygments_lexer": "ipython3",
   "version": "3.7.12"
  },
  "papermill": {
   "default_parameters": {},
   "duration": 1981.757419,
   "end_time": "2023-11-21T21:05:00.887356",
   "environment_variables": {},
   "exception": null,
   "input_path": "__notebook__.ipynb",
   "output_path": "__notebook__.ipynb",
   "parameters": {},
   "start_time": "2023-11-21T20:31:59.129937",
   "version": "2.3.4"
  },
  "widgets": {
   "application/vnd.jupyter.widget-state+json": {
    "state": {
     "010f501918144ea6a56528e3045fdab7": {
      "model_module": "@jupyter-widgets/controls",
      "model_module_version": "1.5.0",
      "model_name": "HTMLModel",
      "state": {
       "_dom_classes": [],
       "_model_module": "@jupyter-widgets/controls",
       "_model_module_version": "1.5.0",
       "_model_name": "HTMLModel",
       "_view_count": null,
       "_view_module": "@jupyter-widgets/controls",
       "_view_module_version": "1.5.0",
       "_view_name": "HTMLView",
       "description": "",
       "description_tooltip": null,
       "layout": "IPY_MODEL_9035b3ee2f5c48108d03347b98caaed8",
       "placeholder": "​",
       "style": "IPY_MODEL_0e9d2bbad773473389b8655808766d93",
       "value": " 778k/778k [00:00&lt;00:00, 2.75MB/s]"
      }
     },
     "014ffc36620c4fdaacd0f66c27dbab8b": {
      "model_module": "@jupyter-widgets/controls",
      "model_module_version": "1.5.0",
      "model_name": "FloatProgressModel",
      "state": {
       "_dom_classes": [],
       "_model_module": "@jupyter-widgets/controls",
       "_model_module_version": "1.5.0",
       "_model_name": "FloatProgressModel",
       "_view_count": null,
       "_view_module": "@jupyter-widgets/controls",
       "_view_module_version": "1.5.0",
       "_view_name": "ProgressView",
       "bar_style": "success",
       "description": "",
       "description_tooltip": null,
       "layout": "IPY_MODEL_c576539b1a8743c2bb728c5d38c9dce4",
       "max": 768489.0,
       "min": 0.0,
       "orientation": "horizontal",
       "style": "IPY_MODEL_661a9df0a18a4ed6bd632dec1aa91810",
       "value": 768489.0
      }
     },
     "022903330ab34d28b07e3db932a77b78": {
      "model_module": "@jupyter-widgets/base",
      "model_module_version": "1.2.0",
      "model_name": "LayoutModel",
      "state": {
       "_model_module": "@jupyter-widgets/base",
       "_model_module_version": "1.2.0",
       "_model_name": "LayoutModel",
       "_view_count": null,
       "_view_module": "@jupyter-widgets/base",
       "_view_module_version": "1.2.0",
       "_view_name": "LayoutView",
       "align_content": null,
       "align_items": null,
       "align_self": null,
       "border": null,
       "bottom": null,
       "display": null,
       "flex": null,
       "flex_flow": null,
       "grid_area": null,
       "grid_auto_columns": null,
       "grid_auto_flow": null,
       "grid_auto_rows": null,
       "grid_column": null,
       "grid_gap": null,
       "grid_row": null,
       "grid_template_areas": null,
       "grid_template_columns": null,
       "grid_template_rows": null,
       "height": null,
       "justify_content": null,
       "justify_items": null,
       "left": null,
       "margin": null,
       "max_height": null,
       "max_width": null,
       "min_height": null,
       "min_width": null,
       "object_fit": null,
       "object_position": null,
       "order": null,
       "overflow": null,
       "overflow_x": null,
       "overflow_y": null,
       "padding": null,
       "right": null,
       "top": null,
       "visibility": null,
       "width": null
      }
     },
     "02a91895773446a7a52652d52040e468": {
      "model_module": "@jupyter-widgets/base",
      "model_module_version": "1.2.0",
      "model_name": "LayoutModel",
      "state": {
       "_model_module": "@jupyter-widgets/base",
       "_model_module_version": "1.2.0",
       "_model_name": "LayoutModel",
       "_view_count": null,
       "_view_module": "@jupyter-widgets/base",
       "_view_module_version": "1.2.0",
       "_view_name": "LayoutView",
       "align_content": null,
       "align_items": null,
       "align_self": null,
       "border": null,
       "bottom": null,
       "display": null,
       "flex": null,
       "flex_flow": null,
       "grid_area": null,
       "grid_auto_columns": null,
       "grid_auto_flow": null,
       "grid_auto_rows": null,
       "grid_column": null,
       "grid_gap": null,
       "grid_row": null,
       "grid_template_areas": null,
       "grid_template_columns": null,
       "grid_template_rows": null,
       "height": null,
       "justify_content": null,
       "justify_items": null,
       "left": null,
       "margin": null,
       "max_height": null,
       "max_width": null,
       "min_height": null,
       "min_width": null,
       "object_fit": null,
       "object_position": null,
       "order": null,
       "overflow": null,
       "overflow_x": null,
       "overflow_y": null,
       "padding": null,
       "right": null,
       "top": null,
       "visibility": null,
       "width": null
      }
     },
     "04e747892343477f985eb4e93d4d80ef": {
      "model_module": "@jupyter-widgets/base",
      "model_module_version": "1.2.0",
      "model_name": "LayoutModel",
      "state": {
       "_model_module": "@jupyter-widgets/base",
       "_model_module_version": "1.2.0",
       "_model_name": "LayoutModel",
       "_view_count": null,
       "_view_module": "@jupyter-widgets/base",
       "_view_module_version": "1.2.0",
       "_view_name": "LayoutView",
       "align_content": null,
       "align_items": null,
       "align_self": null,
       "border": null,
       "bottom": null,
       "display": null,
       "flex": null,
       "flex_flow": null,
       "grid_area": null,
       "grid_auto_columns": null,
       "grid_auto_flow": null,
       "grid_auto_rows": null,
       "grid_column": null,
       "grid_gap": null,
       "grid_row": null,
       "grid_template_areas": null,
       "grid_template_columns": null,
       "grid_template_rows": null,
       "height": null,
       "justify_content": null,
       "justify_items": null,
       "left": null,
       "margin": null,
       "max_height": null,
       "max_width": null,
       "min_height": null,
       "min_width": null,
       "object_fit": null,
       "object_position": null,
       "order": null,
       "overflow": null,
       "overflow_x": null,
       "overflow_y": null,
       "padding": null,
       "right": null,
       "top": null,
       "visibility": null,
       "width": null
      }
     },
     "0e690fcc4554425dad0fa6fd94d6e61a": {
      "model_module": "@jupyter-widgets/controls",
      "model_module_version": "1.5.0",
      "model_name": "HBoxModel",
      "state": {
       "_dom_classes": [],
       "_model_module": "@jupyter-widgets/controls",
       "_model_module_version": "1.5.0",
       "_model_name": "HBoxModel",
       "_view_count": null,
       "_view_module": "@jupyter-widgets/controls",
       "_view_module_version": "1.5.0",
       "_view_name": "HBoxView",
       "box_style": "",
       "children": [
        "IPY_MODEL_6e521b685a2445d8b521df34a1afaaf4",
        "IPY_MODEL_57afa1e204bb446f88ef420e11f1b4e9",
        "IPY_MODEL_6a172ea3a3c7445dbe657dff9a6dd5f9"
       ],
       "layout": "IPY_MODEL_8cc485d5e94e43a6989560b8c85b438e"
      }
     },
     "0e9d2bbad773473389b8655808766d93": {
      "model_module": "@jupyter-widgets/controls",
      "model_module_version": "1.5.0",
      "model_name": "DescriptionStyleModel",
      "state": {
       "_model_module": "@jupyter-widgets/controls",
       "_model_module_version": "1.5.0",
       "_model_name": "DescriptionStyleModel",
       "_view_count": null,
       "_view_module": "@jupyter-widgets/base",
       "_view_module_version": "1.2.0",
       "_view_name": "StyleView",
       "description_width": ""
      }
     },
     "128c47a3c7a343a28b46a1ddf4c08697": {
      "model_module": "@jupyter-widgets/controls",
      "model_module_version": "1.5.0",
      "model_name": "HTMLModel",
      "state": {
       "_dom_classes": [],
       "_model_module": "@jupyter-widgets/controls",
       "_model_module_version": "1.5.0",
       "_model_name": "HTMLModel",
       "_view_count": null,
       "_view_module": "@jupyter-widgets/controls",
       "_view_module_version": "1.5.0",
       "_view_name": "HTMLView",
       "description": "",
       "description_tooltip": null,
       "layout": "IPY_MODEL_82a8e23270974f588eb62bbb01e0445a",
       "placeholder": "​",
       "style": "IPY_MODEL_94d55b08ef3a4a138da13fbe7f8e988b",
       "value": " 1.21M/1.21M [00:00&lt;00:00, 2.32MB/s]"
      }
     },
     "159febb05ab541eab59bbeb1bd3da199": {
      "model_module": "@jupyter-widgets/controls",
      "model_module_version": "1.5.0",
      "model_name": "ProgressStyleModel",
      "state": {
       "_model_module": "@jupyter-widgets/controls",
       "_model_module_version": "1.5.0",
       "_model_name": "ProgressStyleModel",
       "_view_count": null,
       "_view_module": "@jupyter-widgets/base",
       "_view_module_version": "1.2.0",
       "_view_name": "StyleView",
       "bar_color": null,
       "description_width": ""
      }
     },
     "15e23668afa248ef854d5dd515b41c95": {
      "model_module": "@jupyter-widgets/controls",
      "model_module_version": "1.5.0",
      "model_name": "DescriptionStyleModel",
      "state": {
       "_model_module": "@jupyter-widgets/controls",
       "_model_module_version": "1.5.0",
       "_model_name": "DescriptionStyleModel",
       "_view_count": null,
       "_view_module": "@jupyter-widgets/base",
       "_view_module_version": "1.2.0",
       "_view_name": "StyleView",
       "description_width": ""
      }
     },
     "1704cf70efdf4527ac19694eaf290e48": {
      "model_module": "@jupyter-widgets/base",
      "model_module_version": "1.2.0",
      "model_name": "LayoutModel",
      "state": {
       "_model_module": "@jupyter-widgets/base",
       "_model_module_version": "1.2.0",
       "_model_name": "LayoutModel",
       "_view_count": null,
       "_view_module": "@jupyter-widgets/base",
       "_view_module_version": "1.2.0",
       "_view_name": "LayoutView",
       "align_content": null,
       "align_items": null,
       "align_self": null,
       "border": null,
       "bottom": null,
       "display": null,
       "flex": null,
       "flex_flow": null,
       "grid_area": null,
       "grid_auto_columns": null,
       "grid_auto_flow": null,
       "grid_auto_rows": null,
       "grid_column": null,
       "grid_gap": null,
       "grid_row": null,
       "grid_template_areas": null,
       "grid_template_columns": null,
       "grid_template_rows": null,
       "height": null,
       "justify_content": null,
       "justify_items": null,
       "left": null,
       "margin": null,
       "max_height": null,
       "max_width": null,
       "min_height": null,
       "min_width": null,
       "object_fit": null,
       "object_position": null,
       "order": null,
       "overflow": null,
       "overflow_x": null,
       "overflow_y": null,
       "padding": null,
       "right": null,
       "top": null,
       "visibility": null,
       "width": null
      }
     },
     "18160e4cc4944b7daab97dca060b0419": {
      "model_module": "@jupyter-widgets/controls",
      "model_module_version": "1.5.0",
      "model_name": "HTMLModel",
      "state": {
       "_dom_classes": [],
       "_model_module": "@jupyter-widgets/controls",
       "_model_module_version": "1.5.0",
       "_model_name": "HTMLModel",
       "_view_count": null,
       "_view_module": "@jupyter-widgets/controls",
       "_view_module_version": "1.5.0",
       "_view_name": "HTMLView",
       "description": "",
       "description_tooltip": null,
       "layout": "IPY_MODEL_a61e47a978d44ac9a48383f547fa5c33",
       "placeholder": "​",
       "style": "IPY_MODEL_fef9613af3b74e8d90a65135d608baa1",
       "value": " 1.35k/1.35k [00:00&lt;00:00, 46.6kB/s]"
      }
     },
     "23eecc1ccd804e1aa582784b36e0e548": {
      "model_module": "@jupyter-widgets/base",
      "model_module_version": "1.2.0",
      "model_name": "LayoutModel",
      "state": {
       "_model_module": "@jupyter-widgets/base",
       "_model_module_version": "1.2.0",
       "_model_name": "LayoutModel",
       "_view_count": null,
       "_view_module": "@jupyter-widgets/base",
       "_view_module_version": "1.2.0",
       "_view_name": "LayoutView",
       "align_content": null,
       "align_items": null,
       "align_self": null,
       "border": null,
       "bottom": null,
       "display": null,
       "flex": null,
       "flex_flow": null,
       "grid_area": null,
       "grid_auto_columns": null,
       "grid_auto_flow": null,
       "grid_auto_rows": null,
       "grid_column": null,
       "grid_gap": null,
       "grid_row": null,
       "grid_template_areas": null,
       "grid_template_columns": null,
       "grid_template_rows": null,
       "height": null,
       "justify_content": null,
       "justify_items": null,
       "left": null,
       "margin": null,
       "max_height": null,
       "max_width": null,
       "min_height": null,
       "min_width": null,
       "object_fit": null,
       "object_position": null,
       "order": null,
       "overflow": null,
       "overflow_x": null,
       "overflow_y": null,
       "padding": null,
       "right": null,
       "top": null,
       "visibility": null,
       "width": null
      }
     },
     "28bfda9312bd4411bd97ad848c54d380": {
      "model_module": "@jupyter-widgets/controls",
      "model_module_version": "1.5.0",
      "model_name": "DescriptionStyleModel",
      "state": {
       "_model_module": "@jupyter-widgets/controls",
       "_model_module_version": "1.5.0",
       "_model_name": "DescriptionStyleModel",
       "_view_count": null,
       "_view_module": "@jupyter-widgets/base",
       "_view_module_version": "1.2.0",
       "_view_name": "StyleView",
       "description_width": ""
      }
     },
     "2e41ce521739420a8b9b7a5ed1a45562": {
      "model_module": "@jupyter-widgets/controls",
      "model_module_version": "1.5.0",
      "model_name": "HTMLModel",
      "state": {
       "_dom_classes": [],
       "_model_module": "@jupyter-widgets/controls",
       "_model_module_version": "1.5.0",
       "_model_name": "HTMLModel",
       "_view_count": null,
       "_view_module": "@jupyter-widgets/controls",
       "_view_module_version": "1.5.0",
       "_view_name": "HTMLView",
       "description": "",
       "description_tooltip": null,
       "layout": "IPY_MODEL_b713aceb8f884c9e963f4e8e69755a8d",
       "placeholder": "​",
       "style": "IPY_MODEL_fe5a8c2af145458c809bcacbd65004a2",
       "value": " 284M/284M [00:06&lt;00:00, 44.2MB/s]"
      }
     },
     "359598c343dd4b4e85fbf59338e7bb9d": {
      "model_module": "@jupyter-widgets/controls",
      "model_module_version": "1.5.0",
      "model_name": "HTMLModel",
      "state": {
       "_dom_classes": [],
       "_model_module": "@jupyter-widgets/controls",
       "_model_module_version": "1.5.0",
       "_model_name": "HTMLModel",
       "_view_count": null,
       "_view_module": "@jupyter-widgets/controls",
       "_view_module_version": "1.5.0",
       "_view_name": "HTMLView",
       "description": "",
       "description_tooltip": null,
       "layout": "IPY_MODEL_ab851ab03bf844e7a42495ff0a810ac0",
       "placeholder": "​",
       "style": "IPY_MODEL_bb2535c3c5c14ccb8da1ddc3bc7249c1",
       "value": "Downloading: 100%"
      }
     },
     "36fdfc95bc8c4856aa422416d8fe548b": {
      "model_module": "@jupyter-widgets/controls",
      "model_module_version": "1.5.0",
      "model_name": "HBoxModel",
      "state": {
       "_dom_classes": [],
       "_model_module": "@jupyter-widgets/controls",
       "_model_module_version": "1.5.0",
       "_model_name": "HBoxModel",
       "_view_count": null,
       "_view_module": "@jupyter-widgets/controls",
       "_view_module_version": "1.5.0",
       "_view_name": "HBoxView",
       "box_style": "",
       "children": [
        "IPY_MODEL_5971728346844ec1b4d44b20498c311b",
        "IPY_MODEL_014ffc36620c4fdaacd0f66c27dbab8b",
        "IPY_MODEL_3efc396695794a78abb192c7d8c40fda"
       ],
       "layout": "IPY_MODEL_1704cf70efdf4527ac19694eaf290e48"
      }
     },
     "37f0b19e46284e6ca22ff49e7903cbb8": {
      "model_module": "@jupyter-widgets/base",
      "model_module_version": "1.2.0",
      "model_name": "LayoutModel",
      "state": {
       "_model_module": "@jupyter-widgets/base",
       "_model_module_version": "1.2.0",
       "_model_name": "LayoutModel",
       "_view_count": null,
       "_view_module": "@jupyter-widgets/base",
       "_view_module_version": "1.2.0",
       "_view_name": "LayoutView",
       "align_content": null,
       "align_items": null,
       "align_self": null,
       "border": null,
       "bottom": null,
       "display": null,
       "flex": null,
       "flex_flow": null,
       "grid_area": null,
       "grid_auto_columns": null,
       "grid_auto_flow": null,
       "grid_auto_rows": null,
       "grid_column": null,
       "grid_gap": null,
       "grid_row": null,
       "grid_template_areas": null,
       "grid_template_columns": null,
       "grid_template_rows": null,
       "height": null,
       "justify_content": null,
       "justify_items": null,
       "left": null,
       "margin": null,
       "max_height": null,
       "max_width": null,
       "min_height": null,
       "min_width": null,
       "object_fit": null,
       "object_position": null,
       "order": null,
       "overflow": null,
       "overflow_x": null,
       "overflow_y": null,
       "padding": null,
       "right": null,
       "top": null,
       "visibility": null,
       "width": null
      }
     },
     "3efc396695794a78abb192c7d8c40fda": {
      "model_module": "@jupyter-widgets/controls",
      "model_module_version": "1.5.0",
      "model_name": "HTMLModel",
      "state": {
       "_dom_classes": [],
       "_model_module": "@jupyter-widgets/controls",
       "_model_module_version": "1.5.0",
       "_model_name": "HTMLModel",
       "_view_count": null,
       "_view_module": "@jupyter-widgets/controls",
       "_view_module_version": "1.5.0",
       "_view_name": "HTMLView",
       "description": "",
       "description_tooltip": null,
       "layout": "IPY_MODEL_99e44d631caf4942aed045aa2cc37991",
       "placeholder": "​",
       "style": "IPY_MODEL_79e6d6d939f24d519e5c55fd72aa871d",
       "value": " 750k/750k [00:00&lt;00:00, 9.64MB/s]"
      }
     },
     "40415516d241419a8268e00bb5885990": {
      "model_module": "@jupyter-widgets/controls",
      "model_module_version": "1.5.0",
      "model_name": "HTMLModel",
      "state": {
       "_dom_classes": [],
       "_model_module": "@jupyter-widgets/controls",
       "_model_module_version": "1.5.0",
       "_model_name": "HTMLModel",
       "_view_count": null,
       "_view_module": "@jupyter-widgets/controls",
       "_view_module_version": "1.5.0",
       "_view_name": "HTMLView",
       "description": "",
       "description_tooltip": null,
       "layout": "IPY_MODEL_8fef9ef8f7e9479f963aa854c843e027",
       "placeholder": "​",
       "style": "IPY_MODEL_997120c30ae04adfb073ed6779c4157d",
       "value": "Downloading: 100%"
      }
     },
     "42adb185e54f4e9aa34477a9a462fb76": {
      "model_module": "@jupyter-widgets/base",
      "model_module_version": "1.2.0",
      "model_name": "LayoutModel",
      "state": {
       "_model_module": "@jupyter-widgets/base",
       "_model_module_version": "1.2.0",
       "_model_name": "LayoutModel",
       "_view_count": null,
       "_view_module": "@jupyter-widgets/base",
       "_view_module_version": "1.2.0",
       "_view_name": "LayoutView",
       "align_content": null,
       "align_items": null,
       "align_self": null,
       "border": null,
       "bottom": null,
       "display": null,
       "flex": null,
       "flex_flow": null,
       "grid_area": null,
       "grid_auto_columns": null,
       "grid_auto_flow": null,
       "grid_auto_rows": null,
       "grid_column": null,
       "grid_gap": null,
       "grid_row": null,
       "grid_template_areas": null,
       "grid_template_columns": null,
       "grid_template_rows": null,
       "height": null,
       "justify_content": null,
       "justify_items": null,
       "left": null,
       "margin": null,
       "max_height": null,
       "max_width": null,
       "min_height": null,
       "min_width": null,
       "object_fit": null,
       "object_position": null,
       "order": null,
       "overflow": null,
       "overflow_x": null,
       "overflow_y": null,
       "padding": null,
       "right": null,
       "top": null,
       "visibility": null,
       "width": null
      }
     },
     "485fc87c1e3d47b4a8a9bae4ba38e57b": {
      "model_module": "@jupyter-widgets/controls",
      "model_module_version": "1.5.0",
      "model_name": "HBoxModel",
      "state": {
       "_dom_classes": [],
       "_model_module": "@jupyter-widgets/controls",
       "_model_module_version": "1.5.0",
       "_model_name": "HBoxModel",
       "_view_count": null,
       "_view_module": "@jupyter-widgets/controls",
       "_view_module_version": "1.5.0",
       "_view_name": "HBoxView",
       "box_style": "",
       "children": [
        "IPY_MODEL_4a9bfa7b36eb46a382b7931e6c9ed4c2",
        "IPY_MODEL_5e86ea16c35e496391211b78f31f8aea",
        "IPY_MODEL_2e41ce521739420a8b9b7a5ed1a45562"
       ],
       "layout": "IPY_MODEL_23eecc1ccd804e1aa582784b36e0e548"
      }
     },
     "4a9bfa7b36eb46a382b7931e6c9ed4c2": {
      "model_module": "@jupyter-widgets/controls",
      "model_module_version": "1.5.0",
      "model_name": "HTMLModel",
      "state": {
       "_dom_classes": [],
       "_model_module": "@jupyter-widgets/controls",
       "_model_module_version": "1.5.0",
       "_model_name": "HTMLModel",
       "_view_count": null,
       "_view_module": "@jupyter-widgets/controls",
       "_view_module_version": "1.5.0",
       "_view_name": "HTMLView",
       "description": "",
       "description_tooltip": null,
       "layout": "IPY_MODEL_a0ae13fe998e4cbaaa7097d8941c8850",
       "placeholder": "​",
       "style": "IPY_MODEL_28bfda9312bd4411bd97ad848c54d380",
       "value": "Downloading: 100%"
      }
     },
     "57afa1e204bb446f88ef420e11f1b4e9": {
      "model_module": "@jupyter-widgets/controls",
      "model_module_version": "1.5.0",
      "model_name": "FloatProgressModel",
      "state": {
       "_dom_classes": [],
       "_model_module": "@jupyter-widgets/controls",
       "_model_module_version": "1.5.0",
       "_model_name": "FloatProgressModel",
       "_view_count": null,
       "_view_module": "@jupyter-widgets/controls",
       "_view_module_version": "1.5.0",
       "_view_name": "ProgressView",
       "bar_style": "success",
       "description": "",
       "description_tooltip": null,
       "layout": "IPY_MODEL_f289c0775f61472ab665d48681f4fa5b",
       "max": 42.0,
       "min": 0.0,
       "orientation": "horizontal",
       "style": "IPY_MODEL_c55b738babf84d62ab0c53c1376f8f92",
       "value": 42.0
      }
     },
     "5971728346844ec1b4d44b20498c311b": {
      "model_module": "@jupyter-widgets/controls",
      "model_module_version": "1.5.0",
      "model_name": "HTMLModel",
      "state": {
       "_dom_classes": [],
       "_model_module": "@jupyter-widgets/controls",
       "_model_module_version": "1.5.0",
       "_model_name": "HTMLModel",
       "_view_count": null,
       "_view_module": "@jupyter-widgets/controls",
       "_view_module_version": "1.5.0",
       "_view_name": "HTMLView",
       "description": "",
       "description_tooltip": null,
       "layout": "IPY_MODEL_02a91895773446a7a52652d52040e468",
       "placeholder": "​",
       "style": "IPY_MODEL_ebcb31d1a1df498dbf6f59af905f2fde",
       "value": "Downloading: 100%"
      }
     },
     "5e86ea16c35e496391211b78f31f8aea": {
      "model_module": "@jupyter-widgets/controls",
      "model_module_version": "1.5.0",
      "model_name": "FloatProgressModel",
      "state": {
       "_dom_classes": [],
       "_model_module": "@jupyter-widgets/controls",
       "_model_module_version": "1.5.0",
       "_model_name": "FloatProgressModel",
       "_view_count": null,
       "_view_module": "@jupyter-widgets/controls",
       "_view_module_version": "1.5.0",
       "_view_name": "ProgressView",
       "bar_style": "success",
       "description": "",
       "description_tooltip": null,
       "layout": "IPY_MODEL_fd1495ffad05476499272cb2c81bb4d7",
       "max": 2.97928209E8,
       "min": 0.0,
       "orientation": "horizontal",
       "style": "IPY_MODEL_6b0d8098174f4ec49a5499948d26d3cc",
       "value": 2.97928209E8
      }
     },
     "661a9df0a18a4ed6bd632dec1aa91810": {
      "model_module": "@jupyter-widgets/controls",
      "model_module_version": "1.5.0",
      "model_name": "ProgressStyleModel",
      "state": {
       "_model_module": "@jupyter-widgets/controls",
       "_model_module_version": "1.5.0",
       "_model_name": "ProgressStyleModel",
       "_view_count": null,
       "_view_module": "@jupyter-widgets/base",
       "_view_module_version": "1.2.0",
       "_view_name": "StyleView",
       "bar_color": null,
       "description_width": ""
      }
     },
     "6a172ea3a3c7445dbe657dff9a6dd5f9": {
      "model_module": "@jupyter-widgets/controls",
      "model_module_version": "1.5.0",
      "model_name": "HTMLModel",
      "state": {
       "_dom_classes": [],
       "_model_module": "@jupyter-widgets/controls",
       "_model_module_version": "1.5.0",
       "_model_name": "HTMLModel",
       "_view_count": null,
       "_view_module": "@jupyter-widgets/controls",
       "_view_module_version": "1.5.0",
       "_view_name": "HTMLView",
       "description": "",
       "description_tooltip": null,
       "layout": "IPY_MODEL_022903330ab34d28b07e3db932a77b78",
       "placeholder": "​",
       "style": "IPY_MODEL_15e23668afa248ef854d5dd515b41c95",
       "value": " 42.0/42.0 [00:00&lt;00:00, 1.39kB/s]"
      }
     },
     "6a83caee12b54e4b8de29cc8a3f11723": {
      "model_module": "@jupyter-widgets/base",
      "model_module_version": "1.2.0",
      "model_name": "LayoutModel",
      "state": {
       "_model_module": "@jupyter-widgets/base",
       "_model_module_version": "1.2.0",
       "_model_name": "LayoutModel",
       "_view_count": null,
       "_view_module": "@jupyter-widgets/base",
       "_view_module_version": "1.2.0",
       "_view_name": "LayoutView",
       "align_content": null,
       "align_items": null,
       "align_self": null,
       "border": null,
       "bottom": null,
       "display": null,
       "flex": null,
       "flex_flow": null,
       "grid_area": null,
       "grid_auto_columns": null,
       "grid_auto_flow": null,
       "grid_auto_rows": null,
       "grid_column": null,
       "grid_gap": null,
       "grid_row": null,
       "grid_template_areas": null,
       "grid_template_columns": null,
       "grid_template_rows": null,
       "height": null,
       "justify_content": null,
       "justify_items": null,
       "left": null,
       "margin": null,
       "max_height": null,
       "max_width": null,
       "min_height": null,
       "min_width": null,
       "object_fit": null,
       "object_position": null,
       "order": null,
       "overflow": null,
       "overflow_x": null,
       "overflow_y": null,
       "padding": null,
       "right": null,
       "top": null,
       "visibility": null,
       "width": null
      }
     },
     "6b0d8098174f4ec49a5499948d26d3cc": {
      "model_module": "@jupyter-widgets/controls",
      "model_module_version": "1.5.0",
      "model_name": "ProgressStyleModel",
      "state": {
       "_model_module": "@jupyter-widgets/controls",
       "_model_module_version": "1.5.0",
       "_model_name": "ProgressStyleModel",
       "_view_count": null,
       "_view_module": "@jupyter-widgets/base",
       "_view_module_version": "1.2.0",
       "_view_name": "StyleView",
       "bar_color": null,
       "description_width": ""
      }
     },
     "6e521b685a2445d8b521df34a1afaaf4": {
      "model_module": "@jupyter-widgets/controls",
      "model_module_version": "1.5.0",
      "model_name": "HTMLModel",
      "state": {
       "_dom_classes": [],
       "_model_module": "@jupyter-widgets/controls",
       "_model_module_version": "1.5.0",
       "_model_name": "HTMLModel",
       "_view_count": null,
       "_view_module": "@jupyter-widgets/controls",
       "_view_module_version": "1.5.0",
       "_view_name": "HTMLView",
       "description": "",
       "description_tooltip": null,
       "layout": "IPY_MODEL_8d3f9b527cef423f8b7c5479aaf6c71a",
       "placeholder": "​",
       "style": "IPY_MODEL_fc0bd9de76a14fe7acc7c6ccc9447c13",
       "value": "Downloading: 100%"
      }
     },
     "7091c26e136c4de294798f89c41bf4c0": {
      "model_module": "@jupyter-widgets/base",
      "model_module_version": "1.2.0",
      "model_name": "LayoutModel",
      "state": {
       "_model_module": "@jupyter-widgets/base",
       "_model_module_version": "1.2.0",
       "_model_name": "LayoutModel",
       "_view_count": null,
       "_view_module": "@jupyter-widgets/base",
       "_view_module_version": "1.2.0",
       "_view_name": "LayoutView",
       "align_content": null,
       "align_items": null,
       "align_self": null,
       "border": null,
       "bottom": null,
       "display": null,
       "flex": null,
       "flex_flow": null,
       "grid_area": null,
       "grid_auto_columns": null,
       "grid_auto_flow": null,
       "grid_auto_rows": null,
       "grid_column": null,
       "grid_gap": null,
       "grid_row": null,
       "grid_template_areas": null,
       "grid_template_columns": null,
       "grid_template_rows": null,
       "height": null,
       "justify_content": null,
       "justify_items": null,
       "left": null,
       "margin": null,
       "max_height": null,
       "max_width": null,
       "min_height": null,
       "min_width": null,
       "object_fit": null,
       "object_position": null,
       "order": null,
       "overflow": null,
       "overflow_x": null,
       "overflow_y": null,
       "padding": null,
       "right": null,
       "top": null,
       "visibility": null,
       "width": null
      }
     },
     "7427897242e54cb08e1c4a7e7161b9b1": {
      "model_module": "@jupyter-widgets/controls",
      "model_module_version": "1.5.0",
      "model_name": "FloatProgressModel",
      "state": {
       "_dom_classes": [],
       "_model_module": "@jupyter-widgets/controls",
       "_model_module_version": "1.5.0",
       "_model_name": "FloatProgressModel",
       "_view_count": null,
       "_view_module": "@jupyter-widgets/controls",
       "_view_module_version": "1.5.0",
       "_view_name": "ProgressView",
       "bar_style": "success",
       "description": "",
       "description_tooltip": null,
       "layout": "IPY_MODEL_6a83caee12b54e4b8de29cc8a3f11723",
       "max": 796845.0,
       "min": 0.0,
       "orientation": "horizontal",
       "style": "IPY_MODEL_f900aef1225b4d9991dd09b488eb29ea",
       "value": 796845.0
      }
     },
     "75081a2d27884e6396c0fa9971930602": {
      "model_module": "@jupyter-widgets/controls",
      "model_module_version": "1.5.0",
      "model_name": "HTMLModel",
      "state": {
       "_dom_classes": [],
       "_model_module": "@jupyter-widgets/controls",
       "_model_module_version": "1.5.0",
       "_model_name": "HTMLModel",
       "_view_count": null,
       "_view_module": "@jupyter-widgets/controls",
       "_view_module_version": "1.5.0",
       "_view_name": "HTMLView",
       "description": "",
       "description_tooltip": null,
       "layout": "IPY_MODEL_7091c26e136c4de294798f89c41bf4c0",
       "placeholder": "​",
       "style": "IPY_MODEL_e472488d98a340f9927d7ad735856173",
       "value": "Downloading: 100%"
      }
     },
     "753546a2cdae4e27970405a0cbe67ac8": {
      "model_module": "@jupyter-widgets/controls",
      "model_module_version": "1.5.0",
      "model_name": "HBoxModel",
      "state": {
       "_dom_classes": [],
       "_model_module": "@jupyter-widgets/controls",
       "_model_module_version": "1.5.0",
       "_model_name": "HBoxModel",
       "_view_count": null,
       "_view_module": "@jupyter-widgets/controls",
       "_view_module_version": "1.5.0",
       "_view_name": "HBoxView",
       "box_style": "",
       "children": [
        "IPY_MODEL_75081a2d27884e6396c0fa9971930602",
        "IPY_MODEL_77c8c80d33914cfc87b88ed06a03b3ef",
        "IPY_MODEL_18160e4cc4944b7daab97dca060b0419"
       ],
       "layout": "IPY_MODEL_04e747892343477f985eb4e93d4d80ef"
      }
     },
     "77c8c80d33914cfc87b88ed06a03b3ef": {
      "model_module": "@jupyter-widgets/controls",
      "model_module_version": "1.5.0",
      "model_name": "FloatProgressModel",
      "state": {
       "_dom_classes": [],
       "_model_module": "@jupyter-widgets/controls",
       "_model_module_version": "1.5.0",
       "_model_name": "FloatProgressModel",
       "_view_count": null,
       "_view_module": "@jupyter-widgets/controls",
       "_view_module_version": "1.5.0",
       "_view_name": "ProgressView",
       "bar_style": "success",
       "description": "",
       "description_tooltip": null,
       "layout": "IPY_MODEL_c5a31f2f43e544cdab62b5d48ba50c20",
       "max": 1381.0,
       "min": 0.0,
       "orientation": "horizontal",
       "style": "IPY_MODEL_159febb05ab541eab59bbeb1bd3da199",
       "value": 1381.0
      }
     },
     "79e6d6d939f24d519e5c55fd72aa871d": {
      "model_module": "@jupyter-widgets/controls",
      "model_module_version": "1.5.0",
      "model_name": "DescriptionStyleModel",
      "state": {
       "_model_module": "@jupyter-widgets/controls",
       "_model_module_version": "1.5.0",
       "_model_name": "DescriptionStyleModel",
       "_view_count": null,
       "_view_module": "@jupyter-widgets/base",
       "_view_module_version": "1.2.0",
       "_view_name": "StyleView",
       "description_width": ""
      }
     },
     "82555c5a98a940c1aa451e33f173f823": {
      "model_module": "@jupyter-widgets/controls",
      "model_module_version": "1.5.0",
      "model_name": "FloatProgressModel",
      "state": {
       "_dom_classes": [],
       "_model_module": "@jupyter-widgets/controls",
       "_model_module_version": "1.5.0",
       "_model_name": "FloatProgressModel",
       "_view_count": null,
       "_view_module": "@jupyter-widgets/controls",
       "_view_module_version": "1.5.0",
       "_view_name": "ProgressView",
       "bar_style": "success",
       "description": "",
       "description_tooltip": null,
       "layout": "IPY_MODEL_42adb185e54f4e9aa34477a9a462fb76",
       "max": 1273232.0,
       "min": 0.0,
       "orientation": "horizontal",
       "style": "IPY_MODEL_a59e1225e4aa416aba36f5b76304b5d1",
       "value": 1273232.0
      }
     },
     "82a8e23270974f588eb62bbb01e0445a": {
      "model_module": "@jupyter-widgets/base",
      "model_module_version": "1.2.0",
      "model_name": "LayoutModel",
      "state": {
       "_model_module": "@jupyter-widgets/base",
       "_model_module_version": "1.2.0",
       "_model_name": "LayoutModel",
       "_view_count": null,
       "_view_module": "@jupyter-widgets/base",
       "_view_module_version": "1.2.0",
       "_view_name": "LayoutView",
       "align_content": null,
       "align_items": null,
       "align_self": null,
       "border": null,
       "bottom": null,
       "display": null,
       "flex": null,
       "flex_flow": null,
       "grid_area": null,
       "grid_auto_columns": null,
       "grid_auto_flow": null,
       "grid_auto_rows": null,
       "grid_column": null,
       "grid_gap": null,
       "grid_row": null,
       "grid_template_areas": null,
       "grid_template_columns": null,
       "grid_template_rows": null,
       "height": null,
       "justify_content": null,
       "justify_items": null,
       "left": null,
       "margin": null,
       "max_height": null,
       "max_width": null,
       "min_height": null,
       "min_width": null,
       "object_fit": null,
       "object_position": null,
       "order": null,
       "overflow": null,
       "overflow_x": null,
       "overflow_y": null,
       "padding": null,
       "right": null,
       "top": null,
       "visibility": null,
       "width": null
      }
     },
     "8cc485d5e94e43a6989560b8c85b438e": {
      "model_module": "@jupyter-widgets/base",
      "model_module_version": "1.2.0",
      "model_name": "LayoutModel",
      "state": {
       "_model_module": "@jupyter-widgets/base",
       "_model_module_version": "1.2.0",
       "_model_name": "LayoutModel",
       "_view_count": null,
       "_view_module": "@jupyter-widgets/base",
       "_view_module_version": "1.2.0",
       "_view_name": "LayoutView",
       "align_content": null,
       "align_items": null,
       "align_self": null,
       "border": null,
       "bottom": null,
       "display": null,
       "flex": null,
       "flex_flow": null,
       "grid_area": null,
       "grid_auto_columns": null,
       "grid_auto_flow": null,
       "grid_auto_rows": null,
       "grid_column": null,
       "grid_gap": null,
       "grid_row": null,
       "grid_template_areas": null,
       "grid_template_columns": null,
       "grid_template_rows": null,
       "height": null,
       "justify_content": null,
       "justify_items": null,
       "left": null,
       "margin": null,
       "max_height": null,
       "max_width": null,
       "min_height": null,
       "min_width": null,
       "object_fit": null,
       "object_position": null,
       "order": null,
       "overflow": null,
       "overflow_x": null,
       "overflow_y": null,
       "padding": null,
       "right": null,
       "top": null,
       "visibility": null,
       "width": null
      }
     },
     "8d3f9b527cef423f8b7c5479aaf6c71a": {
      "model_module": "@jupyter-widgets/base",
      "model_module_version": "1.2.0",
      "model_name": "LayoutModel",
      "state": {
       "_model_module": "@jupyter-widgets/base",
       "_model_module_version": "1.2.0",
       "_model_name": "LayoutModel",
       "_view_count": null,
       "_view_module": "@jupyter-widgets/base",
       "_view_module_version": "1.2.0",
       "_view_name": "LayoutView",
       "align_content": null,
       "align_items": null,
       "align_self": null,
       "border": null,
       "bottom": null,
       "display": null,
       "flex": null,
       "flex_flow": null,
       "grid_area": null,
       "grid_auto_columns": null,
       "grid_auto_flow": null,
       "grid_auto_rows": null,
       "grid_column": null,
       "grid_gap": null,
       "grid_row": null,
       "grid_template_areas": null,
       "grid_template_columns": null,
       "grid_template_rows": null,
       "height": null,
       "justify_content": null,
       "justify_items": null,
       "left": null,
       "margin": null,
       "max_height": null,
       "max_width": null,
       "min_height": null,
       "min_width": null,
       "object_fit": null,
       "object_position": null,
       "order": null,
       "overflow": null,
       "overflow_x": null,
       "overflow_y": null,
       "padding": null,
       "right": null,
       "top": null,
       "visibility": null,
       "width": null
      }
     },
     "8fef9ef8f7e9479f963aa854c843e027": {
      "model_module": "@jupyter-widgets/base",
      "model_module_version": "1.2.0",
      "model_name": "LayoutModel",
      "state": {
       "_model_module": "@jupyter-widgets/base",
       "_model_module_version": "1.2.0",
       "_model_name": "LayoutModel",
       "_view_count": null,
       "_view_module": "@jupyter-widgets/base",
       "_view_module_version": "1.2.0",
       "_view_name": "LayoutView",
       "align_content": null,
       "align_items": null,
       "align_self": null,
       "border": null,
       "bottom": null,
       "display": null,
       "flex": null,
       "flex_flow": null,
       "grid_area": null,
       "grid_auto_columns": null,
       "grid_auto_flow": null,
       "grid_auto_rows": null,
       "grid_column": null,
       "grid_gap": null,
       "grid_row": null,
       "grid_template_areas": null,
       "grid_template_columns": null,
       "grid_template_rows": null,
       "height": null,
       "justify_content": null,
       "justify_items": null,
       "left": null,
       "margin": null,
       "max_height": null,
       "max_width": null,
       "min_height": null,
       "min_width": null,
       "object_fit": null,
       "object_position": null,
       "order": null,
       "overflow": null,
       "overflow_x": null,
       "overflow_y": null,
       "padding": null,
       "right": null,
       "top": null,
       "visibility": null,
       "width": null
      }
     },
     "9035b3ee2f5c48108d03347b98caaed8": {
      "model_module": "@jupyter-widgets/base",
      "model_module_version": "1.2.0",
      "model_name": "LayoutModel",
      "state": {
       "_model_module": "@jupyter-widgets/base",
       "_model_module_version": "1.2.0",
       "_model_name": "LayoutModel",
       "_view_count": null,
       "_view_module": "@jupyter-widgets/base",
       "_view_module_version": "1.2.0",
       "_view_name": "LayoutView",
       "align_content": null,
       "align_items": null,
       "align_self": null,
       "border": null,
       "bottom": null,
       "display": null,
       "flex": null,
       "flex_flow": null,
       "grid_area": null,
       "grid_auto_columns": null,
       "grid_auto_flow": null,
       "grid_auto_rows": null,
       "grid_column": null,
       "grid_gap": null,
       "grid_row": null,
       "grid_template_areas": null,
       "grid_template_columns": null,
       "grid_template_rows": null,
       "height": null,
       "justify_content": null,
       "justify_items": null,
       "left": null,
       "margin": null,
       "max_height": null,
       "max_width": null,
       "min_height": null,
       "min_width": null,
       "object_fit": null,
       "object_position": null,
       "order": null,
       "overflow": null,
       "overflow_x": null,
       "overflow_y": null,
       "padding": null,
       "right": null,
       "top": null,
       "visibility": null,
       "width": null
      }
     },
     "94d55b08ef3a4a138da13fbe7f8e988b": {
      "model_module": "@jupyter-widgets/controls",
      "model_module_version": "1.5.0",
      "model_name": "DescriptionStyleModel",
      "state": {
       "_model_module": "@jupyter-widgets/controls",
       "_model_module_version": "1.5.0",
       "_model_name": "DescriptionStyleModel",
       "_view_count": null,
       "_view_module": "@jupyter-widgets/base",
       "_view_module_version": "1.2.0",
       "_view_name": "StyleView",
       "description_width": ""
      }
     },
     "997120c30ae04adfb073ed6779c4157d": {
      "model_module": "@jupyter-widgets/controls",
      "model_module_version": "1.5.0",
      "model_name": "DescriptionStyleModel",
      "state": {
       "_model_module": "@jupyter-widgets/controls",
       "_model_module_version": "1.5.0",
       "_model_name": "DescriptionStyleModel",
       "_view_count": null,
       "_view_module": "@jupyter-widgets/base",
       "_view_module_version": "1.2.0",
       "_view_name": "StyleView",
       "description_width": ""
      }
     },
     "99e44d631caf4942aed045aa2cc37991": {
      "model_module": "@jupyter-widgets/base",
      "model_module_version": "1.2.0",
      "model_name": "LayoutModel",
      "state": {
       "_model_module": "@jupyter-widgets/base",
       "_model_module_version": "1.2.0",
       "_model_name": "LayoutModel",
       "_view_count": null,
       "_view_module": "@jupyter-widgets/base",
       "_view_module_version": "1.2.0",
       "_view_name": "LayoutView",
       "align_content": null,
       "align_items": null,
       "align_self": null,
       "border": null,
       "bottom": null,
       "display": null,
       "flex": null,
       "flex_flow": null,
       "grid_area": null,
       "grid_auto_columns": null,
       "grid_auto_flow": null,
       "grid_auto_rows": null,
       "grid_column": null,
       "grid_gap": null,
       "grid_row": null,
       "grid_template_areas": null,
       "grid_template_columns": null,
       "grid_template_rows": null,
       "height": null,
       "justify_content": null,
       "justify_items": null,
       "left": null,
       "margin": null,
       "max_height": null,
       "max_width": null,
       "min_height": null,
       "min_width": null,
       "object_fit": null,
       "object_position": null,
       "order": null,
       "overflow": null,
       "overflow_x": null,
       "overflow_y": null,
       "padding": null,
       "right": null,
       "top": null,
       "visibility": null,
       "width": null
      }
     },
     "a0ae13fe998e4cbaaa7097d8941c8850": {
      "model_module": "@jupyter-widgets/base",
      "model_module_version": "1.2.0",
      "model_name": "LayoutModel",
      "state": {
       "_model_module": "@jupyter-widgets/base",
       "_model_module_version": "1.2.0",
       "_model_name": "LayoutModel",
       "_view_count": null,
       "_view_module": "@jupyter-widgets/base",
       "_view_module_version": "1.2.0",
       "_view_name": "LayoutView",
       "align_content": null,
       "align_items": null,
       "align_self": null,
       "border": null,
       "bottom": null,
       "display": null,
       "flex": null,
       "flex_flow": null,
       "grid_area": null,
       "grid_auto_columns": null,
       "grid_auto_flow": null,
       "grid_auto_rows": null,
       "grid_column": null,
       "grid_gap": null,
       "grid_row": null,
       "grid_template_areas": null,
       "grid_template_columns": null,
       "grid_template_rows": null,
       "height": null,
       "justify_content": null,
       "justify_items": null,
       "left": null,
       "margin": null,
       "max_height": null,
       "max_width": null,
       "min_height": null,
       "min_width": null,
       "object_fit": null,
       "object_position": null,
       "order": null,
       "overflow": null,
       "overflow_x": null,
       "overflow_y": null,
       "padding": null,
       "right": null,
       "top": null,
       "visibility": null,
       "width": null
      }
     },
     "a59e1225e4aa416aba36f5b76304b5d1": {
      "model_module": "@jupyter-widgets/controls",
      "model_module_version": "1.5.0",
      "model_name": "ProgressStyleModel",
      "state": {
       "_model_module": "@jupyter-widgets/controls",
       "_model_module_version": "1.5.0",
       "_model_name": "ProgressStyleModel",
       "_view_count": null,
       "_view_module": "@jupyter-widgets/base",
       "_view_module_version": "1.2.0",
       "_view_name": "StyleView",
       "bar_color": null,
       "description_width": ""
      }
     },
     "a61e47a978d44ac9a48383f547fa5c33": {
      "model_module": "@jupyter-widgets/base",
      "model_module_version": "1.2.0",
      "model_name": "LayoutModel",
      "state": {
       "_model_module": "@jupyter-widgets/base",
       "_model_module_version": "1.2.0",
       "_model_name": "LayoutModel",
       "_view_count": null,
       "_view_module": "@jupyter-widgets/base",
       "_view_module_version": "1.2.0",
       "_view_name": "LayoutView",
       "align_content": null,
       "align_items": null,
       "align_self": null,
       "border": null,
       "bottom": null,
       "display": null,
       "flex": null,
       "flex_flow": null,
       "grid_area": null,
       "grid_auto_columns": null,
       "grid_auto_flow": null,
       "grid_auto_rows": null,
       "grid_column": null,
       "grid_gap": null,
       "grid_row": null,
       "grid_template_areas": null,
       "grid_template_columns": null,
       "grid_template_rows": null,
       "height": null,
       "justify_content": null,
       "justify_items": null,
       "left": null,
       "margin": null,
       "max_height": null,
       "max_width": null,
       "min_height": null,
       "min_width": null,
       "object_fit": null,
       "object_position": null,
       "order": null,
       "overflow": null,
       "overflow_x": null,
       "overflow_y": null,
       "padding": null,
       "right": null,
       "top": null,
       "visibility": null,
       "width": null
      }
     },
     "ab851ab03bf844e7a42495ff0a810ac0": {
      "model_module": "@jupyter-widgets/base",
      "model_module_version": "1.2.0",
      "model_name": "LayoutModel",
      "state": {
       "_model_module": "@jupyter-widgets/base",
       "_model_module_version": "1.2.0",
       "_model_name": "LayoutModel",
       "_view_count": null,
       "_view_module": "@jupyter-widgets/base",
       "_view_module_version": "1.2.0",
       "_view_name": "LayoutView",
       "align_content": null,
       "align_items": null,
       "align_self": null,
       "border": null,
       "bottom": null,
       "display": null,
       "flex": null,
       "flex_flow": null,
       "grid_area": null,
       "grid_auto_columns": null,
       "grid_auto_flow": null,
       "grid_auto_rows": null,
       "grid_column": null,
       "grid_gap": null,
       "grid_row": null,
       "grid_template_areas": null,
       "grid_template_columns": null,
       "grid_template_rows": null,
       "height": null,
       "justify_content": null,
       "justify_items": null,
       "left": null,
       "margin": null,
       "max_height": null,
       "max_width": null,
       "min_height": null,
       "min_width": null,
       "object_fit": null,
       "object_position": null,
       "order": null,
       "overflow": null,
       "overflow_x": null,
       "overflow_y": null,
       "padding": null,
       "right": null,
       "top": null,
       "visibility": null,
       "width": null
      }
     },
     "b713aceb8f884c9e963f4e8e69755a8d": {
      "model_module": "@jupyter-widgets/base",
      "model_module_version": "1.2.0",
      "model_name": "LayoutModel",
      "state": {
       "_model_module": "@jupyter-widgets/base",
       "_model_module_version": "1.2.0",
       "_model_name": "LayoutModel",
       "_view_count": null,
       "_view_module": "@jupyter-widgets/base",
       "_view_module_version": "1.2.0",
       "_view_name": "LayoutView",
       "align_content": null,
       "align_items": null,
       "align_self": null,
       "border": null,
       "bottom": null,
       "display": null,
       "flex": null,
       "flex_flow": null,
       "grid_area": null,
       "grid_auto_columns": null,
       "grid_auto_flow": null,
       "grid_auto_rows": null,
       "grid_column": null,
       "grid_gap": null,
       "grid_row": null,
       "grid_template_areas": null,
       "grid_template_columns": null,
       "grid_template_rows": null,
       "height": null,
       "justify_content": null,
       "justify_items": null,
       "left": null,
       "margin": null,
       "max_height": null,
       "max_width": null,
       "min_height": null,
       "min_width": null,
       "object_fit": null,
       "object_position": null,
       "order": null,
       "overflow": null,
       "overflow_x": null,
       "overflow_y": null,
       "padding": null,
       "right": null,
       "top": null,
       "visibility": null,
       "width": null
      }
     },
     "bb2535c3c5c14ccb8da1ddc3bc7249c1": {
      "model_module": "@jupyter-widgets/controls",
      "model_module_version": "1.5.0",
      "model_name": "DescriptionStyleModel",
      "state": {
       "_model_module": "@jupyter-widgets/controls",
       "_model_module_version": "1.5.0",
       "_model_name": "DescriptionStyleModel",
       "_view_count": null,
       "_view_module": "@jupyter-widgets/base",
       "_view_module_version": "1.2.0",
       "_view_name": "StyleView",
       "description_width": ""
      }
     },
     "c55b738babf84d62ab0c53c1376f8f92": {
      "model_module": "@jupyter-widgets/controls",
      "model_module_version": "1.5.0",
      "model_name": "ProgressStyleModel",
      "state": {
       "_model_module": "@jupyter-widgets/controls",
       "_model_module_version": "1.5.0",
       "_model_name": "ProgressStyleModel",
       "_view_count": null,
       "_view_module": "@jupyter-widgets/base",
       "_view_module_version": "1.2.0",
       "_view_name": "StyleView",
       "bar_color": null,
       "description_width": ""
      }
     },
     "c576539b1a8743c2bb728c5d38c9dce4": {
      "model_module": "@jupyter-widgets/base",
      "model_module_version": "1.2.0",
      "model_name": "LayoutModel",
      "state": {
       "_model_module": "@jupyter-widgets/base",
       "_model_module_version": "1.2.0",
       "_model_name": "LayoutModel",
       "_view_count": null,
       "_view_module": "@jupyter-widgets/base",
       "_view_module_version": "1.2.0",
       "_view_name": "LayoutView",
       "align_content": null,
       "align_items": null,
       "align_self": null,
       "border": null,
       "bottom": null,
       "display": null,
       "flex": null,
       "flex_flow": null,
       "grid_area": null,
       "grid_auto_columns": null,
       "grid_auto_flow": null,
       "grid_auto_rows": null,
       "grid_column": null,
       "grid_gap": null,
       "grid_row": null,
       "grid_template_areas": null,
       "grid_template_columns": null,
       "grid_template_rows": null,
       "height": null,
       "justify_content": null,
       "justify_items": null,
       "left": null,
       "margin": null,
       "max_height": null,
       "max_width": null,
       "min_height": null,
       "min_width": null,
       "object_fit": null,
       "object_position": null,
       "order": null,
       "overflow": null,
       "overflow_x": null,
       "overflow_y": null,
       "padding": null,
       "right": null,
       "top": null,
       "visibility": null,
       "width": null
      }
     },
     "c5a31f2f43e544cdab62b5d48ba50c20": {
      "model_module": "@jupyter-widgets/base",
      "model_module_version": "1.2.0",
      "model_name": "LayoutModel",
      "state": {
       "_model_module": "@jupyter-widgets/base",
       "_model_module_version": "1.2.0",
       "_model_name": "LayoutModel",
       "_view_count": null,
       "_view_module": "@jupyter-widgets/base",
       "_view_module_version": "1.2.0",
       "_view_name": "LayoutView",
       "align_content": null,
       "align_items": null,
       "align_self": null,
       "border": null,
       "bottom": null,
       "display": null,
       "flex": null,
       "flex_flow": null,
       "grid_area": null,
       "grid_auto_columns": null,
       "grid_auto_flow": null,
       "grid_auto_rows": null,
       "grid_column": null,
       "grid_gap": null,
       "grid_row": null,
       "grid_template_areas": null,
       "grid_template_columns": null,
       "grid_template_rows": null,
       "height": null,
       "justify_content": null,
       "justify_items": null,
       "left": null,
       "margin": null,
       "max_height": null,
       "max_width": null,
       "min_height": null,
       "min_width": null,
       "object_fit": null,
       "object_position": null,
       "order": null,
       "overflow": null,
       "overflow_x": null,
       "overflow_y": null,
       "padding": null,
       "right": null,
       "top": null,
       "visibility": null,
       "width": null
      }
     },
     "d89f8ecb80014a148fd8cebf995e42dd": {
      "model_module": "@jupyter-widgets/controls",
      "model_module_version": "1.5.0",
      "model_name": "HBoxModel",
      "state": {
       "_dom_classes": [],
       "_model_module": "@jupyter-widgets/controls",
       "_model_module_version": "1.5.0",
       "_model_name": "HBoxModel",
       "_view_count": null,
       "_view_module": "@jupyter-widgets/controls",
       "_view_module_version": "1.5.0",
       "_view_name": "HBoxView",
       "box_style": "",
       "children": [
        "IPY_MODEL_359598c343dd4b4e85fbf59338e7bb9d",
        "IPY_MODEL_7427897242e54cb08e1c4a7e7161b9b1",
        "IPY_MODEL_010f501918144ea6a56528e3045fdab7"
       ],
       "layout": "IPY_MODEL_37f0b19e46284e6ca22ff49e7903cbb8"
      }
     },
     "e472488d98a340f9927d7ad735856173": {
      "model_module": "@jupyter-widgets/controls",
      "model_module_version": "1.5.0",
      "model_name": "DescriptionStyleModel",
      "state": {
       "_model_module": "@jupyter-widgets/controls",
       "_model_module_version": "1.5.0",
       "_model_name": "DescriptionStyleModel",
       "_view_count": null,
       "_view_module": "@jupyter-widgets/base",
       "_view_module_version": "1.2.0",
       "_view_name": "StyleView",
       "description_width": ""
      }
     },
     "ebcb31d1a1df498dbf6f59af905f2fde": {
      "model_module": "@jupyter-widgets/controls",
      "model_module_version": "1.5.0",
      "model_name": "DescriptionStyleModel",
      "state": {
       "_model_module": "@jupyter-widgets/controls",
       "_model_module_version": "1.5.0",
       "_model_name": "DescriptionStyleModel",
       "_view_count": null,
       "_view_module": "@jupyter-widgets/base",
       "_view_module_version": "1.2.0",
       "_view_name": "StyleView",
       "description_width": ""
      }
     },
     "f1133d621f64440b8db1975bedbc8c90": {
      "model_module": "@jupyter-widgets/base",
      "model_module_version": "1.2.0",
      "model_name": "LayoutModel",
      "state": {
       "_model_module": "@jupyter-widgets/base",
       "_model_module_version": "1.2.0",
       "_model_name": "LayoutModel",
       "_view_count": null,
       "_view_module": "@jupyter-widgets/base",
       "_view_module_version": "1.2.0",
       "_view_name": "LayoutView",
       "align_content": null,
       "align_items": null,
       "align_self": null,
       "border": null,
       "bottom": null,
       "display": null,
       "flex": null,
       "flex_flow": null,
       "grid_area": null,
       "grid_auto_columns": null,
       "grid_auto_flow": null,
       "grid_auto_rows": null,
       "grid_column": null,
       "grid_gap": null,
       "grid_row": null,
       "grid_template_areas": null,
       "grid_template_columns": null,
       "grid_template_rows": null,
       "height": null,
       "justify_content": null,
       "justify_items": null,
       "left": null,
       "margin": null,
       "max_height": null,
       "max_width": null,
       "min_height": null,
       "min_width": null,
       "object_fit": null,
       "object_position": null,
       "order": null,
       "overflow": null,
       "overflow_x": null,
       "overflow_y": null,
       "padding": null,
       "right": null,
       "top": null,
       "visibility": null,
       "width": null
      }
     },
     "f289c0775f61472ab665d48681f4fa5b": {
      "model_module": "@jupyter-widgets/base",
      "model_module_version": "1.2.0",
      "model_name": "LayoutModel",
      "state": {
       "_model_module": "@jupyter-widgets/base",
       "_model_module_version": "1.2.0",
       "_model_name": "LayoutModel",
       "_view_count": null,
       "_view_module": "@jupyter-widgets/base",
       "_view_module_version": "1.2.0",
       "_view_name": "LayoutView",
       "align_content": null,
       "align_items": null,
       "align_self": null,
       "border": null,
       "bottom": null,
       "display": null,
       "flex": null,
       "flex_flow": null,
       "grid_area": null,
       "grid_auto_columns": null,
       "grid_auto_flow": null,
       "grid_auto_rows": null,
       "grid_column": null,
       "grid_gap": null,
       "grid_row": null,
       "grid_template_areas": null,
       "grid_template_columns": null,
       "grid_template_rows": null,
       "height": null,
       "justify_content": null,
       "justify_items": null,
       "left": null,
       "margin": null,
       "max_height": null,
       "max_width": null,
       "min_height": null,
       "min_width": null,
       "object_fit": null,
       "object_position": null,
       "order": null,
       "overflow": null,
       "overflow_x": null,
       "overflow_y": null,
       "padding": null,
       "right": null,
       "top": null,
       "visibility": null,
       "width": null
      }
     },
     "f80bd9ed862f4c45a074c1b9d722fbb9": {
      "model_module": "@jupyter-widgets/controls",
      "model_module_version": "1.5.0",
      "model_name": "HBoxModel",
      "state": {
       "_dom_classes": [],
       "_model_module": "@jupyter-widgets/controls",
       "_model_module_version": "1.5.0",
       "_model_name": "HBoxModel",
       "_view_count": null,
       "_view_module": "@jupyter-widgets/controls",
       "_view_module_version": "1.5.0",
       "_view_name": "HBoxView",
       "box_style": "",
       "children": [
        "IPY_MODEL_40415516d241419a8268e00bb5885990",
        "IPY_MODEL_82555c5a98a940c1aa451e33f173f823",
        "IPY_MODEL_128c47a3c7a343a28b46a1ddf4c08697"
       ],
       "layout": "IPY_MODEL_f1133d621f64440b8db1975bedbc8c90"
      }
     },
     "f900aef1225b4d9991dd09b488eb29ea": {
      "model_module": "@jupyter-widgets/controls",
      "model_module_version": "1.5.0",
      "model_name": "ProgressStyleModel",
      "state": {
       "_model_module": "@jupyter-widgets/controls",
       "_model_module_version": "1.5.0",
       "_model_name": "ProgressStyleModel",
       "_view_count": null,
       "_view_module": "@jupyter-widgets/base",
       "_view_module_version": "1.2.0",
       "_view_name": "StyleView",
       "bar_color": null,
       "description_width": ""
      }
     },
     "fc0bd9de76a14fe7acc7c6ccc9447c13": {
      "model_module": "@jupyter-widgets/controls",
      "model_module_version": "1.5.0",
      "model_name": "DescriptionStyleModel",
      "state": {
       "_model_module": "@jupyter-widgets/controls",
       "_model_module_version": "1.5.0",
       "_model_name": "DescriptionStyleModel",
       "_view_count": null,
       "_view_module": "@jupyter-widgets/base",
       "_view_module_version": "1.2.0",
       "_view_name": "StyleView",
       "description_width": ""
      }
     },
     "fd1495ffad05476499272cb2c81bb4d7": {
      "model_module": "@jupyter-widgets/base",
      "model_module_version": "1.2.0",
      "model_name": "LayoutModel",
      "state": {
       "_model_module": "@jupyter-widgets/base",
       "_model_module_version": "1.2.0",
       "_model_name": "LayoutModel",
       "_view_count": null,
       "_view_module": "@jupyter-widgets/base",
       "_view_module_version": "1.2.0",
       "_view_name": "LayoutView",
       "align_content": null,
       "align_items": null,
       "align_self": null,
       "border": null,
       "bottom": null,
       "display": null,
       "flex": null,
       "flex_flow": null,
       "grid_area": null,
       "grid_auto_columns": null,
       "grid_auto_flow": null,
       "grid_auto_rows": null,
       "grid_column": null,
       "grid_gap": null,
       "grid_row": null,
       "grid_template_areas": null,
       "grid_template_columns": null,
       "grid_template_rows": null,
       "height": null,
       "justify_content": null,
       "justify_items": null,
       "left": null,
       "margin": null,
       "max_height": null,
       "max_width": null,
       "min_height": null,
       "min_width": null,
       "object_fit": null,
       "object_position": null,
       "order": null,
       "overflow": null,
       "overflow_x": null,
       "overflow_y": null,
       "padding": null,
       "right": null,
       "top": null,
       "visibility": null,
       "width": null
      }
     },
     "fe5a8c2af145458c809bcacbd65004a2": {
      "model_module": "@jupyter-widgets/controls",
      "model_module_version": "1.5.0",
      "model_name": "DescriptionStyleModel",
      "state": {
       "_model_module": "@jupyter-widgets/controls",
       "_model_module_version": "1.5.0",
       "_model_name": "DescriptionStyleModel",
       "_view_count": null,
       "_view_module": "@jupyter-widgets/base",
       "_view_module_version": "1.2.0",
       "_view_name": "StyleView",
       "description_width": ""
      }
     },
     "fef9613af3b74e8d90a65135d608baa1": {
      "model_module": "@jupyter-widgets/controls",
      "model_module_version": "1.5.0",
      "model_name": "DescriptionStyleModel",
      "state": {
       "_model_module": "@jupyter-widgets/controls",
       "_model_module_version": "1.5.0",
       "_model_name": "DescriptionStyleModel",
       "_view_count": null,
       "_view_module": "@jupyter-widgets/base",
       "_view_module_version": "1.2.0",
       "_view_name": "StyleView",
       "description_width": ""
      }
     }
    },
    "version_major": 2,
    "version_minor": 0
   }
  }
 },
 "nbformat": 4,
 "nbformat_minor": 5
}
